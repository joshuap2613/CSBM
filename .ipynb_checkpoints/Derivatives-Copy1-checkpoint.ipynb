{
 "cells": [
  {
   "cell_type": "code",
   "execution_count": 1,
   "metadata": {},
   "outputs": [],
   "source": [
    "import pandas as pd\n",
    "import numpy as np\n",
    "\n",
    "import networkx as nx\n",
    "import matplotlib.pyplot as plt\n",
    "import netwulf as nw\n",
    "from scipy.optimize import minimize"
   ]
  },
  {
   "cell_type": "code",
   "execution_count": 2,
   "metadata": {},
   "outputs": [],
   "source": [
    "#given \"points\" with labels a and b we can assign probability of an edge between them\n",
    "def basic_func(a,b):\n",
    "    if a == b:\n",
    "        return .8\n",
    "    else:\n",
    "        return .2\n",
    "\n",
    "def basic_func2(a,b):\n",
    "    if a == 1 and b == 1:\n",
    "        return .8\n",
    "    if a == 0 and b == 0:\n",
    "        return .6\n",
    "    else:\n",
    "        return .2    \n",
    "    \n",
    "def create_graph(num_nodes, labels, func):\n",
    "    G = nx.Graph()\n",
    "    for i in range(num_nodes):\n",
    "        G.add_node(i, group=labels[i])\n",
    "        for j in range(i):\n",
    "            if func(labels[i], labels[j]) != func(labels[j],labels[i]):\n",
    "                print(\"WARNING, asymetric function\")\n",
    "            if np.random.rand() < func(labels[i], labels[j]):\n",
    "                G.add_edge(i, j)\n",
    "    return G\n",
    "def create_transition_matrix(labels, func):\n",
    "    matrix = []\n",
    "    for i in range(len(labels)):\n",
    "        arr = []\n",
    "        for j in range(len(labels)):\n",
    "            if func(labels[i], labels[j]) != func(labels[j],labels[i]):\n",
    "                print(\"WARNING, asymetric function\")\n",
    "            arr.append(func(labels[i], labels[j]))\n",
    "        matrix.append(arr)\n",
    "    return np.array(matrix)"
   ]
  },
  {
   "cell_type": "code",
   "execution_count": 3,
   "metadata": {},
   "outputs": [
    {
     "data": {
      "image/png": "[encoded data removed]",
      "text/plain": [
       "<Figure size 432x288 with 1 Axes>"
      ]
     },
     "metadata": {},
     "output_type": "display_data"
    }
   ],
   "source": [
    "n = 8\n",
    "G = create_graph(n, np.random.randint(2,size=8), basic_func)\n",
    "nx.draw(G, with_labels=True, font_weight='bold')"
   ]
  },
  {
   "cell_type": "code",
   "execution_count": 4,
   "metadata": {},
   "outputs": [
    {
     "data": {
      "text/plain": [
       "array([[0., 0., 0., 1., 1., 0., 1., 1.],\n",
       "       [0., 0., 1., 1., 0., 0., 0., 1.],\n",
       "       [0., 1., 0., 1., 0., 1., 1., 0.],\n",
       "       [1., 1., 1., 0., 1., 0., 1., 0.],\n",
       "       [1., 0., 0., 1., 0., 1., 0., 0.],\n",
       "       [0., 0., 1., 0., 1., 0., 0., 0.],\n",
       "       [1., 0., 1., 1., 0., 0., 0., 1.],\n",
       "       [1., 1., 0., 0., 0., 0., 1., 0.]])"
      ]
     },
     "execution_count": 4,
     "metadata": {},
     "output_type": "execute_result"
    }
   ],
   "source": [
    "nx.to_numpy_array(G)"
   ]
  },
  {
   "cell_type": "code",
   "execution_count": 5,
   "metadata": {},
   "outputs": [],
   "source": [
    "#input is a numpy array of labels\n",
    "def sigmoid(x):\n",
    "     return 1 / (1 + np.exp(-x))\n",
    "def sigmoid_prime(x):\n",
    "     return np.exp(x) / np.square(1 + np.exp(x))\n",
    "def fit_matrix(labels):\n",
    "    array = labels.T @ labels\n",
    "    return sigmoid(array)\n",
    "def matrix_log_likelihood(sample,X):\n",
    "    sample_complement= 1-sample - np.identity(sample.shape[0])\n",
    "    return np.sum(np.multiply(sample, np.log(X)) + np.multiply(sample_complement, np.log(1-X)))/sample.shape[0]**2\n",
    "def log_likelihood(sample,labels):\n",
    "    sample_complement= 1-sample - np.identity(sample.shape[0])\n",
    "    #print(\"sample\",sample)\n",
    "    #print(\"compliment\",sample_complement)\n",
    "    X = fit_matrix(labels)\n",
    "    #print(X)\n",
    "    log_errs = np.multiply(sample, np.log(X)) + np.multiply(sample_complement, np.log(1-X))\n",
    "    #print(log_errs)\n",
    "    return np.sum(log_errs)/sample.shape[0]**2"
   ]
  },
  {
   "cell_type": "code",
   "execution_count": 6,
   "metadata": {},
   "outputs": [
    {
     "data": {
      "text/plain": [
       "-0.6258823613323983"
      ]
     },
     "execution_count": 6,
     "metadata": {},
     "output_type": "execute_result"
    }
   ],
   "source": [
    "s = np.array([[0.73105858, 0.11920292, 0.73105858, 0.01798621],\n",
    "       [0.11920292, 0.98201379, 0.11920292, 0.99966465],\n",
    "       [0.73105858, 0.11920292, 0.73105858, 0.01798621],\n",
    "       [0.01798621, 0.99966465, 0.01798621, 0.99999989]])\n",
    "M = nx.to_numpy_array(G)\n",
    "\n",
    "log_likelihood(M, np.array([[1,1,0,0,0,0,0,0]]))"
   ]
  },
  {
   "cell_type": "code",
   "execution_count": 7,
   "metadata": {},
   "outputs": [
    {
     "data": {
      "text/plain": [
       "array([[0.73105858, 0.11920292, 0.73105858, 0.01798621],\n",
       "       [0.11920292, 0.98201379, 0.11920292, 0.99966465],\n",
       "       [0.73105858, 0.11920292, 0.73105858, 0.01798621],\n",
       "       [0.01798621, 0.99966465, 0.01798621, 0.99999989]])"
      ]
     },
     "execution_count": 7,
     "metadata": {},
     "output_type": "execute_result"
    }
   ],
   "source": [
    "fit_matrix(np.array([[-1,2,-1,4]]))"
   ]
  },
  {
   "cell_type": "code",
   "execution_count": 8,
   "metadata": {},
   "outputs": [
    {
     "data": {
      "text/plain": [
       "array([[ 2,  3,  4,  5],\n",
       "       [ 3,  5,  7,  9],\n",
       "       [ 4,  7, 10, 13],\n",
       "       [ 5,  9, 13, 17]])"
      ]
     },
     "execution_count": 8,
     "metadata": {},
     "output_type": "execute_result"
    }
   ],
   "source": [
    "np.array([[1,2,3,4]]).T *np.array([[1,2,3,4]]) + np.array([[1,1,1,1]]).T *np.array([[1,1,1,1]])"
   ]
  },
  {
   "cell_type": "code",
   "execution_count": 9,
   "metadata": {},
   "outputs": [
    {
     "data": {
      "text/plain": [
       "array([[ 2,  3,  4,  5],\n",
       "       [ 3,  5,  7,  9],\n",
       "       [ 4,  7, 10, 13],\n",
       "       [ 5,  9, 13, 17]])"
      ]
     },
     "execution_count": 9,
     "metadata": {},
     "output_type": "execute_result"
    }
   ],
   "source": [
    "(np.array([[1,2,3,4],[1,1,1,1]])).T @ np.array([[1,2,3,4],[1,1,1,1]])"
   ]
  },
  {
   "cell_type": "code",
   "execution_count": 10,
   "metadata": {},
   "outputs": [],
   "source": [
    "def derivative(row, sample, labels):\n",
    "    sample_complement= 1-sample - np.identity(sample.shape[0])\n",
    "    #print(\"sample\",sample)\n",
    "    #print(\"compliment\",sample_complement)\n",
    "    X = fit_matrix(labels)\n",
    "    X_prime = sigmoid_prime(labels.T@labels)\n",
    "    #print(\"mins\",np.min(X), np.min(X_prime))\n",
    "    #print(\"X\",X)\n",
    "    #print(\"1-X\", 1-X)\n",
    "    \n",
    "    \n",
    "    #sample_errs= np.divide(X_prime,X)* labels[[row]].T[:None]\n",
    "    sample_errs= (1-X)* labels[[row]].T[:None]\n",
    "    #print(\"sample errors\")\n",
    "    #print(sample_errs)\n",
    "    \n",
    "    #complement_errs = -np.divide(X_prime,1-X)* labels[[row]].T[:None]\n",
    "    complement_errs = -X* labels[[row]].T[:None]\n",
    "    deriv_errs = np.multiply(sample, sample_errs) + np.multiply(sample_complement, complement_errs)\n",
    "    #print(deriv_errs)\n",
    "    return 2*np.sum(deriv_errs, axis=0)/sample.shape[0]**2"
   ]
  },
  {
   "cell_type": "code",
   "execution_count": 11,
   "metadata": {},
   "outputs": [],
   "source": [
    "def all_derivative(sample,labels):\n",
    "    derivatives = []\n",
    "    for row in range(labels.shape[0]):\n",
    "        derivatives.append(derivative(row,sample,labels))\n",
    "    return np.array(derivatives)"
   ]
  },
  {
   "cell_type": "code",
   "execution_count": 12,
   "metadata": {},
   "outputs": [],
   "source": [
    "def orthogonal_loss(labels):\n",
    "    n = len(labels[0])\n",
    "    m = labels@labels.T\n",
    "    np.fill_diagonal(m,0)\n",
    "    return np.linalg.norm(m,'fro')**2/n**2"
   ]
  },
  {
   "cell_type": "code",
   "execution_count": 13,
   "metadata": {},
   "outputs": [],
   "source": [
    "test_labels = np.array([[1,2,3,3,3],[1,1,1,1,1]])\n",
    "test_deviation = np.array([[1,2,3,3,3],[1,1,1,1.001,1]])"
   ]
  },
  {
   "cell_type": "code",
   "execution_count": 14,
   "metadata": {},
   "outputs": [
    {
     "data": {
      "text/plain": [
       "5.760720000003161"
      ]
     },
     "execution_count": 14,
     "metadata": {},
     "output_type": "execute_result"
    }
   ],
   "source": [
    "(orthogonal_loss(test_deviation)-orthogonal_loss(test_labels))/.001"
   ]
  },
  {
   "cell_type": "code",
   "execution_count": 396,
   "metadata": {},
   "outputs": [
    {
     "data": {
      "text/plain": [
       "array([[1.92, 1.92, 1.92, 1.92, 1.92],\n",
       "       [1.92, 3.84, 5.76, 5.76, 5.76]])"
      ]
     },
     "execution_count": 396,
     "metadata": {},
     "output_type": "execute_result"
    }
   ],
   "source": [
    "all_orthogonal_derivatives(test_labels)"
   ]
  },
  {
   "cell_type": "code",
   "execution_count": 328,
   "metadata": {},
   "outputs": [],
   "source": [
    "np.fill_diagonal(label@label.T,0)"
   ]
  },
  {
   "cell_type": "code",
   "execution_count": 329,
   "metadata": {},
   "outputs": [
    {
     "data": {
      "text/plain": [
       "0.2431281841405965"
      ]
     },
     "execution_count": 329,
     "metadata": {},
     "output_type": "execute_result"
    }
   ],
   "source": [
    "orthogonal_loss(label)"
   ]
  },
  {
   "cell_type": "code",
   "execution_count": 392,
   "metadata": {},
   "outputs": [],
   "source": [
    "def orthogonal_derivative(row, labels):\n",
    "    n = len(labels[0])\n",
    "    m = labels@labels.T\n",
    "    np.fill_diagonal(m,0)\n",
    "    return (m[[row]]@labels)[0]*4/n**2\n",
    "def all_orthogonal_derivatives(labels):\n",
    "    derivatives = []\n",
    "    for row in range(labels.shape[0]):\n",
    "        derivatives.append(orthogonal_derivative(row,labels))\n",
    "    return np.array(derivatives)"
   ]
  },
  {
   "cell_type": "code",
   "execution_count": 344,
   "metadata": {},
   "outputs": [
    {
     "data": {
      "text/plain": [
       "(2, 1000)"
      ]
     },
     "execution_count": 344,
     "metadata": {},
     "output_type": "execute_result"
    }
   ],
   "source": [
    "all_orthogonal_derivatives(label).shape"
   ]
  },
  {
   "cell_type": "code",
   "execution_count": 17,
   "metadata": {},
   "outputs": [
    {
     "data": {
      "text/plain": [
       "array([[ 0.        ,  0.03125   ,  0.00840442,  0.00840442,  0.        ,\n",
       "        -0.00722058,  0.02402942, -0.03125   ],\n",
       "       [-0.015625  , -0.015625  ,  0.01680884,  0.00840442, -0.015625  ,\n",
       "        -0.01444116, -0.01444116, -0.015625  ]])"
      ]
     },
     "execution_count": 17,
     "metadata": {},
     "output_type": "execute_result"
    }
   ],
   "source": [
    "all_derivative(M, np.array([[0,0,1,1,0,0,0,0], [0,0,1,0,0,1,1,0]]))"
   ]
  },
  {
   "cell_type": "code",
   "execution_count": 159,
   "metadata": {},
   "outputs": [
    {
     "data": {
      "text/plain": [
       "array([[ 5.04189211e-01,  3.90886109e-01,  8.10961894e-01,\n",
       "        -4.06587353e+00,  6.48083050e-01],\n",
       "       [ 1.28830173e+00,  4.00941785e-03,  1.00034903e+00,\n",
       "         2.32496980e-01, -1.14597684e+00]])"
      ]
     },
     "execution_count": 159,
     "metadata": {},
     "output_type": "execute_result"
    }
   ],
   "source": [
    "np.random.logistic(size=10).reshape(2,5)"
   ]
  },
  {
   "cell_type": "code",
   "execution_count": 515,
   "metadata": {},
   "outputs": [],
   "source": [
    "def grad_descent(M, num_labels = 2, step_size = lambda x: 1, num_steps = 1000):\n",
    "    n = len(M)\n",
    "    #initialize labels\n",
    "    cur_labels = np.random.logistic(size=num_labels*n).reshape(num_labels,n)\n",
    "    for i in range(num_steps):\n",
    "        deriv = all_derivative(M, cur_labels)\n",
    "        if np.isnan(deriv).any():\n",
    "            #print(\"maydayyyyyy\")\n",
    "            print(repr(cur_labels))\n",
    "            return\n",
    "        deriv = deriv / deriv.sum(axis=1, keepdims=True)\n",
    "        cur_labels += deriv*step_size(i)\n",
    "        cur_labels = np.clip(cur_labels,-3,3)\n",
    "        print(i, log_likelihood(M,cur_labels))\n",
    "    return cur_labels\n",
    "        "
   ]
  },
  {
   "cell_type": "code",
   "execution_count": 426,
   "metadata": {},
   "outputs": [],
   "source": [
    "def lambda_grad_descent(M, num_labels = 2, step_size = lambda x: 1, num_steps = 1000, l = lambda x: 10):\n",
    "    n = len(M)\n",
    "    #initialize labels\n",
    "    cur_labels = np.random.logistic(size=num_labels*n).reshape(num_labels,n)\n",
    "    for i in range(num_steps):\n",
    "        deriv = all_derivative(M, cur_labels) - l(i) *all_orthogonal_derivatives(cur_labels)\n",
    "        if np.isnan(deriv).any():\n",
    "            #print(\"maydayyyyyy\")\n",
    "            print(repr(cur_labels))\n",
    "            return\n",
    "        cur_labels += deriv*step_size(i)\n",
    "        cur_labels = np.clip(cur_labels,-4,4)\n",
    "        print(i, log_likelihood(M,cur_labels) + orthogonal_loss(cur_labels))\n",
    "    return cur_labels"
   ]
  },
  {
   "cell_type": "code",
   "execution_count": 245,
   "metadata": {},
   "outputs": [
    {
     "name": "stdout",
     "output_type": "stream",
     "text": [
      "array([20, 20])\n"
     ]
    }
   ],
   "source": [
    "print(repr(np.array([20,20])))"
   ]
  },
  {
   "cell_type": "code",
   "execution_count": 492,
   "metadata": {},
   "outputs": [],
   "source": [
    "true_labels = np.random.randint(2,size=2000)\n",
    "\n",
    "n = 2000\n",
    "G = create_graph(n, true_labels, basic_func2)\n",
    "A = nx.to_numpy_array(G)\n",
    "T = create_transition_matrix(true_labels, basic_func2)"
   ]
  },
  {
   "cell_type": "code",
   "execution_count": 469,
   "metadata": {},
   "outputs": [
    {
     "data": {
      "text/plain": [
       "array([[0.8, 0.8, 0.2, ..., 0.2, 0.2, 0.2],\n",
       "       [0.8, 0.8, 0.2, ..., 0.2, 0.2, 0.2],\n",
       "       [0.2, 0.2, 0.6, ..., 0.6, 0.6, 0.6],\n",
       "       ...,\n",
       "       [0.2, 0.2, 0.6, ..., 0.6, 0.6, 0.6],\n",
       "       [0.2, 0.2, 0.6, ..., 0.6, 0.6, 0.6],\n",
       "       [0.2, 0.2, 0.6, ..., 0.6, 0.6, 0.6]])"
      ]
     },
     "execution_count": 469,
     "metadata": {},
     "output_type": "execute_result"
    }
   ],
   "source": [
    "T"
   ]
  },
  {
   "cell_type": "code",
   "execution_count": 518,
   "metadata": {},
   "outputs": [
    {
     "name": "stdout",
     "output_type": "stream",
     "text": [
      "0 -1.5113745460459838\n",
      "1 -1.5026083553213805\n",
      "2 -1.4920396699522875\n",
      "3 -1.4776217032308478\n",
      "4 -1.4457746004501142\n",
      "5 -1.4601222540983665\n",
      "6 -1.506114054120567\n",
      "7 -1.496153090351091\n",
      "8 -1.483187224990348\n",
      "9 -1.4604780780838962\n",
      "10 -1.5043359799264935\n",
      "11 -1.493796154557848\n",
      "12 -1.4794608820128359\n",
      "13 -1.4483392159410136\n",
      "14 -1.4634725803436666\n",
      "15 -1.521457682920505\n",
      "16 -1.5125731929592519\n",
      "17 -1.5018477255473859\n",
      "18 -1.4871587665429693\n",
      "19 -1.4538602791953106\n",
      "20 -1.4672027246749908\n",
      "21 -1.5005061168695069\n",
      "22 -1.4847364619548042\n",
      "23 -1.438886208936251\n",
      "24 -1.4463068270391206\n",
      "25 -1.4557635152883293\n",
      "26 -1.46981343807983\n",
      "27 -1.5107739312238013\n",
      "28 -1.4990933567038816\n",
      "29 -1.4816875466353459\n",
      "30 -1.3860450150159378\n",
      "31 -1.3884198249990252\n",
      "32 -1.390881210683227\n",
      "33 -1.3934374551787285\n",
      "34 -1.3960981932906753\n",
      "35 -1.3988747397149919\n",
      "36 -1.4017805266027124\n",
      "37 -1.4048316983720792\n",
      "38 -1.4080479384484486\n",
      "39 -1.4114536482795461\n",
      "40 -1.4150796800583785\n",
      "41 -1.4189659756639375\n",
      "42 -1.4231657624137748\n",
      "43 -1.4277525865903118\n",
      "44 -1.4328329182888069\n",
      "45 -1.4385707958349583\n",
      "46 -1.4452420841092946\n",
      "47 -1.453376473405761\n",
      "48 -1.4642493014399558\n",
      "49 -1.4828908736058373\n",
      "50 -1.2843019734385805\n",
      "51 -1.2848743192343177\n",
      "52 -1.285448288854577\n",
      "53 -1.286023956180584\n",
      "54 -1.286601394410708\n",
      "55 -1.2871806761462923\n",
      "56 -1.287761873473694\n",
      "57 -1.288345058042945\n",
      "58 -1.2889303011433249\n",
      "59 -1.2895176737761564\n",
      "60 -1.290107246725084\n",
      "61 -1.290699090624103\n",
      "62 -1.2912932760236016\n",
      "63 -1.2918898734545634\n",
      "64 -1.292488953491241\n",
      "65 -1.2930905868123874\n",
      "66 -1.2936948442613492\n",
      "67 -1.2943017969050548\n",
      "68 -1.2949115160922087\n",
      "69 -1.2955240735107338\n",
      "70 -1.2961395412446726\n",
      "71 -1.2967579918307042\n",
      "72 -1.2973794983143232\n",
      "73 -1.2980041343059618\n",
      "74 -1.2986319740370593\n",
      "75 -1.2992630924162771\n",
      "76 -1.2998975650859572\n",
      "77 -1.300535468478976\n",
      "78 -1.301176879876092\n",
      "79 -1.3018218774639039\n",
      "80 -1.3024705403936103\n",
      "81 -1.303122948840587\n",
      "82 -1.3037791840650144\n",
      "83 -1.304439328473605\n",
      "84 -1.3051034656826226\n",
      "85 -1.3057716805822577\n",
      "86 -1.3064440594025786\n",
      "87 -1.3071206897811234\n",
      "88 -1.3078016608323104\n",
      "89 -1.3084870632188341\n",
      "90 -1.3091769892251799\n",
      "91 -1.309871532833408\n",
      "92 -1.3105707898014225\n",
      "93 -1.311274857743836\n",
      "94 -1.3119838362157057\n",
      "95 -1.3126978267992457\n",
      "96 -1.3134169331937868\n",
      "97 -1.3141412613091585\n",
      "98 -1.3148709193627623\n",
      "99 -1.3156060179805589\n"
     ]
    }
   ],
   "source": [
    "label = grad_descent(A, step_size=lambda x: .01, num_steps=100, num_labels=2)"
   ]
  },
  {
   "cell_type": "code",
   "execution_count": 519,
   "metadata": {},
   "outputs": [
    {
     "name": "stdout",
     "output_type": "stream",
     "text": [
      "[[1.   0.   1.   ... 0.71 0.37 1.  ]\n",
      " [0.   1.   0.   ... 0.36 0.07 0.56]\n",
      " [1.   0.   0.99 ... 0.66 0.53 0.99]\n",
      " ...\n",
      " [0.71 0.36 0.66 ... 0.52 0.48 0.69]\n",
      " [0.37 0.07 0.53 ... 0.48 0.78 0.07]\n",
      " [1.   0.56 0.99 ... 0.69 0.07 1.  ]]\n"
     ]
    },
    {
     "data": {
      "image/png": "[encoded data removed]",
      "text/plain": [
       "<Figure size 432x288 with 1 Axes>"
      ]
     },
     "metadata": {
      "needs_background": "light"
     },
     "output_type": "display_data"
    }
   ],
   "source": [
    "plt.hist(label[0])\n",
    "print(np.round(fit_matrix(label),2))"
   ]
  },
  {
   "cell_type": "code",
   "execution_count": 506,
   "metadata": {},
   "outputs": [
    {
     "data": {
      "text/plain": [
       "-0.5421510140554116"
      ]
     },
     "execution_count": 506,
     "metadata": {},
     "output_type": "execute_result"
    }
   ],
   "source": [
    "matrix_log_likelihood(A,T)"
   ]
  },
  {
   "cell_type": "code",
   "execution_count": 499,
   "metadata": {},
   "outputs": [
    {
     "data": {
      "text/plain": [
       "array([[0., 0., 0., ..., 1., 0., 0.],\n",
       "       [0., 0., 0., ..., 0., 0., 0.],\n",
       "       [0., 0., 0., ..., 1., 1., 0.],\n",
       "       ...,\n",
       "       [1., 0., 1., ..., 0., 0., 1.],\n",
       "       [0., 0., 1., ..., 0., 0., 0.],\n",
       "       [0., 0., 0., ..., 1., 0., 0.]])"
      ]
     },
     "execution_count": 499,
     "metadata": {},
     "output_type": "execute_result"
    }
   ],
   "source": [
    "A"
   ]
  },
  {
   "cell_type": "code",
   "execution_count": 498,
   "metadata": {},
   "outputs": [
    {
     "data": {
      "text/plain": [
       "array([[0.8, 0.2, 0.2, ..., 0.8, 0.2, 0.8],\n",
       "       [0.2, 0.6, 0.6, ..., 0.2, 0.6, 0.2],\n",
       "       [0.2, 0.6, 0.6, ..., 0.2, 0.6, 0.2],\n",
       "       ...,\n",
       "       [0.8, 0.2, 0.2, ..., 0.8, 0.2, 0.8],\n",
       "       [0.2, 0.6, 0.6, ..., 0.2, 0.6, 0.2],\n",
       "       [0.8, 0.2, 0.2, ..., 0.8, 0.2, 0.8]])"
      ]
     },
     "execution_count": 498,
     "metadata": {},
     "output_type": "execute_result"
    }
   ],
   "source": [
    "T"
   ]
  },
  {
   "cell_type": "code",
   "execution_count": 496,
   "metadata": {},
   "outputs": [
    {
     "data": {
      "text/plain": [
       "(array([940.,  71.,   0.,   0.,   0.,   0.,   0.,   0.,  43., 946.]),\n",
       " array([-1.4359153 , -1.18976159, -0.94360788, -0.69745417, -0.45130047,\n",
       "        -0.20514676,  0.04100695,  0.28716065,  0.53331436,  0.77946807,\n",
       "         1.02562177]),\n",
       " <BarContainer object of 10 artists>)"
      ]
     },
     "execution_count": 496,
     "metadata": {},
     "output_type": "execute_result"
    },
    {
     "data": {
      "image/png": "[encoded data removed]",
      "text/plain": [
       "<Figure size 432x288 with 1 Axes>"
      ]
     },
     "metadata": {
      "needs_background": "light"
     },
     "output_type": "display_data"
    }
   ],
   "source": [
    "plt.hist(label[1])"
   ]
  },
  {
   "cell_type": "code",
   "execution_count": 495,
   "metadata": {},
   "outputs": [
    {
     "data": {
      "text/plain": [
       "array([[-6.68260158e-08,  7.65629303e-07,  2.77770827e-07, ...,\n",
       "        -2.25262006e-07, -1.08965050e-06,  3.03138695e-07],\n",
       "       [-3.09987359e-10,  4.50841354e-08,  1.24100407e-08, ...,\n",
       "        -1.14721529e-08, -4.80235383e-08,  1.85285640e-08]])"
      ]
     },
     "execution_count": 495,
     "metadata": {},
     "output_type": "execute_result"
    }
   ],
   "source": [
    "all_derivative(A,label)"
   ]
  },
  {
   "cell_type": "code",
   "execution_count": 473,
   "metadata": {},
   "outputs": [
    {
     "data": {
      "text/plain": [
       "(array([ 27., 164., 504., 554., 262., 187., 550., 544., 185.,  23.]),\n",
       " array([-1.48217242, -1.20984959, -0.93752676, -0.66520394, -0.39288111,\n",
       "        -0.12055828,  0.15176455,  0.42408738,  0.69641021,  0.96873304,\n",
       "         1.24105587]),\n",
       " <BarContainer object of 10 artists>)"
      ]
     },
     "execution_count": 473,
     "metadata": {},
     "output_type": "execute_result"
    },
    {
     "data": {
      "image/png": "[encoded data removed]",
      "text/plain": [
       "<Figure size 432x288 with 1 Axes>"
      ]
     },
     "metadata": {
      "needs_background": "light"
     },
     "output_type": "display_data"
    }
   ],
   "source": [
    "plt.hist(label[1])"
   ]
  },
  {
   "cell_type": "code",
   "execution_count": 475,
   "metadata": {},
   "outputs": [
    {
     "data": {
      "text/plain": [
       "1.1019446737443364"
      ]
     },
     "execution_count": 475,
     "metadata": {},
     "output_type": "execute_result"
    }
   ],
   "source": [
    "label[0][label[0] > 0].mean()"
   ]
  },
  {
   "cell_type": "code",
   "execution_count": 478,
   "metadata": {},
   "outputs": [
    {
     "data": {
      "text/plain": [
       "-0.6198560110024531"
      ]
     },
     "execution_count": 478,
     "metadata": {},
     "output_type": "execute_result"
    }
   ],
   "source": [
    "label[1][label[1] < 0].mean()"
   ]
  },
  {
   "cell_type": "code",
   "execution_count": 479,
   "metadata": {},
   "outputs": [
    {
     "data": {
      "text/plain": [
       "-0.7458044598726068"
      ]
     },
     "execution_count": 479,
     "metadata": {},
     "output_type": "execute_result"
    }
   ],
   "source": [
    "label[0][label[0] > 0].mean()"
   ]
  },
  {
   "cell_type": "code",
   "execution_count": 480,
   "metadata": {},
   "outputs": [
    {
     "data": {
      "text/plain": [
       "0.4489209808313968"
      ]
     },
     "execution_count": 480,
     "metadata": {},
     "output_type": "execute_result"
    }
   ],
   "source": [
    "label[1][label[1] > 0].mean()"
   ]
  },
  {
   "cell_type": "code",
   "execution_count": 477,
   "metadata": {},
   "outputs": [
    {
     "data": {
      "text/plain": [
       "array([[ 1.08824419,  1.26179565, -0.73379555, ..., -0.76510841,\n",
       "        -0.64535277, -0.73903841],\n",
       "       [-0.59078633, -0.32106251,  0.4473523 , ...,  0.38245229,\n",
       "         0.48884194,  0.49895633]])"
      ]
     },
     "execution_count": 477,
     "metadata": {},
     "output_type": "execute_result"
    }
   ],
   "source": [
    "label"
   ]
  },
  {
   "cell_type": "code",
   "execution_count": 484,
   "metadata": {},
   "outputs": [
    {
     "data": {
      "text/plain": [
       "0.6271477663131956"
      ]
     },
     "execution_count": 484,
     "metadata": {},
     "output_type": "execute_result"
    }
   ],
   "source": [
    "sigmoid(.4**2+.6**2)"
   ]
  },
  {
   "cell_type": "code",
   "execution_count": 485,
   "metadata": {},
   "outputs": [
    {
     "data": {
      "text/plain": [
       "0.8277836082661223"
      ]
     },
     "execution_count": 485,
     "metadata": {},
     "output_type": "execute_result"
    }
   ],
   "source": [
    "sigmoid(1.1**2+.6**2)"
   ]
  },
  {
   "cell_type": "code",
   "execution_count": 491,
   "metadata": {},
   "outputs": [
    {
     "name": "stdout",
     "output_type": "stream",
     "text": [
      "0.7483817216070642\n",
      "0.8365118259509835\n",
      "0.21500771137189234\n"
     ]
    }
   ],
   "source": [
    "x = -1\n",
    "y = .3\n",
    "z = 1.1\n",
    "w = -.65\n",
    "\n",
    "print(sigmoid(x**2+y**2))\n",
    "print(sigmoid(z**2+w**2))\n",
    "print(sigmoid(z*x+w*y))"
   ]
  },
  {
   "cell_type": "code",
   "execution_count": 450,
   "metadata": {},
   "outputs": [
    {
     "data": {
      "text/plain": [
       "0.8302781719052836"
      ]
     },
     "execution_count": 450,
     "metadata": {},
     "output_type": "execute_result"
    }
   ],
   "source": [
    "sigmoid(1.26**2)"
   ]
  },
  {
   "cell_type": "code",
   "execution_count": 451,
   "metadata": {},
   "outputs": [
    {
     "data": {
      "text/plain": [
       "0.6657221816177943"
      ]
     },
     "execution_count": 451,
     "metadata": {},
     "output_type": "execute_result"
    }
   ],
   "source": [
    "sigmoid(.83**2)"
   ]
  },
  {
   "cell_type": "code",
   "execution_count": 453,
   "metadata": {},
   "outputs": [
    {
     "data": {
      "text/plain": [
       "0.2600324313290248"
      ]
     },
     "execution_count": 453,
     "metadata": {},
     "output_type": "execute_result"
    }
   ],
   "source": [
    "sigmoid(-1.26*.83)"
   ]
  },
  {
   "cell_type": "code",
   "execution_count": 449,
   "metadata": {},
   "outputs": [
    {
     "data": {
      "text/plain": [
       "-0.8791452058165522"
      ]
     },
     "execution_count": 449,
     "metadata": {},
     "output_type": "execute_result"
    }
   ],
   "source": [
    "label[label < 0].mean()"
   ]
  },
  {
   "cell_type": "code",
   "execution_count": 431,
   "metadata": {},
   "outputs": [
    {
     "name": "stdout",
     "output_type": "stream",
     "text": [
      "0 -1.457762452157661\n",
      "1 -1.4121634841642594\n",
      "2 -1.3704686982225802\n",
      "3 -1.331984779949573\n",
      "4 -1.2961834528169087\n",
      "5 -1.262676201786927\n",
      "6 -1.231184988813763\n",
      "7 -1.2015137629056993\n",
      "8 -1.173523624059384\n",
      "9 -1.147112904376313\n",
      "10 -1.1222023078067749\n",
      "11 -1.0987245806184915\n",
      "12 -1.0766178738919985\n",
      "13 -1.0558218936349706\n",
      "14 -1.0362760123060855\n",
      "15 -1.0179186609689062\n",
      "16 -1.000687483305248\n",
      "17 -0.9845198823194374\n",
      "18 -0.9693537144591308\n",
      "19 -0.9551279807141099\n",
      "20 -0.9417834322178137\n",
      "21 -0.9292630535937252\n",
      "22 -0.9175124159787247\n",
      "23 -0.9064799081112992\n",
      "24 -0.8961168620341583\n",
      "25 -0.8863775928413862\n",
      "26 -0.8772193716575971\n",
      "27 -0.8686023491406945\n",
      "28 -0.8604894441952714\n",
      "29 -0.8528462098395243\n",
      "30 -0.8456406855990211\n",
      "31 -0.8388432435553211\n",
      "32 -0.8324264333043059\n",
      "33 -0.8263648295701869\n",
      "34 -0.8206348850387457\n",
      "35 -0.8152147900690239\n",
      "36 -0.810084340265977\n",
      "37 -0.8052248124014572\n",
      "38 -0.8006188488170015\n",
      "39 -0.7962503501960767\n",
      "40 -0.7921043764287072\n",
      "41 -0.7881670551866569\n",
      "42 -0.7844254977662225\n",
      "43 -0.7808677217257011\n",
      "44 -0.7774825798364087\n",
      "45 -0.7742596948728292\n",
      "46 -0.7711893997839138\n",
      "47 -0.7682626828101352\n",
      "48 -0.7654711371369091\n",
      "49 -0.7628069147026971\n",
      "50 -0.7602626838080777\n",
      "51 -0.7578315901996402\n",
      "52 -0.7555072213289838\n",
      "53 -0.753283573512204\n",
      "54 -0.7511550217387398\n",
      "55 -0.7491162919003119\n",
      "56 -0.7471624352308516\n",
      "57 -0.7452888047668926\n",
      "58 -0.7434910336548944\n",
      "59 -0.7417650151475037\n",
      "60 -0.7401068841449415\n",
      "61 -0.7385130001505792\n",
      "62 -0.7369799315215384\n",
      "63 -0.7355044409057578\n",
      "64 -0.734083471766718\n",
      "65 -0.7327141359057537\n",
      "66 -0.7313937018999023\n",
      "67 -0.7301195843804703\n",
      "68 -0.7288893340840966\n",
      "69 -0.727700628614065\n",
      "70 -0.7265512638550566\n",
      "71 -0.7254391459894806\n",
      "72 -0.7243622840680315\n",
      "73 -0.7233187830911848\n",
      "74 -0.7223068375621238\n",
      "75 -0.7213247254749551\n",
      "76 -0.720370802705204\n",
      "77 -0.7194434977724116\n",
      "78 -0.7185413069472651\n",
      "79 -0.7176627896780615\n",
      "80 -0.7168065643135065\n",
      "81 -0.7159713041008494\n",
      "82 -0.7151557334401967\n",
      "83 -0.7143586243775718\n",
      "84 -0.713578793320837\n",
      "85 -0.7128150979640662\n",
      "86 -0.7120664344072943\n",
      "87 -0.7113317344598381\n",
      "88 -0.7106099631165322\n",
      "89 -0.709900116197325\n",
      "90 -0.7092012181416961\n",
      "91 -0.7085123199503083\n",
      "92 -0.7078324972671932\n",
      "93 -0.7071608485966389\n",
      "94 -0.7064964936497021\n",
      "95 -0.7058385718160486\n",
      "96 -0.705186240757504\n",
      "97 -0.7045386751203782\n",
      "98 -0.7038950653642291\n",
      "99 -0.7032546167053337\n",
      "100 -0.702616548173673\n",
      "101 -0.7019800917827385\n",
      "102 -0.7013444918119317\n",
      "103 -0.7007090042017619\n",
      "104 -0.7000728960624043\n",
      "105 -0.6994354452965185\n",
      "106 -0.6987959403374939\n",
      "107 -0.6981536800044958\n",
      "108 -0.6975079734758469\n",
      "109 -0.6968581403823245\n",
      "110 -0.6962035110219839\n",
      "111 -0.6955434266980061\n",
      "112 -0.6948772401808809\n",
      "113 -0.6942043162959587\n",
      "114 -0.6935240326370028\n",
      "115 -0.6928357804058451\n",
      "116 -0.6921389653776127\n",
      "117 -0.6914330089902027\n",
      "118 -0.6907173495557728\n",
      "119 -0.6899914435909238\n",
      "120 -0.6892547672610749\n",
      "121 -0.6885068179331189\n",
      "122 -0.6877471158289843\n",
      "123 -0.6869752057710444\n",
      "124 -0.6861906590085622\n",
      "125 -0.6853930751124504\n",
      "126 -0.6845820839236478\n",
      "127 -0.6837573475383643\n",
      "128 -0.6829185623113232\n",
      "129 -0.682065460856086\n",
      "130 -0.6811978140194453\n",
      "131 -0.6803154328049511\n",
      "132 -0.6794181702188181\n",
      "133 -0.6785059230098555\n",
      "134 -0.6775786332737803\n",
      "135 -0.676636289891249\n",
      "136 -0.675678929768422\n",
      "137 -0.6747066388487831\n",
      "138 -0.6737195528653873\n",
      "139 -0.6727178578038071\n",
      "140 -0.6717017900477388\n",
      "141 -0.6706716361816886\n",
      "142 -0.6696277324282538\n",
      "143 -0.6685704637014049\n",
      "144 -0.6675002622617109\n",
      "145 -0.66641760596471\n",
      "146 -0.6653230160994636\n",
      "147 -0.6642170548206886\n",
      "148 -0.6631003221846593\n",
      "149 -0.661973452806119\n",
      "150 -0.6608371121606195\n",
      "151 -0.6596919925638299\n",
      "152 -0.6585388088662496\n",
      "153 -0.6573782939082213\n",
      "154 -0.6562111937859657\n",
      "155 -0.655038262984389\n",
      "156 -0.6538602594364609\n",
      "157 -0.6526779395718512\n",
      "158 -0.6514920534191921\n",
      "159 -0.6503033398266164\n",
      "160 -0.6491125218641535\n",
      "161 -0.6479203024690863\n",
      "162 -0.6467273603915406\n",
      "163 -0.6455343464924587\n",
      "164 -0.6443418804398826\n",
      "165 -0.6431505478422197\n",
      "166 -0.6419608978491406\n",
      "167 -0.6407734412422079\n",
      "168 -0.6395886490283778\n",
      "169 -0.6384069515405494\n",
      "170 -0.6372287380404864\n",
      "171 -0.6360543568109628\n",
      "172 -0.6348841157161521\n",
      "173 -0.6337182832021674\n",
      "174 -0.6325570897035148\n",
      "175 -0.6314007294161081\n",
      "176 -0.6302493623934992\n",
      "177 -0.6291031169201057\n",
      "178 -0.6279620921135395\n",
      "179 -0.6268263607075287\n",
      "180 -0.6256959719673444\n",
      "181 -0.6245709546910495\n",
      "182 -0.6234513202520343\n",
      "183 -0.622337065641205\n",
      "184 -0.6212281764705838\n",
      "185 -0.6201246299039188\n",
      "186 -0.6190263974839473\n",
      "187 -0.6179334478301837\n",
      "188 -0.6168457491853074\n",
      "189 -0.6157632717923365\n",
      "190 -0.6146859900887178\n",
      "191 -0.6136138847071376\n",
      "192 -0.6125469442762234\n",
      "193 -0.611485167017372\n",
      "194 -0.6104285621365774\n",
      "195 -0.6093771510124834\n",
      "196 -0.6083309681838311\n",
      "197 -0.6072900621411116\n",
      "198 -0.6062544959285509\n",
      "199 -0.6052243475636065\n",
      "200 -0.6041997102819467\n",
      "201 -0.6031806926164964\n",
      "202 -0.6021674183195407\n",
      "203 -0.6011600261371763\n",
      "204 -0.6001586694455641\n",
      "205 -0.599163515758553\n",
      "206 -0.598174746116261\n",
      "207 -0.5971925543642039\n",
      "208 -0.5962171463325558\n",
      "209 -0.5952487389250444\n",
      "210 -0.5942875591269849\n",
      "211 -0.5933338429418646\n",
      "212 -0.5923878342658668\n",
      "213 -0.5914497837096592\n",
      "214 -0.5905199473767145\n",
      "215 -0.5895985856073641\n",
      "216 -0.5886859616977062\n",
      "217 -0.5877823406023848\n",
      "218 -0.5868879876301408\n",
      "219 -0.5860031671408708\n",
      "220 -0.5851281412527407\n",
      "221 -0.5842631685676873\n",
      "222 -0.5834085029233348\n",
      "223 -0.5825643921790826\n",
      "224 -0.5817310770437143\n",
      "225 -0.5809087899514889\n",
      "226 -0.5800977539932234\n",
      "227 -0.57929818190835\n",
      "228 -0.5785102751434134\n",
      "229 -0.5777342229818718\n",
      "230 -0.576970201749463\n",
      "231 -0.5762183740987484\n",
      "232 -0.5754788883757712\n",
      "233 -0.5747518780711108\n",
      "234 -0.5740374613568887\n",
      "235 -0.5733357407106267\n",
      "236 -0.5726468026261432\n",
      "237 -0.5719707174110273\n",
      "238 -0.5713075390695538\n",
      "239 -0.5706573052693024\n",
      "240 -0.5700200373891409\n",
      "241 -0.5693957406456798\n",
      "242 -0.5687844042948123\n",
      "243 -0.5681860019044782\n",
      "244 -0.5676004916944075\n",
      "245 -0.5670278169382276\n",
      "246 -0.5664679064230371\n",
      "247 -0.5659206749613201\n",
      "248 -0.5653860239498806\n",
      "249 -0.5648638419703804\n",
      "250 -0.5643540054259799\n",
      "251 -0.563856379208592\n",
      "252 -0.5633708173912894\n",
      "253 -0.5628971639405044\n",
      "254 -0.5624352534427998\n",
      "255 -0.5619849118411496\n",
      "256 -0.5615459571759109\n",
      "257 -0.5611182003258807\n",
      "258 -0.560701445745125\n",
      "259 -0.5602954921915546\n",
      "260 -0.5599001334435285\n",
      "261 -0.5595151590010913\n",
      "262 -0.5591403547687916\n",
      "263 -0.5587755037173492\n",
      "264 -0.5584203865217845\n",
      "265 -0.5580747821739522\n",
      "266 -0.5577384685677577\n",
      "267 -0.5574112230556256\n",
      "268 -0.5570928229751256\n",
      "269 -0.5567830461449298\n",
      "270 -0.5564816713295458\n",
      "271 -0.55618847867255\n",
      "272 -0.5559032500982536\n",
      "273 -0.5556257696819713\n",
      "274 -0.5553558239892482\n",
      "275 -0.555093202384594\n",
      "276 -0.5548376973104056\n",
      "277 -0.5545891045369289\n",
      "278 -0.5543472233841992\n",
      "279 -0.5541118569170189\n",
      "280 -0.5538828121141146\n",
      "281 -0.5536599000126581\n",
      "282 -0.5534429358294248\n",
      "283 -0.5532317390598618\n",
      "284 -0.5530261335563789\n",
      "285 -0.5528259475871878\n",
      "286 -0.5526310138770029\n",
      "287 -0.5524411696309112\n",
      "288 -0.5522562565427064\n",
      "289 -0.5520761207889427\n",
      "290 -0.5519006130099348\n",
      "291 -0.5517295882788968\n",
      "292 -0.5515629060603636\n",
      "293 -0.5514004301589873\n",
      "294 -0.5512420286597585\n",
      "295 -0.5510875738606483\n",
      "296 -0.5509369421986036\n",
      "297 -0.5507900141697856\n",
      "298 -0.5506466742448874\n",
      "299 -0.5505068107802887\n",
      "300 -0.5503703159257881\n",
      "301 -0.5502370855295652\n",
      "302 -0.5501070190410002\n",
      "303 -0.5499800194119097\n",
      "304 -0.5498559929967157\n",
      "305 -0.5497348494520258\n",
      "306 -0.5496165016360407\n",
      "307 -0.5495008655081863\n",
      "308 -0.549387860029299\n",
      "309 -0.5492774070626875\n",
      "310 -0.549169431276331\n",
      "311 -0.549063860046456\n",
      "312 -0.5489606233627016\n",
      "313 -0.5488596537350495\n",
      "314 -0.5487608861026728\n",
      "315 -0.5486642577448293\n",
      "316 -0.5485697081939119\n",
      "317 -0.5484771791507335\n",
      "318 -0.5483866144021176\n",
      "319 -0.5482979597408444\n",
      "320 -0.548211162887988\n",
      "321 -0.5481261734176595\n",
      "322 -0.5480429426841751\n",
      "323 -0.5479614237516359\n",
      "324 -0.5478815713259136\n",
      "325 -0.5478033416890227\n",
      "326 -0.5477266926358425\n",
      "327 -0.5476515834131672\n",
      "328 -0.5475779746610299\n",
      "329 -0.5475058283562674\n",
      "330 -0.5474351077582684\n",
      "331 -0.5473657773568574\n",
      "332 -0.5472978028222589\n",
      "333 -0.5472311509570823\n",
      "334 -0.547165789650271\n",
      "335 -0.5471016878329547\n",
      "336 -0.547038815436149\n",
      "337 -0.5469771433502301\n",
      "338 -0.5469166433861382\n",
      "339 -0.5468572882382373\n",
      "340 -0.5467990514487772\n",
      "341 -0.5467419073738957\n",
      "342 -0.5466858311511033\n",
      "343 -0.5466307986681929\n",
      "344 -0.5465767865335173\n",
      "345 -0.5465237720475774\n",
      "346 -0.5464717331758746\n",
      "347 -0.5464206485229645\n",
      "348 -0.5463704973076674\n"
     ]
    },
    {
     "name": "stdout",
     "output_type": "stream",
     "text": [
      "349 -0.5463212593393884\n",
      "350 -0.5462729149954916\n",
      "351 -0.5462254451996864\n",
      "352 -0.5461788314013873\n",
      "353 -0.5461330555559885\n",
      "354 -0.5460881001060296\n",
      "355 -0.5460439479632\n",
      "356 -0.546000582491147\n",
      "357 -0.5459579874890558\n",
      "358 -0.5459161471759558\n",
      "359 -0.54587504617573\n",
      "360 -0.5458346695027867\n",
      "361 -0.5457950025483685\n",
      "362 -0.5457560310674626\n",
      "363 -0.5457177411662909\n",
      "364 -0.5456801192903464\n",
      "365 -0.5456431522129538\n",
      "366 -0.5456068270243276\n",
      "367 -0.5455711311211062\n",
      "368 -0.5455360521963346\n",
      "369 -0.5455015782298802\n",
      "370 -0.5454676974792562\n",
      "371 -0.5454343984708397\n",
      "372 -0.545401669991453\n",
      "373 -0.545369501080307\n",
      "374 -0.545337881021276\n",
      "375 -0.5453067993354959\n",
      "376 -0.5452762457742656\n",
      "377 -0.5452462103122424\n",
      "378 -0.5452166831409104\n",
      "379 -0.5451876546623173\n",
      "380 -0.545159115483057\n",
      "381 -0.5451310564084962\n",
      "382 -0.5451034684372273\n",
      "383 -0.5450763427557377\n",
      "384 -0.5450496707332884\n",
      "385 -0.5450234439169858\n",
      "386 -0.5449976540270466\n",
      "387 -0.5449722929522389\n",
      "388 -0.5449473527454934\n",
      "389 -0.5449228256196809\n",
      "390 -0.5448987039435419\n",
      "391 -0.5448749802377648\n",
      "392 -0.5448516471712104\n",
      "393 -0.5448286975572623\n",
      "394 -0.544806124350315\n",
      "395 -0.5447839206423799\n",
      "396 -0.5447620796598089\n",
      "397 -0.5447405947601328\n",
      "398 -0.5447194594290052\n",
      "399 -0.5446986672772457\n",
      "400 -0.5446782120379877\n",
      "401 -0.5446580875639121\n",
      "402 -0.5446382878245768\n",
      "403 -0.5446188069038261\n",
      "404 -0.5445996389972866\n",
      "405 -0.5445807784099371\n",
      "406 -0.5445622195537558\n",
      "407 -0.5445439569454396\n",
      "408 -0.5445259852041882\n",
      "409 -0.5445082990495592\n",
      "410 -0.544490893299382\n",
      "411 -0.544473762867733\n",
      "412 -0.5444569027629687\n",
      "413 -0.544440308085816\n",
      "414 -0.5444239740275107\n",
      "415 -0.5444078958679947\n",
      "416 -0.544392068974152\n",
      "417 -0.5443764887981022\n",
      "418 -0.5443611508755305\n",
      "419 -0.5443460508240668\n",
      "420 -0.544331184341703\n",
      "421 -0.5443165472052516\n",
      "422 -0.5443021352688422\n",
      "423 -0.5442879444624574\n",
      "424 -0.5442739707904993\n",
      "425 -0.5442602103303943\n",
      "426 -0.5442466592312317\n",
      "427 -0.5442333137124299\n",
      "428 -0.5442201700624362\n",
      "429 -0.5442072246374555\n",
      "430 -0.544194473860209\n",
      "431 -0.5441819142187155\n",
      "432 -0.5441695422651066\n",
      "433 -0.5441573546144594\n",
      "434 -0.5441453479436629\n",
      "435 -0.5441335189902982\n",
      "436 -0.5441218645515522\n",
      "437 -0.5441103814831459\n",
      "438 -0.5440990666982861\n",
      "439 -0.5440879171666435\n",
      "440 -0.5440769299133424\n",
      "441 -0.5440661020179767\n",
      "442 -0.544055430613642\n",
      "443 -0.5440449128859879\n",
      "444 -0.5440345460722882\n",
      "445 -0.5440243274605252\n",
      "446 -0.5440142543884964\n",
      "447 -0.5440043242429338\n",
      "448 -0.5439945344586417\n",
      "449 -0.543984882517647\n",
      "450 -0.5439753659483683\n",
      "451 -0.5439659823247991\n",
      "452 -0.5439567292657003\n",
      "453 -0.5439476044338182\n",
      "454 -0.5439386055351012\n",
      "455 -0.5439297303179459\n",
      "456 -0.543920976572441\n",
      "457 -0.5439123421296367\n",
      "458 -0.5439038248608179\n",
      "459 -0.5438954226767962\n",
      "460 -0.5438871335272076\n",
      "461 -0.5438789553998266\n",
      "462 -0.5438708863198893\n",
      "463 -0.5438629243494314\n",
      "464 -0.5438550675866294\n",
      "465 -0.5438473141651626\n",
      "466 -0.543839662253578\n",
      "467 -0.5438321100546695\n",
      "468 -0.543824655804865\n",
      "469 -0.5438172977736256\n",
      "470 -0.5438100342628542\n",
      "471 -0.5438028636063109\n",
      "472 -0.5437957841690432\n",
      "473 -0.5437887943468203\n",
      "474 -0.5437818925655796\n",
      "475 -0.5437750772808824\n",
      "476 -0.5437683469773746\n",
      "477 -0.5437617001682632\n",
      "478 -0.5437551353947929\n",
      "479 -0.5437486512257395\n",
      "480 -0.5437422462569041\n",
      "481 -0.543735919110621\n",
      "482 -0.543729668435271\n",
      "483 -0.5437234929048037\n",
      "484 -0.5437173912182679\n",
      "485 -0.5437113620993465\n",
      "486 -0.5437054042959042\n",
      "487 -0.5436995165795393\n",
      "488 -0.5436936977451429\n",
      "489 -0.5436879466104672\n",
      "490 -0.5436822620156999\n",
      "491 -0.5436766428230438\n",
      "492 -0.5436710879163076\n",
      "493 -0.5436655962005011\n",
      "494 -0.5436601666014365\n",
      "495 -0.5436547980653355\n",
      "496 -0.5436494895584494\n",
      "497 -0.5436442400666766\n",
      "498 -0.5436390485951932\n",
      "499 -0.5436339141680878\n",
      "500 -0.5436288358280003\n",
      "501 -0.5436238126357719\n",
      "502 -0.5436188436700962\n",
      "503 -0.5436139280271802\n",
      "504 -0.5436090648204062\n",
      "505 -0.5436042531800068\n",
      "506 -0.5435994922527376\n",
      "507 -0.543594781201563\n",
      "508 -0.5435901192053413\n",
      "509 -0.5435855054585188\n",
      "510 -0.5435809391708293\n",
      "511 -0.543576419566998\n",
      "512 -0.5435719458864502\n",
      "513 -0.5435675173830267\n",
      "514 -0.5435631333247017\n",
      "515 -0.5435587929933111\n",
      "516 -0.5435544956842783\n",
      "517 -0.5435502407063512\n",
      "518 -0.543546027381341\n",
      "519 -0.5435418550438651\n",
      "520 -0.5435377230410995\n",
      "521 -0.5435336307325273\n",
      "522 -0.5435295774897007\n",
      "523 -0.5435255626960017\n",
      "524 -0.543521585746409\n",
      "525 -0.5435176460472699\n",
      "526 -0.5435137430160758\n",
      "527 -0.5435098760812405\n",
      "528 -0.5435060446818857\n",
      "529 -0.5435022482676285\n",
      "530 -0.5434984862983715\n",
      "531 -0.5434947582441019\n",
      "532 -0.5434910635846875\n",
      "533 -0.5434874018096851\n",
      "534 -0.543483772418142\n",
      "535 -0.5434801749184114\n",
      "536 -0.5434766088279656\n",
      "537 -0.5434730736732126\n",
      "538 -0.5434695689893215\n",
      "539 -0.5434660943200442\n",
      "540 -0.5434626492175451\n",
      "541 -0.5434592332422344\n",
      "542 -0.5434558459626008\n",
      "543 -0.5434524869550519\n",
      "544 -0.5434491558037549\n",
      "545 -0.5434458521004814\n",
      "546 -0.5434425754444561\n",
      "547 -0.5434393254422063\n",
      "548 -0.5434361017074154\n",
      "549 -0.5434329038607815\n",
      "550 -0.5434297315298753\n",
      "551 -0.5434265843490026\n",
      "552 -0.5434234619590702\n",
      "553 -0.5434203640074531\n",
      "554 -0.5434172901478633\n",
      "555 -0.5434142400402263\n",
      "556 -0.5434112133505549\n",
      "557 -0.5434082097508255\n",
      "558 -0.5434052289188622\n",
      "559 -0.5434022705382174\n",
      "560 -0.5433993342980572\n",
      "561 -0.5433964198930507\n",
      "562 -0.5433935270232575\n",
      "563 -0.5433906553940232\n",
      "564 -0.5433878047158712\n",
      "565 -0.5433849747043993\n",
      "566 -0.5433821650801808\n",
      "567 -0.5433793755686628\n",
      "568 -0.5433766059000703\n",
      "569 -0.5433738558093096\n",
      "570 -0.543371125035879\n",
      "571 -0.5433684133237712\n",
      "572 -0.5433657204213894\n",
      "573 -0.5433630460814575\n",
      "574 -0.5433603900609346\n",
      "575 -0.5433577521209321\n",
      "576 -0.5433551320266274\n",
      "577 -0.5433525295471893\n",
      "578 -0.5433499444556957\n",
      "579 -0.5433473765290562\n",
      "580 -0.5433448255479381\n",
      "581 -0.543342291296691\n",
      "582 -0.5433397735632756\n",
      "583 -0.5433372721391915\n",
      "584 -0.5433347868194087\n",
      "585 -0.5433323174022983\n",
      "586 -0.5433298636895683\n",
      "587 -0.543327425486195\n",
      "588 -0.5433250026003622\n",
      "589 -0.5433225948433984\n",
      "590 -0.5433202020297118\n",
      "591 -0.5433178239767358\n",
      "592 -0.5433154605048676\n",
      "593 -0.5433131114374092\n",
      "594 -0.5433107766005151\n",
      "595 -0.5433084558231339\n",
      "596 -0.5433061489369558\n",
      "597 -0.5433038557763593\n",
      "598 -0.5433015761783615\n",
      "599 -0.5432993099825639\n",
      "600 -0.5432970570311055\n",
      "601 -0.5432948171686144\n",
      "602 -0.5432925902421599\n",
      "603 -0.5432903761012043\n",
      "604 -0.5432881745975605\n",
      "605 -0.5432859855853451\n",
      "606 -0.5432838089209355\n",
      "607 -0.543281644462928\n",
      "608 -0.543279492072096\n",
      "609 -0.543277351611345\n",
      "610 -0.543275222945681\n",
      "611 -0.5432731059421623\n",
      "612 -0.543271000469867\n",
      "613 -0.5432689063998529\n",
      "614 -0.543266823605121\n",
      "615 -0.5432647519605805\n",
      "616 -0.5432626913430119\n",
      "617 -0.5432606416310343\n",
      "618 -0.5432586027050694\n",
      "619 -0.5432565744473102\n",
      "620 -0.5432545567416877\n",
      "621 -0.5432525494738397\n",
      "622 -0.543250552531079\n",
      "623 -0.543248565802363\n",
      "624 -0.543246589178265\n",
      "625 -0.5432446225509433\n",
      "626 -0.5432426658141137\n",
      "627 -0.5432407188630216\n",
      "628 -0.5432387815944137\n",
      "629 -0.5432368539065119\n",
      "630 -0.5432349356989866\n",
      "631 -0.5432330268729317\n",
      "632 -0.5432311273308379\n",
      "633 -0.5432292369765684\n",
      "634 -0.5432273557153369\n",
      "635 -0.5432254834536803\n",
      "636 -0.5432236200994376\n",
      "637 -0.543221765561728\n",
      "638 -0.543219919750926\n",
      "639 -0.5432180825786415\n",
      "640 -0.5432162539576977\n",
      "641 -0.5432144338021104\n",
      "642 -0.543212622027067\n",
      "643 -0.5432108185489082\n",
      "644 -0.5432090232851049\n",
      "645 -0.543207236154242\n",
      "646 -0.5432054570759977\n",
      "647 -0.5432036859711261\n",
      "648 -0.5432019227614385\n",
      "649 -0.5432001673697847\n",
      "650 -0.5431984197200377\n",
      "651 -0.5431966797370744\n",
      "652 -0.5431949473467603\n",
      "653 -0.5431932224759319\n",
      "654 -0.5431915050523822\n",
      "655 -0.5431897950048438\n",
      "656 -0.5431880922629719\n",
      "657 -0.5431863967573332\n",
      "658 -0.5431847084193879\n",
      "659 -0.5431830271814754\n",
      "660 -0.5431813529768005\n",
      "661 -0.5431796857394201\n",
      "662 -0.5431780254042284\n",
      "663 -0.5431763719069436\n",
      "664 -0.5431747251840955\n",
      "665 -0.5431730851730113\n",
      "666 -0.5431714518118036\n",
      "667 -0.5431698250393592\n",
      "668 -0.543168204795324\n",
      "669 -0.543166591020093\n",
      "670 -0.5431649836547991\n",
      "671 -0.5431633826412999\n",
      "672 -0.543161787922167\n",
      "673 -0.5431601994406758\n",
      "674 -0.5431586171407933\n",
      "675 -0.5431570409671688\n",
      "676 -0.543155470865122\n",
      "677 -0.5431539067806331\n",
      "678 -0.5431523486603339\n",
      "679 -0.543150796451497\n",
      "680 -0.5431492501020259\n",
      "681 -0.5431477095604452\n",
      "682 -0.5431461747758927\n",
      "683 -0.5431446456981086\n",
      "684 -0.5431431222774281\n",
      "685 -0.5431416044647704\n",
      "686 -0.5431400922116327\n",
      "687 -0.5431385854700791\n",
      "688 -0.5431370841927344\n",
      "689 -0.5431355883327746\n",
      "690 -0.5431340978439188\n",
      "691 -0.5431326126804223\n",
      "692 -0.5431311327970673\n",
      "693 -0.5431296581491581\n"
     ]
    },
    {
     "name": "stdout",
     "output_type": "stream",
     "text": [
      "694 -0.5431281886925089\n",
      "695 -0.5431267243834417\n",
      "696 -0.5431252651787754\n",
      "697 -0.5431238110358203\n",
      "698 -0.5431223619123705\n",
      "699 -0.5431209177666976\n",
      "700 -0.543119478557544\n",
      "701 -0.5431180442441149\n",
      "702 -0.5431166147860741\n",
      "703 -0.5431151901435358\n",
      "704 -0.543113770277059\n",
      "705 -0.5431123551476408\n",
      "706 -0.5431109447167128\n",
      "707 -0.5431095389461306\n",
      "708 -0.5431081377981719\n",
      "709 -0.5431067412355307\n",
      "710 -0.5431053492213075\n",
      "711 -0.543103961719009\n",
      "712 -0.5431025786925389\n",
      "713 -0.5431012001061952\n",
      "714 -0.5430998259246622\n",
      "715 -0.5430984561130081\n",
      "716 -0.5430970906366774\n",
      "717 -0.5430957294614883\n",
      "718 -0.5430943725536258\n",
      "719 -0.5430930198796372\n",
      "720 -0.5430916714064287\n",
      "721 -0.5430903271012594\n",
      "722 -0.5430889869317364\n",
      "723 -0.5430876508658121\n",
      "724 -0.5430863188717776\n",
      "725 -0.5430849909182596\n",
      "726 -0.5430836669742155\n",
      "727 -0.54308234700893\n",
      "728 -0.5430810309920093\n",
      "729 -0.5430797188933797\n",
      "730 -0.5430784106832803\n",
      "731 -0.5430771063322603\n",
      "732 -0.5430758058111774\n",
      "733 -0.5430745090911907\n",
      "734 -0.5430732161437571\n",
      "735 -0.5430719269406307\n",
      "736 -0.5430706414538555\n",
      "737 -0.5430693596557638\n",
      "738 -0.543068081518972\n",
      "739 -0.5430668070163771\n",
      "740 -0.5430655361211546\n",
      "741 -0.5430642688067517\n",
      "742 -0.5430630050468878\n",
      "743 -0.5430617448155486\n",
      "744 -0.5430604880869849\n",
      "745 -0.543059234835707\n",
      "746 -0.5430579850364836\n",
      "747 -0.5430567386643382\n",
      "748 -0.5430554956945445\n",
      "749 -0.543054256102626\n",
      "750 -0.5430530198643514\n",
      "751 -0.5430517869557313\n",
      "752 -0.5430505573530165\n",
      "753 -0.5430493310326954\n",
      "754 -0.5430481079714894\n",
      "755 -0.5430468881463507\n",
      "756 -0.5430456715344623\n",
      "757 -0.5430444581132309\n",
      "758 -0.5430432478602879\n",
      "759 -0.5430420407534854\n",
      "760 -0.5430408367708927\n",
      "761 -0.5430396358907943\n",
      "762 -0.5430384380916907\n",
      "763 -0.5430372433522898\n",
      "764 -0.5430360516515093\n",
      "765 -0.5430348629684736\n",
      "766 -0.5430336772825085\n",
      "767 -0.5430324945731434\n",
      "768 -0.5430313148201042\n",
      "769 -0.5430301380033162\n",
      "770 -0.5430289641028965\n",
      "771 -0.5430277930991562\n",
      "772 -0.5430266249725967\n",
      "773 -0.5430254597039059\n",
      "774 -0.5430242972739595\n",
      "775 -0.5430231376638152\n",
      "776 -0.5430219808547131\n",
      "777 -0.5430208268280741\n",
      "778 -0.5430196755654958\n",
      "779 -0.5430185270487513\n",
      "780 -0.5430173812597893\n",
      "781 -0.5430162381807285\n",
      "782 -0.5430150977938588\n",
      "783 -0.543013960081638\n",
      "784 -0.543012825026691\n",
      "785 -0.5430116926118058\n",
      "786 -0.5430105628199343\n",
      "787 -0.5430094356341899\n",
      "788 -0.5430083110378436\n",
      "789 -0.5430071890143261\n",
      "790 -0.5430060695472216\n",
      "791 -0.5430049526202712\n",
      "792 -0.5430038382173668\n",
      "793 -0.5430027263225509\n",
      "794 -0.5430016169200167\n",
      "795 -0.5430005099941042\n",
      "796 -0.5429994055293001\n",
      "797 -0.5429983035102356\n",
      "798 -0.5429972039216848\n",
      "799 -0.5429961067485632\n",
      "800 -0.5429950119759269\n",
      "801 -0.54299391958897\n",
      "802 -0.5429928295730252\n",
      "803 -0.5429917419135586\n",
      "804 -0.5429906565961726\n",
      "805 -0.5429895736066012\n",
      "806 -0.5429884929307117\n",
      "807 -0.5429874145544991\n",
      "808 -0.5429863384640891\n",
      "809 -0.5429852646457347\n",
      "810 -0.5429841930858139\n",
      "811 -0.5429831237708309\n",
      "812 -0.5429820566874128\n",
      "813 -0.542980991822309\n",
      "814 -0.5429799291623904\n",
      "815 -0.5429788686946467\n",
      "816 -0.5429778104061874\n",
      "817 -0.5429767542842395\n",
      "818 -0.5429757003161447\n",
      "819 -0.5429746484893608\n",
      "820 -0.5429735987914599\n",
      "821 -0.5429725512101249\n",
      "822 -0.5429715057331526\n",
      "823 -0.5429704623484487\n",
      "824 -0.5429694210440286\n",
      "825 -0.5429683818080164\n",
      "826 -0.5429673446286425\n",
      "827 -0.5429663094942436\n",
      "828 -0.5429652763932622\n",
      "829 -0.5429642453142433\n",
      "830 -0.5429632162458364\n",
      "831 -0.5429621891767908\n",
      "832 -0.5429611640959598\n",
      "833 -0.5429601409922931\n",
      "834 -0.5429591198548415\n",
      "835 -0.5429581006727527\n",
      "836 -0.5429570834352723\n",
      "837 -0.5429560681317407\n",
      "838 -0.5429550547515944\n",
      "839 -0.5429540432843627\n",
      "840 -0.5429530337196697\n",
      "841 -0.5429520260472306\n",
      "842 -0.5429510202568515\n",
      "843 -0.5429500163384303\n",
      "844 -0.5429490142819544\n",
      "845 -0.5429480140774977\n",
      "846 -0.5429470157152245\n",
      "847 -0.542946019185385\n",
      "848 -0.5429450244783158\n",
      "849 -0.5429440315844378\n",
      "850 -0.5429430404942579\n",
      "851 -0.5429420511983648\n",
      "852 -0.5429410636874326\n",
      "853 -0.5429400779522144\n",
      "854 -0.5429390939835467\n",
      "855 -0.5429381117723457\n",
      "856 -0.542937131309607\n",
      "857 -0.5429361525864055\n",
      "858 -0.5429351755938944\n",
      "859 -0.5429342003233038\n",
      "860 -0.542933226765941\n",
      "861 -0.5429322549131882\n",
      "862 -0.5429312847565039\n",
      "863 -0.5429303162874206\n",
      "864 -0.5429293494975447\n",
      "865 -0.5429283843785547\n",
      "866 -0.5429274209222043\n",
      "867 -0.542926459120314\n",
      "868 -0.5429254989647807\n",
      "869 -0.5429245404475666\n",
      "870 -0.5429235835607092\n",
      "871 -0.5429226282963072\n",
      "872 -0.5429216746465382\n",
      "873 -0.5429207226036332\n",
      "874 -0.5429197721599094\n",
      "875 -0.5429188233077253\n",
      "876 -0.5429178760395375\n",
      "877 -0.5429169303478261\n",
      "878 -0.5429159862251894\n",
      "879 -0.5429150436642202\n",
      "880 -0.5429141026576656\n",
      "881 -0.5429131631982155\n",
      "882 -0.5429122252787799\n",
      "883 -0.5429112888921219\n",
      "884 -0.5429103540313416\n",
      "885 -0.5429094206892335\n",
      "886 -0.5429084888591373\n",
      "887 -0.5429075585338078\n",
      "888 -0.5429066297069159\n",
      "889 -0.5429057023710451\n",
      "890 -0.5429047765203715\n",
      "891 -0.5429038521470683\n",
      "892 -0.542902929246134\n",
      "893 -0.5429020078088954\n",
      "894 -0.5429010878317633\n",
      "895 -0.5429001693044064\n",
      "896 -0.5428992522257546\n",
      "897 -0.5428983365822947\n",
      "898 -0.542897422377564\n",
      "899 -0.5428965095919905\n",
      "900 -0.5428955982376765\n",
      "901 -0.5428946882835174\n",
      "902 -0.5428937797577488\n",
      "903 -0.5428928726072257\n",
      "904 -0.5428919668908857\n",
      "905 -0.5428910625132348\n",
      "906 -0.5428901595921501\n",
      "907 -0.542889257950205\n",
      "908 -0.5428883578193183\n",
      "909 -0.5428874588623331\n",
      "910 -0.5428865615333421\n",
      "911 -0.5428856651810757\n",
      "912 -0.542884770694857\n",
      "913 -0.5428838767992448\n",
      "914 -0.5428829852386702\n",
      "915 -0.5428820934801689\n",
      "916 -0.5428812049440193\n",
      "917 -0.5428803145108022\n",
      "918 -0.5428794288368248\n",
      "919 -0.5428785372977607\n",
      "920 -0.5428776525223264\n",
      "921 -0.54287675146045\n",
      "922 -0.5428758563626104\n",
      "923 -0.5428749132951404\n",
      "924 -0.5428739528517887\n",
      "925 -0.5428728330641969\n",
      "926 -0.5428715501558861\n",
      "927 -0.5428696687659371\n",
      "928 -0.5428668769816335\n",
      "929 -0.542861616519218\n",
      "930 -0.5428518308210962\n",
      "931 -0.5428312183814427\n",
      "932 -0.5427888746913537\n",
      "933 -0.5426972112315793\n",
      "934 -0.5425020601014764\n",
      "935 -0.5420773969898807\n",
      "936 -0.5411626711290608\n",
      "937 -0.5391839183937686\n",
      "938 -0.5349793045319843\n",
      "939 -0.5263058920107133\n",
      "940 -0.5097961498977333\n",
      "941 -0.4836991506859951\n",
      "942 -0.4591123233645323\n",
      "943 -0.46910207280287275\n",
      "944 -0.5219804319904278\n",
      "945 -0.5605793925179149\n",
      "946 -0.5689398961581454\n",
      "947 -0.5687551666538643\n",
      "948 -0.567527195795427\n",
      "949 -0.5661996064213829\n",
      "950 -0.5649116353736752\n",
      "951 -0.5636730362774788\n",
      "952 -0.5624887535486139\n",
      "953 -0.5613572014720528\n",
      "954 -0.5602781704010883\n",
      "955 -0.5592503085751733\n",
      "956 -0.5582726076259216\n",
      "957 -0.5573436912845066\n",
      "958 -0.5564622411427487\n",
      "959 -0.5556267765296873\n",
      "960 -0.5548358113017835\n",
      "961 -0.5540877775009797\n",
      "962 -0.5533810968487459\n",
      "963 -0.5527141523459804\n",
      "964 -0.5520853273312674\n",
      "965 -0.5514929946849202\n",
      "966 -0.5509355412404751\n",
      "967 -0.5504113636835996\n",
      "968 -0.5499188851969344\n",
      "969 -0.5494565537138844\n",
      "970 -0.5490228538542206\n",
      "971 -0.5486163056875695\n",
      "972 -0.5482354735355607\n",
      "973 -0.5478789644408839\n",
      "974 -0.5475454347841495\n",
      "975 -0.5472335881154825\n",
      "976 -0.5469421802467856\n",
      "977 -0.5466700163057063\n",
      "978 -0.5464159548257923\n",
      "979 -0.5461789039557778\n",
      "980 -0.545957825008349\n",
      "981 -0.5457517277541031\n",
      "982 -0.5455596738796583\n",
      "983 -0.5453807712339416\n",
      "984 -0.545214177687299\n",
      "985 -0.5450590940758021\n",
      "986 -0.5449147690611645\n",
      "987 -0.5447804903150943\n",
      "988 -0.5446555911914784\n",
      "989 -0.5445394393601657\n",
      "990 -0.5444314464857619\n",
      "991 -0.5443310529685026\n",
      "992 -0.5442377425016226\n",
      "993 -0.544151020639234\n",
      "994 -0.5440704373030931\n",
      "995 -0.5439955552632889\n",
      "996 -0.5439259858059265\n",
      "997 -0.5438613402965005\n",
      "998 -0.5438012880935186\n",
      "999 -0.5437454790400728\n"
     ]
    }
   ],
   "source": [
    "label = lambda_grad_descent(A, step_size=len(A)/20, num_steps=1000, l = lambda x: x/100)"
   ]
  },
  {
   "cell_type": "code",
   "execution_count": 432,
   "metadata": {},
   "outputs": [
    {
     "data": {
      "text/plain": [
       "0.045745672127050496"
      ]
     },
     "execution_count": 432,
     "metadata": {},
     "output_type": "execute_result"
    }
   ],
   "source": [
    "label[0]@label[1]"
   ]
  },
  {
   "cell_type": "code",
   "execution_count": 437,
   "metadata": {},
   "outputs": [
    {
     "data": {
      "text/plain": [
       "(array([  1.,   1.,   1.,  13., 108., 372., 393.,  89.,  19.,   3.]),\n",
       " array([-1.56134769, -1.30028354, -1.0392194 , -0.77815525, -0.51709111,\n",
       "        -0.25602696,  0.00503718,  0.26610133,  0.52716547,  0.78822961,\n",
       "         1.04929376]),\n",
       " <BarContainer object of 10 artists>)"
      ]
     },
     "execution_count": 437,
     "metadata": {},
     "output_type": "execute_result"
    },
    {
     "data": {
      "image/png": "[encoded data removed]",
      "text/plain": [
       "<Figure size 432x288 with 1 Axes>"
      ]
     },
     "metadata": {
      "needs_background": "light"
     },
     "output_type": "display_data"
    }
   ],
   "source": [
    "#plt.hist(label[0])\n",
    "plt.hist(label[1])"
   ]
  },
  {
   "cell_type": "code",
   "execution_count": 433,
   "metadata": {},
   "outputs": [
    {
     "data": {
      "text/plain": [
       "array([[0.65, 0.28, 0.67, ..., 0.65, 0.27, 0.67],\n",
       "       [0.28, 0.82, 0.25, ..., 0.27, 0.83, 0.24],\n",
       "       [0.67, 0.25, 0.69, ..., 0.67, 0.24, 0.7 ],\n",
       "       ...,\n",
       "       [0.65, 0.27, 0.67, ..., 0.66, 0.26, 0.67],\n",
       "       [0.27, 0.83, 0.24, ..., 0.26, 0.84, 0.25],\n",
       "       [0.67, 0.24, 0.7 , ..., 0.67, 0.25, 0.72]])"
      ]
     },
     "execution_count": 433,
     "metadata": {},
     "output_type": "execute_result"
    }
   ],
   "source": [
    "np.round(fit_matrix(label),2)"
   ]
  },
  {
   "cell_type": "code",
   "execution_count": 303,
   "metadata": {},
   "outputs": [
    {
     "data": {
      "text/plain": [
       "array([[2, 0],\n",
       "       [0, 2]])"
      ]
     },
     "execution_count": 303,
     "metadata": {},
     "output_type": "execute_result"
    }
   ],
   "source": [
    "b = np.array([[1,0,0,1],[0,1,1,0]])\n",
    "b@b.T"
   ]
  },
  {
   "cell_type": "code",
   "execution_count": 409,
   "metadata": {},
   "outputs": [
    {
     "data": {
      "text/plain": [
       "array([[-4., -4., -4., ..., -4.,  4.,  4.],\n",
       "       [-4., -4., -4., ..., -4.,  4., -4.]])"
      ]
     },
     "execution_count": 409,
     "metadata": {},
     "output_type": "execute_result"
    }
   ],
   "source": [
    "label"
   ]
  },
  {
   "cell_type": "code",
   "execution_count": 237,
   "metadata": {},
   "outputs": [],
   "source": [
    "X = np.array(([[-0.32201205,  1.09377148, -4.99817922, -0.68443675, -2.39556086,\n",
    "        -0.63783134,  0.5669193 , -0.82398457,  2.31086414,  1.7626243 ,\n",
    "         2.37450341, -2.86840119, -0.79151124, -0.09624591, -1.08464188,\n",
    "        -1.41776603,  1.12721636, -3.73803856,  0.44315782,  0.46397667],\n",
    "       [ 1.49263004,  0.80177148, -3.43014822,  0.97735729,  1.80669696,\n",
    "        -0.04428417, -1.13108515, -0.3633234 , -2.18065873, -0.76111617,\n",
    "        -2.18376507,  1.79942724,  1.01357068,  4.79051656, -0.25869305,\n",
    "         1.82149727, -0.27567336, -3.2300958 , -0.04374908, -0.953247  ]]))"
   ]
  },
  {
   "cell_type": "code",
   "execution_count": 243,
   "metadata": {},
   "outputs": [
    {
     "data": {
      "text/plain": [
       "-15.951127543792534"
      ]
     },
     "execution_count": 243,
     "metadata": {},
     "output_type": "execute_result"
    }
   ],
   "source": [
    "np.min(X.T@X)"
   ]
  },
  {
   "cell_type": "code",
   "execution_count": 240,
   "metadata": {},
   "outputs": [
    {
     "name": "stdout",
     "output_type": "stream",
     "text": [
      "mins 1.1817164367711117e-07 1.0981743964607622e-16\n",
      "X [[9.11463463e-01 6.99420656e-01 2.90158380e-02 8.42802508e-01\n",
      "  9.69767229e-01 5.34766182e-01 1.33443804e-01 4.31195683e-01\n",
      "  1.80031240e-02 1.53989009e-01 1.75642035e-02 9.73648853e-01\n",
      "  8.54179158e-01 9.99240022e-01 4.90784728e-01 9.59896401e-01\n",
      "  3.15516062e-01 2.61439788e-02 4.48185841e-01 1.71895704e-01]\n",
      " [6.99420656e-01 8.62850936e-01 2.69934595e-04 5.08749058e-01\n",
      "  2.36559026e-01 3.24504408e-01 4.28789504e-01 2.32802616e-01\n",
      "  6.85500623e-01 7.88793286e-01 6.99786953e-01 1.55165826e-01\n",
      "  4.86733026e-01 9.76697777e-01 1.98807685e-01 4.77443449e-01\n",
      "  7.33389876e-01 1.25626065e-03 6.10552834e-01 4.36150056e-01]\n",
      " [2.90158380e-02 2.69934595e-04 1.00000000e+00 5.17107613e-01\n",
      "  9.96909121e-01 9.65772425e-01 7.40049423e-01 9.95342813e-01\n",
      "  1.67884944e-02 2.02699693e-03 1.24003129e-02 9.99715497e-01\n",
      "  6.17610285e-01 1.18171644e-07 9.98182710e-01 6.98095062e-01\n",
      "  9.11724175e-03 1.00000000e+00 1.12553819e-01 7.21263964e-01]\n",
      " [8.42802508e-01 5.08749058e-01 5.17107613e-01 8.05914823e-01\n",
      "  9.67872821e-01 5.97070540e-01 1.83397768e-01 5.52028126e-01\n",
      "  2.38246134e-02 1.24522036e-01 2.27647059e-02 9.76383793e-01\n",
      "  8.22351359e-01 9.91404813e-01 6.19996466e-01 9.39948627e-01\n",
      "  2.60968725e-01 3.54685408e-01 4.14335279e-01 2.22834222e-01]\n",
      " [9.69767229e-01 2.36559026e-01 9.96909121e-01 9.67872821e-01\n",
      "  9.99876958e-01 8.09683618e-01 3.22449431e-02 7.88763789e-01\n",
      "  7.66943986e-05 3.69313339e-03 6.54820415e-05 9.99959834e-01\n",
      "  9.76508124e-01 9.99861648e-01 8.93874752e-01 9.98754831e-01\n",
      "  3.92269725e-02 9.57665436e-01 2.42200516e-01 5.55293549e-02]\n",
      " [5.34766182e-01 3.24504408e-01 9.65772425e-01 5.97070540e-01\n",
      "  8.09683618e-01 6.00797686e-01 4.22746274e-01 6.32196784e-01\n",
      "  2.01431253e-01 2.51514419e-01 1.95002551e-01 8.51936409e-01\n",
      "  6.13006001e-01 4.62382370e-01 6.68913391e-01 6.95006792e-01\n",
      "  3.30313839e-01 9.26032276e-01 4.30276641e-01 4.36906836e-01]\n",
      " [1.33443804e-01 4.28789504e-01 7.40049423e-01 1.83397768e-01\n",
      "  3.22449431e-02 4.22746274e-01 8.32123337e-01 4.85957930e-01\n",
      "  9.77611922e-01 8.65314772e-01 9.78462272e-01 2.50513417e-02\n",
      "  1.68659476e-01 4.18087200e-03 4.20115189e-01 5.39607342e-02\n",
      "  7.21286239e-01 8.22641470e-01 5.74618189e-01 7.92693926e-01]\n",
      " [4.31195683e-01 2.32802616e-01 9.95342813e-01 5.52028126e-01\n",
      "  7.88763789e-01 6.32196784e-01 4.85957930e-01 6.92312858e-01\n",
      "  2.47529495e-01 2.35800295e-01 2.38096978e-01 8.46803116e-01\n",
      "  5.70511682e-01 1.59600760e-01 7.28636833e-01 6.23967979e-01\n",
      "  3.03930532e-01 9.85986969e-01 4.13561846e-01 4.91007801e-01]\n",
      " [1.80031240e-02 6.85500623e-01 1.67884944e-02 2.38246134e-02\n",
      "  7.66943986e-05 2.01431253e-01 9.77611922e-01 2.47529495e-01\n",
      "  9.99958731e-01 9.96772838e-01 9.99964615e-01 2.61294298e-05\n",
      "  1.73046025e-02 2.32567246e-05 1.25391143e-01 7.10856689e-04\n",
      "  9.61059197e-01 1.68770987e-01 7.53892124e-01 9.58943911e-01]\n",
      " [1.53989009e-01 7.88793286e-01 2.02699693e-03 1.24522036e-01\n",
      "  3.69313339e-03 2.51514419e-01 8.65314772e-01 2.35800295e-01\n",
      "  9.96772838e-01 9.75544538e-01 9.97121078e-01 1.61712525e-03\n",
      "  1.02791835e-01 2.15459704e-02 1.52526571e-01 2.01270176e-02\n",
      "  8.99950833e-01 1.58239612e-02 6.93050339e-01 8.23950936e-01]\n",
      " [1.75642035e-02 6.99786953e-01 1.24003129e-02 2.27647059e-02\n",
      "  6.54820415e-05 1.95002551e-01 9.78462272e-01 2.38096978e-01\n",
      "  9.99964615e-01 9.97121078e-01 9.99969784e-01 2.16484563e-05\n",
      "  1.64176178e-02 2.27733003e-05 1.18098537e-01 6.45904757e-04\n",
      "  9.63686797e-01 1.39168312e-01 7.59112043e-01 9.60204089e-01]\n",
      " [9.73648853e-01 1.55165826e-01 9.99715497e-01 9.76383793e-01\n",
      "  9.99959834e-01 8.51936409e-01 2.50513417e-02 8.46803116e-01\n",
      "  2.61294298e-05 1.61712525e-03 2.16484563e-05 9.99989516e-01\n",
      "  9.83604524e-01 9.99863118e-01 9.33744771e-01 9.99354199e-01\n",
      "  2.34452500e-02 9.92680537e-01 2.05890366e-01 4.53831203e-02]\n",
      " [8.54179158e-01 4.86733026e-01 6.17610285e-01 8.22351359e-01\n",
      "  9.76508124e-01 6.13006001e-01 1.68659476e-01 5.70511682e-01\n",
      "  1.73046025e-02 1.02791835e-01 1.64176178e-02 9.83604524e-01\n",
      "  8.39406069e-01 9.92837492e-01 6.44809933e-01 9.51125674e-01\n",
      "  2.36562494e-01 4.21838461e-01 4.02488458e-01 2.08593236e-01]\n",
      " [9.99240022e-01 9.76697777e-01 1.18171644e-07 9.91404813e-01\n",
      "  9.99861648e-01 4.62382370e-01 4.18087200e-03 1.59600760e-01\n",
      "  2.32567246e-05 2.15459704e-02 2.27733003e-05 9.99863118e-01\n",
      "  9.92837492e-01 1.00000000e+00 2.43261456e-01 9.99858401e-01\n",
      "  1.93237744e-01 2.72928285e-07 4.37274003e-01 9.84204081e-03]\n",
      " [4.90784728e-01 1.98807685e-01 9.98182710e-01 6.19996466e-01\n",
      "  8.93874752e-01 6.68913391e-01 4.20115189e-01 7.28636833e-01\n",
      "  1.25391143e-01 1.52526571e-01 1.18098537e-01 9.33744771e-01\n",
      "  6.44809933e-01 2.43261456e-01 7.76150084e-01 7.43942121e-01\n",
      "  2.40249652e-01 9.92534997e-01 3.84770114e-01 4.36187352e-01]\n",
      " [9.59896401e-01 4.77443449e-01 6.98095062e-01 9.39948627e-01\n",
      "  9.98754831e-01 6.95006792e-01 5.39607342e-02 6.23967979e-01\n",
      "  7.10856689e-04 2.01270176e-02 6.45904757e-04 9.99354199e-01\n",
      "  9.51125674e-01 9.99858401e-01 7.43942121e-01 9.95169258e-01\n",
      "  1.09070840e-01 3.58024989e-01 3.30044691e-01 8.36200943e-02]\n",
      " [3.15516062e-01 7.33389876e-01 9.11724175e-03 2.60968725e-01\n",
      "  3.92269725e-02 3.30313839e-01 7.21286239e-01 3.03930532e-01\n",
      "  9.61059197e-01 8.99950833e-01 9.63686797e-01 2.34452500e-02\n",
      "  2.36562494e-01 1.93237744e-01 2.40249652e-01 1.09070840e-01\n",
      "  7.93575265e-01 3.47862678e-02 6.25180352e-01 6.86925980e-01]\n",
      " [2.61439788e-02 1.25626065e-03 1.00000000e+00 3.54685408e-01\n",
      "  9.57665436e-01 9.26032276e-01 8.22641470e-01 9.85986969e-01\n",
      "  1.68770987e-01 1.58239612e-02 1.39168312e-01 9.92680537e-01\n",
      "  4.21838461e-01 2.72928285e-07 9.92534997e-01 3.58024989e-01\n",
      "  3.47862678e-02 1.00000000e+00 1.80165399e-01 7.93264490e-01]\n",
      " [4.48185841e-01 6.10552834e-01 1.12553819e-01 4.14335279e-01\n",
      "  2.42200516e-01 4.30276641e-01 5.74618189e-01 4.13561846e-01\n",
      "  7.53892124e-01 6.93050339e-01 7.59112043e-01 2.05890366e-01\n",
      "  4.02488458e-01 4.37274003e-01 3.84770114e-01 3.30044691e-01\n",
      "  6.25180352e-01 1.80165399e-01 5.49413886e-01 5.61516400e-01]\n",
      " [1.71895704e-01 4.36150056e-01 7.21263964e-01 2.22834222e-01\n",
      "  5.55293549e-02 4.36906836e-01 7.92693926e-01 4.91007801e-01\n",
      "  9.58943911e-01 8.23950936e-01 9.60204089e-01 4.53831203e-02\n",
      "  2.08593236e-01 9.84204081e-03 4.36187352e-01 8.36200943e-02\n",
      "  6.86925980e-01 7.93264490e-01 5.61516400e-01 7.54721442e-01]]\n",
      "1-X [[8.85365368e-02 3.00579344e-01 9.70984162e-01 1.57197492e-01\n",
      "  3.02327706e-02 4.65233818e-01 8.66556196e-01 5.68804317e-01\n",
      "  9.81996876e-01 8.46010991e-01 9.82435796e-01 2.63511474e-02\n",
      "  1.45820842e-01 7.59977649e-04 5.09215272e-01 4.01035987e-02\n",
      "  6.84483938e-01 9.73856021e-01 5.51814159e-01 8.28104296e-01]\n",
      " [3.00579344e-01 1.37149064e-01 9.99730065e-01 4.91250942e-01\n",
      "  7.63440974e-01 6.75495592e-01 5.71210496e-01 7.67197384e-01\n",
      "  3.14499377e-01 2.11206714e-01 3.00213047e-01 8.44834174e-01\n",
      "  5.13266974e-01 2.33022226e-02 8.01192315e-01 5.22556551e-01\n",
      "  2.66610124e-01 9.98743739e-01 3.89447166e-01 5.63849944e-01]\n",
      " [9.70984162e-01 9.99730065e-01 0.00000000e+00 4.82892387e-01\n",
      "  3.09087884e-03 3.42275750e-02 2.59950577e-01 4.65718666e-03\n",
      "  9.83211506e-01 9.97973003e-01 9.87599687e-01 2.84503324e-04\n",
      "  3.82389715e-01 9.99999882e-01 1.81728990e-03 3.01904938e-01\n",
      "  9.90882758e-01 1.18571819e-13 8.87446181e-01 2.78736036e-01]\n",
      " [1.57197492e-01 4.91250942e-01 4.82892387e-01 1.94085177e-01\n",
      "  3.21271787e-02 4.02929460e-01 8.16602232e-01 4.47971874e-01\n",
      "  9.76175387e-01 8.75477964e-01 9.77235294e-01 2.36162072e-02\n",
      "  1.77648641e-01 8.59518721e-03 3.80003534e-01 6.00513730e-02\n",
      "  7.39031275e-01 6.45314592e-01 5.85664721e-01 7.77165778e-01]\n",
      " [3.02327706e-02 7.63440974e-01 3.09087884e-03 3.21271787e-02\n",
      "  1.23041509e-04 1.90316382e-01 9.67755057e-01 2.11236211e-01\n",
      "  9.99923306e-01 9.96306867e-01 9.99934518e-01 4.01660072e-05\n",
      "  2.34918759e-02 1.38351501e-04 1.06125248e-01 1.24516860e-03\n",
      "  9.60773028e-01 4.23345645e-02 7.57799484e-01 9.44470645e-01]\n",
      " [4.65233818e-01 6.75495592e-01 3.42275750e-02 4.02929460e-01\n",
      "  1.90316382e-01 3.99202314e-01 5.77253726e-01 3.67803216e-01\n",
      "  7.98568747e-01 7.48485581e-01 8.04997449e-01 1.48063591e-01\n",
      "  3.86993999e-01 5.37617630e-01 3.31086609e-01 3.04993208e-01\n",
      "  6.69686161e-01 7.39677239e-02 5.69723359e-01 5.63093164e-01]\n",
      " [8.66556196e-01 5.71210496e-01 2.59950577e-01 8.16602232e-01\n",
      "  9.67755057e-01 5.77253726e-01 1.67876663e-01 5.14042070e-01\n",
      "  2.23880782e-02 1.34685228e-01 2.15377278e-02 9.74948658e-01\n",
      "  8.31340524e-01 9.95819128e-01 5.79884811e-01 9.46039266e-01\n",
      "  2.78713761e-01 1.77358530e-01 4.25381811e-01 2.07306074e-01]\n",
      " [5.68804317e-01 7.67197384e-01 4.65718666e-03 4.47971874e-01\n",
      "  2.11236211e-01 3.67803216e-01 5.14042070e-01 3.07687142e-01\n",
      "  7.52470505e-01 7.64199705e-01 7.61903022e-01 1.53196884e-01\n",
      "  4.29488318e-01 8.40399240e-01 2.71363167e-01 3.76032021e-01\n",
      "  6.96069468e-01 1.40130306e-02 5.86438154e-01 5.08992199e-01]\n",
      " [9.81996876e-01 3.14499377e-01 9.83211506e-01 9.76175387e-01\n",
      "  9.99923306e-01 7.98568747e-01 2.23880782e-02 7.52470505e-01\n",
      "  4.12686742e-05 3.22716161e-03 3.53845056e-05 9.99973871e-01\n",
      "  9.82695397e-01 9.99976743e-01 8.74608857e-01 9.99289143e-01\n",
      "  3.89408031e-02 8.31229013e-01 2.46107876e-01 4.10560886e-02]\n",
      " [8.46010991e-01 2.11206714e-01 9.97973003e-01 8.75477964e-01\n",
      "  9.96306867e-01 7.48485581e-01 1.34685228e-01 7.64199705e-01\n",
      "  3.22716161e-03 2.44554616e-02 2.87892191e-03 9.98382875e-01\n",
      "  8.97208165e-01 9.78454030e-01 8.47473429e-01 9.79872982e-01\n",
      "  1.00049167e-01 9.84176039e-01 3.06949661e-01 1.76049064e-01]\n",
      " [9.82435796e-01 3.00213047e-01 9.87599687e-01 9.77235294e-01\n",
      "  9.99934518e-01 8.04997449e-01 2.15377278e-02 7.61903022e-01\n",
      "  3.53845056e-05 2.87892191e-03 3.02163756e-05 9.99978352e-01\n",
      "  9.83582382e-01 9.99977227e-01 8.81901463e-01 9.99354095e-01\n",
      "  3.63132031e-02 8.60831688e-01 2.40887957e-01 3.97959110e-02]\n",
      " [2.63511474e-02 8.44834174e-01 2.84503324e-04 2.36162072e-02\n",
      "  4.01660072e-05 1.48063591e-01 9.74948658e-01 1.53196884e-01\n",
      "  9.99973871e-01 9.98382875e-01 9.99978352e-01 1.04838533e-05\n",
      "  1.63954759e-02 1.36881528e-04 6.62552295e-02 6.45800722e-04\n",
      "  9.76554750e-01 7.31946336e-03 7.94109634e-01 9.54616880e-01]\n",
      " [1.45820842e-01 5.13266974e-01 3.82389715e-01 1.77648641e-01\n",
      "  2.34918759e-02 3.86993999e-01 8.31340524e-01 4.29488318e-01\n",
      "  9.82695397e-01 8.97208165e-01 9.83582382e-01 1.63954759e-02\n",
      "  1.60593931e-01 7.16250765e-03 3.55190067e-01 4.88743260e-02\n",
      "  7.63437506e-01 5.78161539e-01 5.97511542e-01 7.91406764e-01]\n",
      " [7.59977649e-04 2.33022226e-02 9.99999882e-01 8.59518721e-03\n",
      "  1.38351501e-04 5.37617630e-01 9.95819128e-01 8.40399240e-01\n",
      "  9.99976743e-01 9.78454030e-01 9.99977227e-01 1.36881528e-04\n",
      "  7.16250765e-03 1.06987086e-10 7.56738544e-01 1.41599398e-04\n",
      "  8.06762256e-01 9.99999727e-01 5.62725997e-01 9.90157959e-01]\n",
      " [5.09215272e-01 8.01192315e-01 1.81728990e-03 3.80003534e-01\n",
      "  1.06125248e-01 3.31086609e-01 5.79884811e-01 2.71363167e-01\n",
      "  8.74608857e-01 8.47473429e-01 8.81901463e-01 6.62552295e-02\n",
      "  3.55190067e-01 7.56738544e-01 2.23849916e-01 2.56057879e-01\n",
      "  7.59750348e-01 7.46500252e-03 6.15229886e-01 5.63812648e-01]\n",
      " [4.01035987e-02 5.22556551e-01 3.01904938e-01 6.00513730e-02\n",
      "  1.24516860e-03 3.04993208e-01 9.46039266e-01 3.76032021e-01\n",
      "  9.99289143e-01 9.79872982e-01 9.99354095e-01 6.45800722e-04\n",
      "  4.88743260e-02 1.41599398e-04 2.56057879e-01 4.83074167e-03\n",
      "  8.90929160e-01 6.41975011e-01 6.69955309e-01 9.16379906e-01]\n",
      " [6.84483938e-01 2.66610124e-01 9.90882758e-01 7.39031275e-01\n",
      "  9.60773028e-01 6.69686161e-01 2.78713761e-01 6.96069468e-01\n",
      "  3.89408031e-02 1.00049167e-01 3.63132031e-02 9.76554750e-01\n",
      "  7.63437506e-01 8.06762256e-01 7.59750348e-01 8.90929160e-01\n",
      "  2.06424735e-01 9.65213732e-01 3.74819648e-01 3.13074020e-01]\n",
      " [9.73856021e-01 9.98743739e-01 1.18571819e-13 6.45314592e-01\n",
      "  4.23345645e-02 7.39677239e-02 1.77358530e-01 1.40130306e-02\n",
      "  8.31229013e-01 9.84176039e-01 8.60831688e-01 7.31946336e-03\n",
      "  5.78161539e-01 9.99999727e-01 7.46500252e-03 6.41975011e-01\n",
      "  9.65213732e-01 2.51427767e-11 8.19834601e-01 2.06735510e-01]\n",
      " [5.51814159e-01 3.89447166e-01 8.87446181e-01 5.85664721e-01\n",
      "  7.57799484e-01 5.69723359e-01 4.25381811e-01 5.86438154e-01\n",
      "  2.46107876e-01 3.06949661e-01 2.40887957e-01 7.94109634e-01\n",
      "  5.97511542e-01 5.62725997e-01 6.15229886e-01 6.69955309e-01\n",
      "  3.74819648e-01 8.19834601e-01 4.50586114e-01 4.38483600e-01]\n",
      " [8.28104296e-01 5.63849944e-01 2.78736036e-01 7.77165778e-01\n",
      "  9.44470645e-01 5.63093164e-01 2.07306074e-01 5.08992199e-01\n",
      "  4.10560886e-02 1.76049064e-01 3.97959110e-02 9.54616880e-01\n",
      "  7.91406764e-01 9.90157959e-01 5.63812648e-01 9.16379906e-01\n",
      "  3.13074020e-01 2.06735510e-01 4.38483600e-01 2.45278558e-01]]\n"
     ]
    },
    {
     "name": "stderr",
     "output_type": "stream",
     "text": [
      "<ipython-input-239-4e996d08a018>:15: RuntimeWarning: divide by zero encountered in true_divide\n",
      "  complement_errs = -np.divide(X_prime,1-X)* labels[[row]].T[:None]\n",
      "<ipython-input-239-4e996d08a018>:16: RuntimeWarning: invalid value encountered in multiply\n",
      "  deriv_errs = np.multiply(sample, sample_errs) + np.multiply(sample_complement, complement_errs)\n"
     ]
    },
    {
     "data": {
      "text/plain": [
       "array([-1.91287936e-02,  2.91928136e-03,             nan, -7.46746603e-03,\n",
       "       -2.59984659e-02,  5.33388518e-02, -1.74129104e-04,  1.32825317e-02,\n",
       "        4.63165085e-02, -1.31315079e-02,  8.23514952e-02, -9.54877148e-02,\n",
       "        4.06325760e-03,  1.03503565e-01,  9.52427295e-03,  2.82853916e-03,\n",
       "       -4.15710968e-02, -2.34470138e-01, -2.81197523e-02,  9.27382438e-04])"
      ]
     },
     "execution_count": 240,
     "metadata": {},
     "output_type": "execute_result"
    }
   ],
   "source": [
    "derivative(0,A,X)"
   ]
  },
  {
   "cell_type": "code",
   "execution_count": 255,
   "metadata": {},
   "outputs": [],
   "source": [
    "true_labels = np.random.randint(2,size=30)\n",
    "\n",
    "n = 30\n",
    "G = create_graph(n, true_labels, basic_func)"
   ]
  },
  {
   "cell_type": "code",
   "execution_count": 153,
   "metadata": {},
   "outputs": [
    {
     "data": {
      "text/plain": [
       "array([ 0.        , -2.        , -1.46211716, -1.46211716,  0.        ,\n",
       "        2.        ,  0.        ,  2.        ])"
      ]
     },
     "execution_count": 153,
     "metadata": {},
     "output_type": "execute_result"
    }
   ],
   "source": [
    "derivative(0,M, np.array([[0,0,1,1,0,0,0,0]]))"
   ]
  },
  {
   "cell_type": "code",
   "execution_count": 136,
   "metadata": {},
   "outputs": [
    {
     "data": {
      "text/plain": [
       "array([[0.26894142, 0.26894142, 0.5       , 0.5       , 0.5       ,\n",
       "        0.5       , 0.5       , 0.5       ],\n",
       "       [0.26894142, 0.26894142, 0.5       , 0.5       , 0.5       ,\n",
       "        0.5       , 0.5       , 0.5       ],\n",
       "       [0.        , 0.        , 0.        , 0.        , 0.        ,\n",
       "        0.        , 0.        , 0.        ],\n",
       "       [0.        , 0.        , 0.        , 0.        , 0.        ,\n",
       "        0.        , 0.        , 0.        ],\n",
       "       [0.        , 0.        , 0.        , 0.        , 0.        ,\n",
       "        0.        , 0.        , 0.        ],\n",
       "       [0.        , 0.        , 0.        , 0.        , 0.        ,\n",
       "        0.        , 0.        , 0.        ],\n",
       "       [0.        , 0.        , 0.        , 0.        , 0.        ,\n",
       "        0.        , 0.        , 0.        ],\n",
       "       [0.        , 0.        , 0.        , 0.        , 0.        ,\n",
       "        0.        , 0.        , 0.        ]])"
      ]
     },
     "execution_count": 136,
     "metadata": {},
     "output_type": "execute_result"
    }
   ],
   "source": [
    "arr = np.array([[1,1,0,0,0,0,0,0]])\n",
    "\n",
    "np.divide(sigmoid_prime(arr.T@arr),fit_matrix(arr))*arr[[0]].T[:None]"
   ]
  },
  {
   "cell_type": "code",
   "execution_count": 131,
   "metadata": {},
   "outputs": [
    {
     "data": {
      "text/plain": [
       "array([1, 1, 0, 0, 0, 0, 0, 0])"
      ]
     },
     "execution_count": 131,
     "metadata": {},
     "output_type": "execute_result"
    }
   ],
   "source": [
    "arr[0]"
   ]
  },
  {
   "cell_type": "code",
   "execution_count": 128,
   "metadata": {},
   "outputs": [
    {
     "data": {
      "text/plain": [
       "array([[0.19661193, 0.19661193, 0.25      , 0.25      , 0.25      ,\n",
       "        0.25      , 0.25      , 0.25      ],\n",
       "       [0.19661193, 0.19661193, 0.25      , 0.25      , 0.25      ,\n",
       "        0.25      , 0.25      , 0.25      ],\n",
       "       [0.25      , 0.25      , 0.25      , 0.25      , 0.25      ,\n",
       "        0.25      , 0.25      , 0.25      ],\n",
       "       [0.25      , 0.25      , 0.25      , 0.25      , 0.25      ,\n",
       "        0.25      , 0.25      , 0.25      ],\n",
       "       [0.25      , 0.25      , 0.25      , 0.25      , 0.25      ,\n",
       "        0.25      , 0.25      , 0.25      ],\n",
       "       [0.25      , 0.25      , 0.25      , 0.25      , 0.25      ,\n",
       "        0.25      , 0.25      , 0.25      ],\n",
       "       [0.25      , 0.25      , 0.25      , 0.25      , 0.25      ,\n",
       "        0.25      , 0.25      , 0.25      ],\n",
       "       [0.25      , 0.25      , 0.25      , 0.25      , 0.25      ,\n",
       "        0.25      , 0.25      , 0.25      ]])"
      ]
     },
     "execution_count": 128,
     "metadata": {},
     "output_type": "execute_result"
    }
   ],
   "source": [
    "sigmoid_prime(arr.T@arr)"
   ]
  },
  {
   "cell_type": "code",
   "execution_count": 129,
   "metadata": {},
   "outputs": [
    {
     "data": {
      "text/plain": [
       "array([[0.73105858, 0.73105858, 0.5       , 0.5       , 0.5       ,\n",
       "        0.5       , 0.5       , 0.5       ],\n",
       "       [0.73105858, 0.73105858, 0.5       , 0.5       , 0.5       ,\n",
       "        0.5       , 0.5       , 0.5       ],\n",
       "       [0.5       , 0.5       , 0.5       , 0.5       , 0.5       ,\n",
       "        0.5       , 0.5       , 0.5       ],\n",
       "       [0.5       , 0.5       , 0.5       , 0.5       , 0.5       ,\n",
       "        0.5       , 0.5       , 0.5       ],\n",
       "       [0.5       , 0.5       , 0.5       , 0.5       , 0.5       ,\n",
       "        0.5       , 0.5       , 0.5       ],\n",
       "       [0.5       , 0.5       , 0.5       , 0.5       , 0.5       ,\n",
       "        0.5       , 0.5       , 0.5       ],\n",
       "       [0.5       , 0.5       , 0.5       , 0.5       , 0.5       ,\n",
       "        0.5       , 0.5       , 0.5       ],\n",
       "       [0.5       , 0.5       , 0.5       , 0.5       , 0.5       ,\n",
       "        0.5       , 0.5       , 0.5       ]])"
      ]
     },
     "execution_count": 129,
     "metadata": {},
     "output_type": "execute_result"
    }
   ],
   "source": [
    "fit_matrix(arr)"
   ]
  },
  {
   "cell_type": "code",
   "execution_count": 140,
   "metadata": {},
   "outputs": [
    {
     "data": {
      "text/plain": [
       "-0.5378631818331314"
      ]
     },
     "execution_count": 140,
     "metadata": {},
     "output_type": "execute_result"
    }
   ],
   "source": [
    "(log_likelihood(M, np.array([[1,1,0,0,0,0,0,0]]))-log_likelihood(M, np.array([[1.0001,1,0,0,0,0,0,0]])))/.0001\n"
   ]
  },
  {
   "cell_type": "code",
   "execution_count": 142,
   "metadata": {},
   "outputs": [
    {
     "data": {
      "text/plain": [
       "-0.5378631818331314"
      ]
     },
     "execution_count": 142,
     "metadata": {},
     "output_type": "execute_result"
    }
   ],
   "source": [
    "(log_likelihood(M, np.array([[1,1,0,0,0,0,0,0]]))-log_likelihood(M, np.array([[1,1.0001,0,0,0,0,0,0]])))/.0001\n",
    "\n",
    "\n"
   ]
  },
  {
   "cell_type": "code",
   "execution_count": 143,
   "metadata": {},
   "outputs": [
    {
     "data": {
      "text/plain": [
       "2.0000499999639487"
      ]
     },
     "execution_count": 143,
     "metadata": {},
     "output_type": "execute_result"
    }
   ],
   "source": [
    "(log_likelihood(M, np.array([[1,1,0,0,0,0,0,0]]))-log_likelihood(M, np.array([[1,1,0.0001,0,0,0,0,0]])))/.0001\n"
   ]
  },
  {
   "cell_type": "code",
   "execution_count": 145,
   "metadata": {},
   "outputs": [
    {
     "data": {
      "text/plain": [
       "5.000003966415534e-05"
      ]
     },
     "execution_count": 145,
     "metadata": {},
     "output_type": "execute_result"
    }
   ],
   "source": [
    "(log_likelihood(M, np.array([[1,1,0,0,0,0,0,0]]))-log_likelihood(M, np.array([[1,1,0,0.0001,0,0,0,0]])))/.0001"
   ]
  },
  {
   "cell_type": "code",
   "execution_count": 146,
   "metadata": {},
   "outputs": [
    {
     "data": {
      "text/plain": [
       "-1.9999499999556747"
      ]
     },
     "execution_count": 146,
     "metadata": {},
     "output_type": "execute_result"
    }
   ],
   "source": [
    "(log_likelihood(M, np.array([[1,1,0,0,0,0,0,0]]))-log_likelihood(M, np.array([[1,1,0,0,0.0001,0,0,0]])))/.0001\n",
    "\n"
   ]
  },
  {
   "cell_type": "code",
   "execution_count": 98,
   "metadata": {},
   "outputs": [
    {
     "data": {
      "text/plain": [
       "-1.9999499999556747"
      ]
     },
     "execution_count": 98,
     "metadata": {},
     "output_type": "execute_result"
    }
   ],
   "source": [
    "(log_likelihood(M, np.array([[1,1,0,0,0,0,0,0,0,0]]))-log_likelihood(M, np.array([[1,1.,0,0,0,0,0.0001,0,0,0]])))/.0001\n",
    "\n"
   ]
  },
  {
   "cell_type": "code",
   "execution_count": 100,
   "metadata": {},
   "outputs": [
    {
     "data": {
      "text/plain": [
       "array([[ -2,  -3,  -4,  -5],\n",
       "       [  6,  10,  14,  18],\n",
       "       [ -4,  -7, -10, -13],\n",
       "       [ 20,  36,  52,  68]])"
      ]
     },
     "execution_count": 100,
     "metadata": {},
     "output_type": "execute_result"
    }
   ],
   "source": [
    "(np.array([[1,2,3,4],[1,1,1,1]])).T @ np.array([[1,2,3,4],[1,1,1,1]]) *np.array([[-1,2,-1,4]]).T[:None]"
   ]
  },
  {
   "cell_type": "code",
   "execution_count": 101,
   "metadata": {},
   "outputs": [
    {
     "data": {
      "text/plain": [
       "array([[2. , 1. ],\n",
       "       [0.4, 1. ]])"
      ]
     },
     "execution_count": 101,
     "metadata": {},
     "output_type": "execute_result"
    }
   ],
   "source": [
    "np.divide(np.array([[1,1],[2,2]]),np.array([[.5,1],[5,2]]))"
   ]
  },
  {
   "cell_type": "code",
   "execution_count": null,
   "metadata": {},
   "outputs": [],
   "source": []
  }
 ],
 "metadata": {
  "kernelspec": {
   "display_name": "Python 3",
   "language": "python",
   "name": "python3"
  },
  "language_info": {
   "codemirror_mode": {
    "name": "ipython",
    "version": 3
   },
   "file_extension": ".py",
   "mimetype": "text/x-python",
   "name": "python",
   "nbconvert_exporter": "python",
   "pygments_lexer": "ipython3",
   "version": "3.8.5"
  }
 },
 "nbformat": 4,
 "nbformat_minor": 4
}
