{
 "cells": [
  {
   "cell_type": "code",
   "execution_count": 1,
   "metadata": {},
   "outputs": [],
   "source": [
    "import networkx as nx"
   ]
  },
  {
   "cell_type": "code",
   "execution_count": 4,
   "metadata": {},
   "outputs": [],
   "source": [
    "H = nx.read_gml(\"polblogs.gml\")"
   ]
  },
  {
   "cell_type": "code",
   "execution_count": 13,
   "metadata": {},
   "outputs": [],
   "source": [
    "H2 = nx.Graph(H)\n",
    "H3 = nx.to_undirected(H2)\n",
    "    "
   ]
  },
  {
   "cell_type": "code",
   "execution_count": 21,
   "metadata": {},
   "outputs": [
    {
     "name": "stdout",
     "output_type": "stream",
     "text": [
      "100monkeystyping.com\n",
      "\trudepundit.blogspot.com\n",
      "\ttownhall.com/clog\n",
      "\ttbogg.blogspot.com\n",
      "\tamericablog.blogspot.com\n",
      "\tpowerlineblog.com\n",
      "\toliverwillis.com\n",
      "\tmydd.com\n",
      "\ttalkleft.com\n",
      "\tlightupthedarkness.org\n",
      "\tblogforamerica.com\n",
      "\tdailykos.com\n",
      "\tjuancole.com\n",
      "\tatrios.blogspot.com\n",
      "\ttheleftcoaster.com\n",
      "\ttalkingpointsmemo.com\n",
      "\t12thharmonic.com/wordpress\n",
      "\talthippo.blogspot.com\n",
      "\tbeastsbelly.blogspot.com\n",
      "\tburntorangereport.com\n",
      "\tdogfight04.typepad.com\n",
      "\tgoose3five.blogspot.com\n",
      "\thereswhatsleft.typepad.com\n",
      "\thereswhatsleft.typepad.com/home\n",
      "\tpeacegarden.blogspot.com\n",
      "\trobschumacher.blogspot.com\n",
      "\tmarkheimonen.blogspot.com\n"
     ]
    }
   ],
   "source": [
    "for node in H3.nodes:\n",
    "    print(node)\n",
    "    for neighbor in H3[node]:\n",
    "        print (\"\\t\" + neighbor)\n",
    "    break"
   ]
  },
  {
   "cell_type": "code",
   "execution_count": 20,
   "metadata": {},
   "outputs": [
    {
     "data": {
      "text/plain": [
       "AtlasView({'rudepundit.blogspot.com': {}, 'townhall.com/clog': {}, 'tbogg.blogspot.com': {}, 'americablog.blogspot.com': {}, 'powerlineblog.com': {}, 'oliverwillis.com': {}, 'mydd.com': {}, 'talkleft.com': {}, 'lightupthedarkness.org': {}, 'blogforamerica.com': {}, 'dailykos.com': {}, 'juancole.com': {}, 'atrios.blogspot.com': {}, 'theleftcoaster.com': {}, 'talkingpointsmemo.com': {}, '12thharmonic.com/wordpress': {}, 'althippo.blogspot.com': {}, 'beastsbelly.blogspot.com': {}, 'burntorangereport.com': {}, 'dogfight04.typepad.com': {}, 'goose3five.blogspot.com': {}, 'hereswhatsleft.typepad.com': {}, 'hereswhatsleft.typepad.com/home': {}, 'peacegarden.blogspot.com': {}, 'robschumacher.blogspot.com': {}, 'markheimonen.blogspot.com': {}})"
      ]
     },
     "execution_count": 20,
     "metadata": {},
     "output_type": "execute_result"
    }
   ],
   "source": [
    "H3[node]"
   ]
  },
  {
   "cell_type": "code",
   "execution_count": null,
   "metadata": {},
   "outputs": [],
   "source": []
  },
  {
   "cell_type": "markdown",
   "metadata": {},
   "source": [
    "# Applying my model"
   ]
  },
  {
   "cell_type": "code",
   "execution_count": 22,
   "metadata": {},
   "outputs": [],
   "source": [
    "import pandas as pd\n",
    "import numpy as np\n",
    "\n",
    "import networkx as nx\n",
    "import matplotlib.pyplot as plt\n",
    "import netwulf as nw\n",
    "from scipy.optimize import minimize"
   ]
  },
  {
   "cell_type": "code",
   "execution_count": 23,
   "metadata": {},
   "outputs": [],
   "source": [
    "def bound(num, upper=1, lower = 0):\n",
    "    return min(max(num, lower), 1)\n",
    "\n",
    "def create_func_2param(params):\n",
    "    return lambda x,y: bound(sum([params[i]*x**i for i in range(len(params))])*sum([params[i]*y**i for i in range(len(params))]))\n",
    "\n",
    "def create_func_1param(params):\n",
    "    return lambda x: bound(sum([params[i]*x**i for i in range(len(params))]))"
   ]
  },
  {
   "cell_type": "code",
   "execution_count": 84,
   "metadata": {},
   "outputs": [],
   "source": [
    "#labels is a column numpy array\n",
    "def t_matrix_func1(labels, params=[0]):\n",
    "    return labels @ labels.T + params[0]\n",
    "def t_matrix_func2(labels, params=[0,1]):\n",
    "    return labels @ labels.T*params[1] + params[0]\n",
    "def t_matrix_func3(labels, params=[0,1, 1]):\n",
    "    return (labels @ labels.T)**2*params[2]+ labels @ labels.T*params[1] + params[0]"
   ]
  },
  {
   "cell_type": "code",
   "execution_count": 97,
   "metadata": {},
   "outputs": [],
   "source": [
    "def log_likelihood(G, G_c, labels, params, transition_func):\n",
    "    n = len(labels)\n",
    "    vec = np.zeros(n).reshape(-1, 1)\n",
    "    labels = np.array(labels).reshape(-1,1)\n",
    "    #for i in range(len(params)):\n",
    "    #    vec += labels**i*params[i]\n",
    "    transition_predictions = transition_func(labels, params)\n",
    "    transition_predictions = np.clip(transition_predictions, .0001, .9999)\n",
    "    prod = transition_predictions*G + (1-transition_predictions)*G_c\n",
    "    log_matrix = np.log(prod + np.identity(n))\n",
    "    return np.sum(log_matrix)/(n*(n-1))\n",
    "\n",
    "def find_opt_params(g, transition_func, num_params = 1):\n",
    "    labels = len(g.nodes)\n",
    "    G_c = nx.to_numpy_array(nx.complement(g))\n",
    "    G = nx.to_numpy_array(g)\n",
    "    func = lambda x: -log_likelihood(G,G_c, x[:-num_params], x[-num_params:], transition_func)\n",
    "    bounds = [(0,1) for i in range(labels)] + [(None, None) for i in range(1)]\n",
    "    res = minimize(func, list(np.random.rand(labels + num_params)),\n",
    "                    method='Nelder-Mead', options={'maxiter': 100, 'disp': True, 'adaptive':True})\n",
    "    return res.x"
   ]
  },
  {
   "cell_type": "code",
   "execution_count": 86,
   "metadata": {},
   "outputs": [],
   "source": [
    "def prob_matrix(labels, params, transition_func):\n",
    "    n = len(labels)\n",
    "    vec = np.zeros(n).reshape(-1, 1)\n",
    "    labels = np.array(labels).reshape(-1,1)\n",
    "    #for i in range(len(params)):\n",
    "    #    vec += labels**i*params[i]\n",
    "    transition_predictions = transition_func(labels,params)\n",
    "    transition_predictions = np.clip(transition_predictions, .0001, .999)\n",
    "    return transition_predictions"
   ]
  },
  {
   "cell_type": "code",
   "execution_count": 87,
   "metadata": {},
   "outputs": [],
   "source": [
    "G = nx.read_gml(\"polblogs.gml\")\n",
    "G = nx.Graph(G)\n",
    "G = nx.to_undirected(G)"
   ]
  },
  {
   "cell_type": "code",
   "execution_count": 98,
   "metadata": {},
   "outputs": [
    {
     "name": "stdout",
     "output_type": "stream",
     "text": [
      "Warning: Maximum number of iterations has been exceeded.\n"
     ]
    },
    {
     "data": {
      "text/plain": [
       "array([[0., 0., 0., ..., 0., 0., 0.],\n",
       "       [0., 0., 0., ..., 0., 0., 0.],\n",
       "       [0., 0., 0., ..., 0., 0., 0.],\n",
       "       ...,\n",
       "       [0., 0., 0., ..., 0., 0., 0.],\n",
       "       [0., 0., 0., ..., 0., 0., 0.],\n",
       "       [0., 0., 0., ..., 0., 0., 0.]])"
      ]
     },
     "execution_count": 98,
     "metadata": {},
     "output_type": "execute_result"
    }
   ],
   "source": [
    "l = find_opt_params(G,t_matrix_func1, num_params=1)\n",
    "np.round(probability_matrix(l[:-2], l[-2:]))"
   ]
  },
  {
   "cell_type": "code",
   "execution_count": 99,
   "metadata": {},
   "outputs": [
    {
     "data": {
      "text/plain": [
       "array([[0.13003588, 0.13003588, 0.13003588, ..., 0.13003588, 0.13003588,\n",
       "        0.13003588],\n",
       "       [0.13003588, 0.13003588, 0.13003588, ..., 0.13003588, 0.13003588,\n",
       "        0.13003588],\n",
       "       [0.13003588, 0.13003588, 0.13003588, ..., 0.13003588, 0.13003588,\n",
       "        0.13003588],\n",
       "       ...,\n",
       "       [0.13003588, 0.13003588, 0.13003588, ..., 0.13003588, 0.13003588,\n",
       "        0.13003588],\n",
       "       [0.13003588, 0.13003588, 0.13003588, ..., 0.13003588, 0.13003588,\n",
       "        0.13003588],\n",
       "       [0.13003588, 0.13003588, 0.13003588, ..., 0.13003588, 0.13003588,\n",
       "        0.13003588]])"
      ]
     },
     "execution_count": 99,
     "metadata": {},
     "output_type": "execute_result"
    }
   ],
   "source": [
    "probability_matrix(l[:-1], l[-1:])"
   ]
  },
  {
   "cell_type": "code",
   "execution_count": 100,
   "metadata": {},
   "outputs": [
    {
     "data": {
      "text/plain": [
       "(array([140., 162., 137., 153., 143., 163., 158., 141., 141., 152.]),\n",
       " array([1.68516912e-05, 1.00015046e-01, 2.00013240e-01, 3.00011434e-01,\n",
       "        4.00009628e-01, 5.00007822e-01, 6.00006016e-01, 7.00004211e-01,\n",
       "        8.00002405e-01, 9.00000599e-01, 9.99998793e-01]),\n",
       " <BarContainer object of 10 artists>)"
      ]
     },
     "execution_count": 100,
     "metadata": {},
     "output_type": "execute_result"
    },
    {
     "data": {
      "image/png": "[encoded data removed]",
      "text/plain": [
       "<Figure size 432x288 with 1 Axes>"
      ]
     },
     "metadata": {
      "needs_background": "light"
     },
     "output_type": "display_data"
    }
   ],
   "source": [
    "plt.hist(l[:-1])"
   ]
  },
  {
   "cell_type": "code",
   "execution_count": 70,
   "metadata": {},
   "outputs": [
    {
     "data": {
      "text/plain": [
       "(1490, 1490)"
      ]
     },
     "execution_count": 70,
     "metadata": {},
     "output_type": "execute_result"
    }
   ],
   "source": [
    "np.shape(G_mat)"
   ]
  },
  {
   "cell_type": "code",
   "execution_count": 44,
   "metadata": {},
   "outputs": [],
   "source": [
    "labels = len(G.nodes)\n",
    "G_c = nx.to_numpy_array(nx.complement(G))\n",
    "G_ = nx.to_numpy_array(G)"
   ]
  },
  {
   "cell_type": "code",
   "execution_count": 47,
   "metadata": {},
   "outputs": [
    {
     "data": {
      "text/plain": [
       "-2.6675729942954103"
      ]
     },
     "execution_count": 47,
     "metadata": {},
     "output_type": "execute_result"
    }
   ],
   "source": [
    "log_likelihood_optimized(G_, G_c, list(np.random.rand(labels)), list(np.random.rand(2)))"
   ]
  },
  {
   "cell_type": "code",
   "execution_count": 54,
   "metadata": {},
   "outputs": [
    {
     "data": {
      "text/plain": [
       "-0.3475921603989062"
      ]
     },
     "execution_count": 54,
     "metadata": {},
     "output_type": "execute_result"
    }
   ],
   "source": [
    "log_likelihood_optimized(G_, G_c, list(np.random.rand(labels)), list(np.random.rand(2)))"
   ]
  },
  {
   "cell_type": "code",
   "execution_count": 75,
   "metadata": {},
   "outputs": [
    {
     "name": "stdout",
     "output_type": "stream",
     "text": [
      "log_like\n"
     ]
    },
    {
     "data": {
      "text/plain": [
       "3.4064064754916163"
      ]
     },
     "execution_count": 75,
     "metadata": {},
     "output_type": "execute_result"
    }
   ],
   "source": [
    "-log_likelihood_optimized(G_, G_c, l[:-2], l[2:])"
   ]
  },
  {
   "cell_type": "code",
   "execution_count": null,
   "metadata": {},
   "outputs": [],
   "source": []
  }
 ],
 "metadata": {
  "kernelspec": {
   "display_name": "Python 3",
   "language": "python",
   "name": "python3"
  },
  "language_info": {
   "codemirror_mode": {
    "name": "ipython",
    "version": 3
   },
   "file_extension": ".py",
   "mimetype": "text/x-python",
   "name": "python",
   "nbconvert_exporter": "python",
   "pygments_lexer": "ipython3",
   "version": "3.8.5"
  }
 },
 "nbformat": 4,
 "nbformat_minor": 4
}
