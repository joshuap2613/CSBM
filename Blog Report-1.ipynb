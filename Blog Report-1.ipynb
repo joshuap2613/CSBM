{
 "cells": [
  {
   "cell_type": "code",
   "execution_count": 1,
   "metadata": {},
   "outputs": [],
   "source": [
    "import networkx as nx"
   ]
  },
  {
   "cell_type": "code",
   "execution_count": 2,
   "metadata": {},
   "outputs": [],
   "source": [
    "H = nx.read_gml(\"polblogs.gml\")"
   ]
  },
  {
   "cell_type": "code",
   "execution_count": 3,
   "metadata": {},
   "outputs": [],
   "source": [
    "H2 = nx.Graph(H)\n",
    "H3 = nx.to_undirected(H2)\n",
    "    "
   ]
  },
  {
   "cell_type": "code",
   "execution_count": 4,
   "metadata": {},
   "outputs": [
    {
     "name": "stdout",
     "output_type": "stream",
     "text": [
      "100monkeystyping.com\n",
      "\trudepundit.blogspot.com\n",
      "\ttownhall.com/clog\n",
      "\ttbogg.blogspot.com\n",
      "\tamericablog.blogspot.com\n",
      "\tpowerlineblog.com\n",
      "\toliverwillis.com\n",
      "\tmydd.com\n",
      "\ttalkleft.com\n",
      "\tlightupthedarkness.org\n",
      "\tblogforamerica.com\n",
      "\tdailykos.com\n",
      "\tjuancole.com\n",
      "\tatrios.blogspot.com\n",
      "\ttheleftcoaster.com\n",
      "\ttalkingpointsmemo.com\n",
      "\t12thharmonic.com/wordpress\n",
      "\talthippo.blogspot.com\n",
      "\tbeastsbelly.blogspot.com\n",
      "\tburntorangereport.com\n",
      "\tdogfight04.typepad.com\n",
      "\tgoose3five.blogspot.com\n",
      "\thereswhatsleft.typepad.com\n",
      "\thereswhatsleft.typepad.com/home\n",
      "\tpeacegarden.blogspot.com\n",
      "\trobschumacher.blogspot.com\n",
      "\tmarkheimonen.blogspot.com\n"
     ]
    }
   ],
   "source": [
    "for node in H3.nodes:\n",
    "    print(node)\n",
    "    for neighbor in H3[node]:\n",
    "        print (\"\\t\" + neighbor)\n",
    "    break"
   ]
  },
  {
   "cell_type": "code",
   "execution_count": 5,
   "metadata": {},
   "outputs": [
    {
     "data": {
      "text/plain": [
       "AtlasView({'rudepundit.blogspot.com': {}, 'townhall.com/clog': {}, 'tbogg.blogspot.com': {}, 'americablog.blogspot.com': {}, 'powerlineblog.com': {}, 'oliverwillis.com': {}, 'mydd.com': {}, 'talkleft.com': {}, 'lightupthedarkness.org': {}, 'blogforamerica.com': {}, 'dailykos.com': {}, 'juancole.com': {}, 'atrios.blogspot.com': {}, 'theleftcoaster.com': {}, 'talkingpointsmemo.com': {}, '12thharmonic.com/wordpress': {}, 'althippo.blogspot.com': {}, 'beastsbelly.blogspot.com': {}, 'burntorangereport.com': {}, 'dogfight04.typepad.com': {}, 'goose3five.blogspot.com': {}, 'hereswhatsleft.typepad.com': {}, 'hereswhatsleft.typepad.com/home': {}, 'peacegarden.blogspot.com': {}, 'robschumacher.blogspot.com': {}, 'markheimonen.blogspot.com': {}})"
      ]
     },
     "execution_count": 5,
     "metadata": {},
     "output_type": "execute_result"
    }
   ],
   "source": [
    "H3[node]"
   ]
  },
  {
   "cell_type": "code",
   "execution_count": null,
   "metadata": {},
   "outputs": [],
   "source": []
  },
  {
   "cell_type": "markdown",
   "metadata": {},
   "source": [
    "# Applying my model"
   ]
  },
  {
   "cell_type": "code",
   "execution_count": 6,
   "metadata": {},
   "outputs": [],
   "source": [
    "import pandas as pd\n",
    "import numpy as np\n",
    "\n",
    "import networkx as nx\n",
    "import matplotlib.pyplot as plt\n",
    "import netwulf as nw\n",
    "from scipy.optimize import minimize"
   ]
  },
  {
   "cell_type": "code",
   "execution_count": 7,
   "metadata": {},
   "outputs": [],
   "source": [
    "def bound(num, upper=1, lower = 0):\n",
    "    return min(max(num, lower), 1)\n",
    "\n",
    "def create_func_2param(params):\n",
    "    return lambda x,y: bound(sum([params[i]*x**i for i in range(len(params))])*sum([params[i]*y**i for i in range(len(params))]))\n",
    "\n",
    "def create_func_1param(params):\n",
    "    return lambda x: bound(sum([params[i]*x**i for i in range(len(params))]))"
   ]
  },
  {
   "cell_type": "code",
   "execution_count": 8,
   "metadata": {},
   "outputs": [],
   "source": [
    "#labels is a column numpy array\n",
    "def t_matrix_func1(labels, params=[0]):\n",
    "    return labels @ labels.T + params[0]\n",
    "def t_matrix_func2(labels, params=[0,1]):\n",
    "    return labels @ labels.T*params[1] + params[0]\n",
    "def t_matrix_func3(labels, params=[0,1, 1]):\n",
    "    return (labels @ labels.T)**2*params[2]+ labels @ labels.T*params[1] + params[0]"
   ]
  },
  {
   "cell_type": "code",
   "execution_count": 37,
   "metadata": {},
   "outputs": [],
   "source": [
    "def log_likelihood(G, G_c, labels, params, transition_func):\n",
    "    n = len(labels)\n",
    "    vec = np.zeros(n).reshape(-1, 1)\n",
    "    labels = np.array(labels).reshape(-1,1)\n",
    "    #for i in range(len(params)):\n",
    "    #    vec += labels**i*params[i]\n",
    "    transition_predictions = transition_func(labels, params)\n",
    "    transition_predictions = np.clip(transition_predictions, .0001, .9999)\n",
    "    prod = transition_predictions*G + (1-transition_predictions)*G_c\n",
    "    log_matrix = np.log(prod + np.identity(n))\n",
    "    return np.sum(log_matrix)/(n*(n-1))\n",
    "\n",
    "def find_opt_params(g, transition_func, num_params = 1):\n",
    "    labels = len(g.nodes)\n",
    "    G_c = nx.to_numpy_array(nx.complement(g))\n",
    "    G = nx.to_numpy_array(g)\n",
    "    func = lambda x: -log_likelihood(G,G_c, x[:-num_params], x[-num_params:], transition_func)\n",
    "    bounds = [(0,1) for i in range(labels)] + [(None, None) for i in range(1)]\n",
    "    res = minimize(func, list(np.random.rand(labels + num_params)),\n",
    "                    method='Nelder-Mead', options={'maxiter': 1000, 'disp': True})\n",
    "    return res.x"
   ]
  },
  {
   "cell_type": "code",
   "execution_count": 38,
   "metadata": {},
   "outputs": [],
   "source": [
    "def prob_matrix(labels, params, transition_func):\n",
    "    n = len(labels)\n",
    "    vec = np.zeros(n).reshape(-1, 1)\n",
    "    labels = np.array(labels).reshape(-1,1)\n",
    "    #for i in range(len(params)):\n",
    "    #    vec += labels**i*params[i]\n",
    "    transition_predictions = transition_func(labels,params)\n",
    "    transition_predictions = np.clip(transition_predictions, .0001, .999)\n",
    "    return transition_predictions"
   ]
  },
  {
   "cell_type": "code",
   "execution_count": 81,
   "metadata": {},
   "outputs": [],
   "source": [
    "G = nx.read_gml(\"polblogs.gml\")\n",
    "G = nx.Graph(G)\n",
    "G = nx.to_undirected(G)"
   ]
  },
  {
   "cell_type": "code",
   "execution_count": 40,
   "metadata": {},
   "outputs": [
    {
     "name": "stdout",
     "output_type": "stream",
     "text": [
      "Warning: Maximum number of iterations has been exceeded.\n"
     ]
    }
   ],
   "source": [
    "l = find_opt_params(G,t_matrix_func1, num_params=1)"
   ]
  },
  {
   "cell_type": "code",
   "execution_count": 43,
   "metadata": {},
   "outputs": [
    {
     "data": {
      "text/plain": [
       "array([[1., 1., 1., ..., 1., 1., 0.],\n",
       "       [1., 1., 1., ..., 1., 1., 0.],\n",
       "       [1., 1., 1., ..., 1., 1., 0.],\n",
       "       ...,\n",
       "       [1., 1., 1., ..., 1., 1., 0.],\n",
       "       [1., 1., 1., ..., 1., 1., 0.],\n",
       "       [0., 0., 0., ..., 0., 0., 0.]])"
      ]
     },
     "execution_count": 43,
     "metadata": {},
     "output_type": "execute_result"
    }
   ],
   "source": [
    "np.round(prob_matrix(l[:-1], l[-1:], t_matrix_func1))"
   ]
  },
  {
   "cell_type": "code",
   "execution_count": 44,
   "metadata": {},
   "outputs": [
    {
     "data": {
      "text/plain": [
       "array([[0.95064653, 0.74960974, 0.99020702, ..., 0.99343056, 0.999     ,\n",
       "        0.39370849],\n",
       "       [0.74960974, 0.61422123, 0.7762518 , ..., 0.7784227 , 0.85750487,\n",
       "        0.37453905],\n",
       "       [0.99020702, 0.7762518 , 0.999     , ..., 0.999     , 0.999     ,\n",
       "        0.3974807 ],\n",
       "       ...,\n",
       "       [0.99343056, 0.7784227 , 0.999     , ..., 0.999     , 0.999     ,\n",
       "        0.39778807],\n",
       "       [0.999     , 0.85750487, 0.999     , ..., 0.999     , 0.999     ,\n",
       "        0.40898519],\n",
       "       [0.39370849, 0.37453905, 0.3974807 , ..., 0.39778807, 0.40898519,\n",
       "        0.34060282]])"
      ]
     },
     "execution_count": 44,
     "metadata": {},
     "output_type": "execute_result"
    }
   ],
   "source": [
    "prob_matrix(l[:-1], l[-1:], t_matrix_func1)"
   ]
  },
  {
   "cell_type": "code",
   "execution_count": 82,
   "metadata": {},
   "outputs": [
    {
     "data": {
      "text/plain": [
       "array([[0., 1., 0., ..., 0., 0., 0.],\n",
       "       [1., 0., 0., ..., 0., 0., 0.],\n",
       "       [0., 0., 0., ..., 0., 0., 0.],\n",
       "       ...,\n",
       "       [0., 0., 0., ..., 0., 1., 0.],\n",
       "       [0., 0., 0., ..., 1., 0., 0.],\n",
       "       [0., 0., 0., ..., 0., 0., 0.]])"
      ]
     },
     "execution_count": 82,
     "metadata": {},
     "output_type": "execute_result"
    }
   ],
   "source": [
    "nx.to_numpy_array(G)"
   ]
  },
  {
   "cell_type": "code",
   "execution_count": 46,
   "metadata": {},
   "outputs": [
    {
     "data": {
      "image/png": "[encoded data removed]",
      "text/plain": [
       "<Figure size 432x288 with 1 Axes>"
      ]
     },
     "metadata": {
      "needs_background": "light"
     },
     "output_type": "display_data"
    }
   ],
   "source": [
    "plt.hist(l[:-1], bins=50)\n",
    "plt.show()"
   ]
  },
  {
   "cell_type": "code",
   "execution_count": 48,
   "metadata": {},
   "outputs": [
    {
     "data": {
      "text/plain": [
       "(1490, 1490)"
      ]
     },
     "execution_count": 48,
     "metadata": {},
     "output_type": "execute_result"
    }
   ],
   "source": [
    "np.shape(G_)"
   ]
  },
  {
   "cell_type": "code",
   "execution_count": 24,
   "metadata": {},
   "outputs": [],
   "source": [
    "labels = len(G.nodes)\n",
    "G_c = nx.to_numpy_array(nx.complement(G))\n",
    "G_ = nx.to_numpy_array(G)"
   ]
  },
  {
   "cell_type": "code",
   "execution_count": 55,
   "metadata": {},
   "outputs": [
    {
     "data": {
      "text/plain": [
       "-0.41573021582726394"
      ]
     },
     "execution_count": 55,
     "metadata": {},
     "output_type": "execute_result"
    }
   ],
   "source": [
    "log_likelihood(G_, G_c, list(np.random.rand(labels)), list(np.random.rand(2)),t_matrix_func1)"
   ]
  },
  {
   "cell_type": "code",
   "execution_count": 54,
   "metadata": {},
   "outputs": [
    {
     "data": {
      "text/plain": [
       "-0.3475921603989062"
      ]
     },
     "execution_count": 54,
     "metadata": {},
     "output_type": "execute_result"
    }
   ],
   "source": [
    "log_likelihood_optimized(G_, G_c, list(np.random.rand(labels)), list(np.random.rand(2)))"
   ]
  },
  {
   "cell_type": "code",
   "execution_count": 41,
   "metadata": {},
   "outputs": [
    {
     "data": {
      "text/plain": [
       "2.6201350581002845"
      ]
     },
     "execution_count": 41,
     "metadata": {},
     "output_type": "execute_result"
    }
   ],
   "source": [
    "-log_likelihood(G_, G_c, l[:-1], l[1:],t_matrix_func1)"
   ]
  },
  {
   "cell_type": "code",
   "execution_count": 35,
   "metadata": {},
   "outputs": [
    {
     "data": {
      "text/plain": [
       "5.566851965866219"
      ]
     },
     "execution_count": 35,
     "metadata": {},
     "output_type": "execute_result"
    }
   ],
   "source": [
    "-log_likelihood(G_, G_c, np.random.rand(len(l[:-1])), np.random.rand(1),t_matrix_func1)"
   ]
  },
  {
   "cell_type": "code",
   "execution_count": 42,
   "metadata": {},
   "outputs": [
    {
     "name": "stdout",
     "output_type": "stream",
     "text": [
      "0.8156675685654552\n",
      "0.5465971674738475\n",
      "4.9463351896906795\n",
      "5.797757951907461\n",
      "0.615405138524815\n",
      "5.074521498525194\n",
      "6.469729291722628\n",
      "1.6120977125254456\n",
      "8.023318044249775\n",
      "6.427070139967161\n",
      "0.7749519302728733\n",
      "0.44870831277047835\n",
      "5.66385336587268\n",
      "2.708638124378002\n",
      "3.459965767582128\n",
      "6.235521950015014\n",
      "3.5173876385704945\n",
      "1.207129913793597\n",
      "7.638122673338078\n",
      "2.616647277049485\n",
      "7.810229715465868\n",
      "1.0637306520676277\n",
      "1.7457543122951809\n",
      "6.804301204220381\n",
      "7.539706579262491\n",
      "3.279715976781961\n",
      "7.760332259790705\n",
      "3.3824769577030396\n",
      "1.725217981303893\n",
      "6.857064981474689\n",
      "7.943830601084695\n",
      "3.4115089297896426\n",
      "0.5245592811606041\n",
      "0.6532254730751278\n",
      "0.6058738036542582\n",
      "2.157621229061039\n",
      "1.593228670789813\n",
      "2.26720268393173\n",
      "6.9227226734952305\n",
      "7.742407169654096\n",
      "2.0409640457744684\n",
      "5.316298738290315\n",
      "0.9109655300166372\n",
      "4.528260878345366\n",
      "0.9721726110682104\n",
      "6.546704197526951\n",
      "4.2916513871059205\n",
      "1.1345808011084522\n",
      "0.4459903049664393\n",
      "0.8747839354307929\n",
      "4.807906178883874\n",
      "2.162967745802004\n",
      "4.492287457315515\n",
      "2.6403345053586973\n",
      "0.38696473760274924\n",
      "1.7456558162919211\n",
      "7.681556505250618\n",
      "7.50797229185787\n",
      "2.0290559541401443\n",
      "6.047472415395009\n",
      "8.73213271961666\n",
      "5.926490060101296\n",
      "4.616258622677638\n",
      "4.569681545176722\n",
      "0.4649076265028347\n",
      "5.841489150207426\n",
      "8.679871165453486\n",
      "2.160775109182953\n",
      "3.763382888228152\n",
      "7.876429085058343\n",
      "8.28502463688625\n",
      "0.6059633083336735\n",
      "0.4579617112092951\n",
      "4.901208149245609\n",
      "5.834327478937723\n",
      "5.2268272770543485\n",
      "7.493846786051612\n",
      "8.711281092325256\n",
      "4.104454933201632\n",
      "3.214099353212986\n",
      "0.39491540395047703\n",
      "2.203213243337695\n",
      "1.8521777482611783\n",
      "0.5475098197948375\n",
      "6.3409127472124975\n",
      "4.074588288975706\n",
      "7.857183953635545\n",
      "0.5530528523402226\n",
      "0.9234032312912731\n",
      "4.354051051399981\n",
      "4.195566104305781\n",
      "2.261087784501326\n",
      "0.6612988355764278\n",
      "4.697085457986689\n",
      "6.726895586738313\n",
      "6.297679183975239\n",
      "1.3236963942840645\n",
      "0.7807787657081358\n",
      "3.082561729503926\n",
      "0.8980370256272157\n"
     ]
    }
   ],
   "source": [
    "for i in range(100):\n",
    "    print(-log_likelihood(G_, G_c, np.random.rand(len(l[:-1])), np.random.rand(1),t_matrix_func1))"
   ]
  },
  {
   "cell_type": "code",
   "execution_count": 94,
   "metadata": {},
   "outputs": [],
   "source": [
    "def find_opt_params_seeded(g, transition_func, num_params = 1):\n",
    "    labels = len(g.nodes)\n",
    "    G_c = nx.to_numpy_array(nx.complement(g))\n",
    "    G_ = nx.to_numpy_array(g)\n",
    "    func = lambda x: -log_likelihood(G_,G_c, x[:-num_params], x[-num_params:], transition_func)\n",
    "    min_val = 10000\n",
    "    xlabels = []\n",
    "    for i in range(100):\n",
    "        vals = np.random.rand(labels + num_params)\n",
    "        if func(vals) < min_val:\n",
    "            xlabels = vals\n",
    "            min_val = func(vals)\n",
    "            print(\"min val is\", min_val)\n",
    "            print(\"labels\", xlabels)\n",
    "    print(\"min val is\", min_val)\n",
    "    print(\"labels\", xlabels)\n",
    "    res = minimize(func, xlabels,\n",
    "                    method='Nelder-Mead', options={'maxiter': 2000, 'disp': True, 'adaptive':True})\n",
    "    print(\"i have no idea why but\", func(res.x))\n",
    "    return res.x, xlabels"
   ]
  },
  {
   "cell_type": "code",
   "execution_count": 95,
   "metadata": {},
   "outputs": [
    {
     "data": {
      "text/plain": [
       "0.3791853758794436"
      ]
     },
     "execution_count": 95,
     "metadata": {},
     "output_type": "execute_result"
    }
   ],
   "source": [
    "-log_likelihood(G_, G_c, labels[:-1], labels[-1:],t_matrix_func1)"
   ]
  },
  {
   "cell_type": "code",
   "execution_count": 96,
   "metadata": {},
   "outputs": [
    {
     "name": "stdout",
     "output_type": "stream",
     "text": [
      "min val is 5.9478128325158375\n",
      "labels [0.86961674 0.2104959  0.75302334 ... 0.63452659 0.00994017 0.83076059]\n",
      "min val is 3.5188759928082596\n",
      "labels [0.41464919 0.80524676 0.10347041 ... 0.160718   0.44784065 0.61774536]\n",
      "min val is 2.363670637428351\n",
      "labels [0.36040189 0.80948752 0.15298398 ... 0.09548304 0.48198766 0.45984116]\n",
      "min val is 0.546668974396544\n",
      "labels [0.16081462 0.37412587 0.68185123 ... 0.44485656 0.9498717  0.09294542]\n",
      "min val is 0.41436376654382173\n",
      "labels [0.54020945 0.55202905 0.25656047 ... 0.64100792 0.02249403 0.01735803]\n",
      "min val is 0.4017362875943071\n",
      "labels [4.67238202e-04 2.05803798e-01 3.93151405e-01 ... 6.09049692e-01\n",
      " 3.13960740e-01 1.96382368e-02]\n",
      "min val is 0.4017362875943071\n",
      "labels [4.67238202e-04 2.05803798e-01 3.93151405e-01 ... 6.09049692e-01\n",
      " 3.13960740e-01 1.96382368e-02]\n",
      "Warning: Maximum number of iterations has been exceeded.\n",
      "i have no idea why but 0.4002301563163133\n"
     ]
    }
   ],
   "source": [
    "l, random_best = find_opt_params_seeded(G,t_matrix_func1, num_params=1)"
   ]
  },
  {
   "cell_type": "code",
   "execution_count": 65,
   "metadata": {},
   "outputs": [
    {
     "data": {
      "text/plain": [
       "0.672296643352641"
      ]
     },
     "execution_count": 65,
     "metadata": {},
     "output_type": "execute_result"
    }
   ],
   "source": [
    "-log_likelihood(G_, G_c, l[:-1], l[-1:],t_matrix_func1)"
   ]
  },
  {
   "cell_type": "code",
   "execution_count": 66,
   "metadata": {},
   "outputs": [
    {
     "data": {
      "text/plain": [
       "0.6730226430766202"
      ]
     },
     "execution_count": 66,
     "metadata": {},
     "output_type": "execute_result"
    }
   ],
   "source": [
    "-log_likelihood(G_, G_c, random_best[:-1], random_best[-1:],t_matrix_func1)"
   ]
  },
  {
   "cell_type": "code",
   "execution_count": 75,
   "metadata": {},
   "outputs": [
    {
     "data": {
      "text/plain": [
       "array([0.13922334, 0.4237158 , 0.83022437, ..., 0.41399931, 0.29919069,\n",
       "       0.00833319])"
      ]
     },
     "execution_count": 75,
     "metadata": {},
     "output_type": "execute_result"
    }
   ],
   "source": [
    "random_best"
   ]
  },
  {
   "cell_type": "code",
   "execution_count": 70,
   "metadata": {},
   "outputs": [
    {
     "data": {
      "text/plain": [
       "array([0.85639984, 0.1698113 , 0.76109183, ..., 0.40140387, 0.07476268,\n",
       "       0.01326282])"
      ]
     },
     "execution_count": 70,
     "metadata": {},
     "output_type": "execute_result"
    }
   ],
   "source": [
    "l"
   ]
  },
  {
   "cell_type": "code",
   "execution_count": 80,
   "metadata": {},
   "outputs": [
    {
     "data": {
      "text/plain": [
       "0.9816468612624545"
      ]
     },
     "execution_count": 80,
     "metadata": {},
     "output_type": "execute_result"
    }
   ],
   "source": [
    "-log_likelihood(G_, G_c, random_best[:-1], random_best[-1:],t_matrix_func1)"
   ]
  },
  {
   "cell_type": "code",
   "execution_count": 72,
   "metadata": {},
   "outputs": [],
   "source": [
    "F = lambda x: -log_likelihood(G,G_c, x[:-num_params], x[-num_params:], transition_func)"
   ]
  },
  {
   "cell_type": "code",
   "execution_count": 77,
   "metadata": {},
   "outputs": [],
   "source": [
    "labels = len(G.nodes)\n",
    "G_c = nx.to_numpy_array(nx.complement(G))\n",
    "G_ = nx.to_numpy_array(G)"
   ]
  },
  {
   "cell_type": "code",
   "execution_count": 83,
   "metadata": {},
   "outputs": [
    {
     "data": {
      "text/plain": [
       "0.9821570525610537"
      ]
     },
     "execution_count": 83,
     "metadata": {},
     "output_type": "execute_result"
    }
   ],
   "source": [
    "-log_likelihood(nx.to_numpy_array(G), nx.to_numpy_array(nx.complement(G)), l[:-1], l[-1:],t_matrix_func1)"
   ]
  },
  {
   "cell_type": "code",
   "execution_count": 97,
   "metadata": {},
   "outputs": [
    {
     "data": {
      "text/plain": [
       "array([4.67269561e-04, 2.05817610e-01, 3.93177791e-01, ...,\n",
       "       6.09090568e-01, 3.13981812e-01, 1.86550079e-02])"
      ]
     },
     "execution_count": 97,
     "metadata": {},
     "output_type": "execute_result"
    }
   ],
   "source": [
    "l"
   ]
  },
  {
   "cell_type": "code",
   "execution_count": 98,
   "metadata": {},
   "outputs": [
    {
     "data": {
      "text/plain": [
       "array([4.67238202e-04, 2.05803798e-01, 3.93151405e-01, ...,\n",
       "       6.09049692e-01, 3.13960740e-01, 1.96382368e-02])"
      ]
     },
     "execution_count": 98,
     "metadata": {},
     "output_type": "execute_result"
    }
   ],
   "source": [
    "random_best"
   ]
  },
  {
   "cell_type": "code",
   "execution_count": null,
   "metadata": {},
   "outputs": [],
   "source": []
  }
 ],
 "metadata": {
  "kernelspec": {
   "display_name": "Python 3",
   "language": "python",
   "name": "python3"
  },
  "language_info": {
   "codemirror_mode": {
    "name": "ipython",
    "version": 3
   },
   "file_extension": ".py",
   "mimetype": "text/x-python",
   "name": "python",
   "nbconvert_exporter": "python",
   "pygments_lexer": "ipython3",
   "version": "3.8.5"
  }
 },
 "nbformat": 4,
 "nbformat_minor": 4
}
