{
 "cells": [
  {
   "cell_type": "code",
   "execution_count": 1,
   "metadata": {},
   "outputs": [],
   "source": [
    "import pandas as pd\n",
    "import numpy as np\n",
    "\n",
    "import networkx as nx\n",
    "import matplotlib.pyplot as plt\n",
    "import netwulf as nw\n",
    "from scipy.optimize import minimize"
   ]
  },
  {
   "cell_type": "code",
   "execution_count": 2,
   "metadata": {},
   "outputs": [],
   "source": [
    "G = nx.Graph()"
   ]
  },
  {
   "cell_type": "code",
   "execution_count": 3,
   "metadata": {},
   "outputs": [],
   "source": [
    "#given \"points\" with labels a and b we can assign probability of an edge between them\n",
    "def basic_func(a,b):\n",
    "    if a == b:\n",
    "        return .8\n",
    "    else:\n",
    "        return .2"
   ]
  },
  {
   "cell_type": "code",
   "execution_count": 4,
   "metadata": {},
   "outputs": [],
   "source": [
    "G.add_node(1)\n",
    "G.add_node(1)"
   ]
  },
  {
   "cell_type": "code",
   "execution_count": 5,
   "metadata": {},
   "outputs": [
    {
     "data": {
      "text/plain": [
       "{}"
      ]
     },
     "execution_count": 5,
     "metadata": {},
     "output_type": "execute_result"
    }
   ],
   "source": [
    "G.graph"
   ]
  },
  {
   "cell_type": "code",
   "execution_count": 6,
   "metadata": {},
   "outputs": [],
   "source": [
    "G.add_node(1, label='1', color='red')\n",
    "G.add_node(2, label='0', color='blue')\n",
    "G.add_edge(1, 2)"
   ]
  },
  {
   "cell_type": "code",
   "execution_count": 7,
   "metadata": {},
   "outputs": [
    {
     "data": {
      "text/plain": [
       "NodeDataView({1: {'label': '1', 'color': 'red'}, 2: {'label': '0', 'color': 'blue'}})"
      ]
     },
     "execution_count": 7,
     "metadata": {},
     "output_type": "execute_result"
    }
   ],
   "source": [
    "G.nodes.data()"
   ]
  },
  {
   "cell_type": "code",
   "execution_count": 8,
   "metadata": {},
   "outputs": [
    {
     "data": {
      "image/png": "[encoded data removed]",
      "text/plain": [
       "<Figure size 432x288 with 1 Axes>"
      ]
     },
     "metadata": {},
     "output_type": "display_data"
    }
   ],
   "source": [
    "nx.draw(G, with_labels=True, font_weight='bold')"
   ]
  },
  {
   "cell_type": "code",
   "execution_count": 9,
   "metadata": {},
   "outputs": [],
   "source": [
    "node_colors = []"
   ]
  },
  {
   "cell_type": "code",
   "execution_count": 10,
   "metadata": {},
   "outputs": [],
   "source": [
    "def create_graph(num_nodes, labels, func):\n",
    "    G = nx.Graph()\n",
    "    for i in range(num_nodes):\n",
    "        G.add_node(i, group=labels[i])\n",
    "        for j in range(i):\n",
    "            if func(labels[i], labels[j]) != func(labels[j],labels[i]):\n",
    "                print(\"WARNING, asymetric function\")\n",
    "            if np.random.rand() < func(labels[i], labels[j]):\n",
    "                G.add_edge(i, j)\n",
    "    return G"
   ]
  },
  {
   "cell_type": "code",
   "execution_count": 12,
   "metadata": {},
   "outputs": [
    {
     "data": {
      "image/png": "[encoded data removed]",
      "text/plain": [
       "<Figure size 432x288 with 1 Axes>"
      ]
     },
     "metadata": {},
     "output_type": "display_data"
    }
   ],
   "source": [
    "n = 3\n",
    "G = create_graph(n, np.random.randint(2,size=100), basic_func)\n",
    "nx.draw(G, with_labels=True, font_weight='bold')"
   ]
  },
  {
   "cell_type": "code",
   "execution_count": 13,
   "metadata": {},
   "outputs": [
    {
     "data": {
      "text/plain": [
       "(None, None)"
      ]
     },
     "execution_count": 13,
     "metadata": {},
     "output_type": "execute_result"
    }
   ],
   "source": [
    "# Or detect communities and encode them in 'group' attribute\n",
    "# import community\n",
    "# bb = community.best_partition(G)\n",
    "# nx.set_node_attributes(G, bb, 'group')\n",
    "\n",
    "# Set node 'size' attributes\n",
    "for n, data in G.nodes(data=True):\n",
    "    data['size'] = 1\n",
    "\n",
    "# Set link 'weight' attributes\n",
    "for n1, n2, data in G.edges(data=True):\n",
    "    data['weight'] = 1\n",
    "\n",
    "nw.visualize(G)"
   ]
  },
  {
   "cell_type": "code",
   "execution_count": 14,
   "metadata": {},
   "outputs": [
    {
     "name": "stdout",
     "output_type": "stream",
     "text": [
      "{}\n",
      "{}\n",
      "{}\n"
     ]
    }
   ],
   "source": [
    "for node in G:\n",
    "    print(G[node])"
   ]
  },
  {
   "cell_type": "code",
   "execution_count": 15,
   "metadata": {},
   "outputs": [],
   "source": [
    "def bound(num, upper=1, lower = 0):\n",
    "    return min(max(num, lower), 1)\n",
    "\n",
    "def create_func_2param(params):\n",
    "    return lambda x,y: bound(sum([params[i]*x**i for i in range(len(params))])*sum([params[i]*y**i for i in range(len(params))]))\n",
    "\n",
    "def create_func_1param(params):\n",
    "    return lambda x: bound(sum([params[i]*x**i for i in range(len(params))]))\n",
    "\n",
    "#def calculcute_loss(graph, labels, func):\n",
    "#    numpy_vec = np.\n",
    "#    func([labels]) @ func([labels]).T * nx.to_numpy_array(graph)"
   ]
  },
  {
   "cell_type": "code",
   "execution_count": 16,
   "metadata": {},
   "outputs": [],
   "source": [
    "func = create_func_1param([.1,.2])\n",
    "func = np.vectorize(func)"
   ]
  },
  {
   "cell_type": "code",
   "execution_count": 17,
   "metadata": {},
   "outputs": [
    {
     "data": {
      "text/plain": [
       "array([[0.0324, 0.0468, 0.0504],\n",
       "       [0.0468, 0.0676, 0.0728],\n",
       "       [0.0504, 0.0728, 0.0784]])"
      ]
     },
     "execution_count": 17,
     "metadata": {},
     "output_type": "execute_result"
    }
   ],
   "source": [
    "labels = [.4,.8,.9]\n",
    "func([labels])\n",
    "func([labels]).T @ func([labels])\n"
   ]
  },
  {
   "cell_type": "code",
   "execution_count": 18,
   "metadata": {},
   "outputs": [
    {
     "data": {
      "text/plain": [
       "<function __main__.create_func_1param.<locals>.<lambda>(x)>"
      ]
     },
     "execution_count": 18,
     "metadata": {},
     "output_type": "execute_result"
    }
   ],
   "source": [
    "create_func_1param(.1)"
   ]
  },
  {
   "cell_type": "code",
   "execution_count": 19,
   "metadata": {},
   "outputs": [
    {
     "data": {
      "text/plain": [
       "0.31320000000000003"
      ]
     },
     "execution_count": 19,
     "metadata": {},
     "output_type": "execute_result"
    }
   ],
   "source": [
    "create_func_2param([.5,.2])(.4, .2)"
   ]
  },
  {
   "cell_type": "code",
   "execution_count": 20,
   "metadata": {},
   "outputs": [],
   "source": [
    "A = nx.to_numpy_array(G)\n",
    "B = nx.to_numpy_array(nx.complement(G))"
   ]
  },
  {
   "cell_type": "code",
   "execution_count": 21,
   "metadata": {},
   "outputs": [],
   "source": [
    "def log_likelihood(g, labels, params):\n",
    "    n = len(labels)\n",
    "    vec = np.zeros(n).reshape(-1, 1)\n",
    "    labels = np.array(labels).reshape(-1,1)\n",
    "    for i in range(len(params)):\n",
    "        vec += labels**i*params[i]\n",
    "    transition_predictions = vec @ vec.T\n",
    "    transition_predictions = np.clip(transition_predictions, .0001, .999)\n",
    "    prod = transition_predictions*nx.to_numpy_array(G) + (1-transition_predictions)*nx.to_numpy_array(nx.complement(G))\n",
    "    log_matrix = np.log(prod + np.identity(n))\n",
    "    return np.sum(log_matrix)/(n*(n-1))"
   ]
  },
  {
   "cell_type": "code",
   "execution_count": 22,
   "metadata": {},
   "outputs": [],
   "source": [
    "def probability_matrix(labels, params):\n",
    "    n = len(labels)\n",
    "    vec = np.zeros(n).reshape(-1, 1)\n",
    "    labels = np.array(labels).reshape(-1,1)\n",
    "    for i in range(len(params)):\n",
    "        vec += labels**i*params[i]\n",
    "    transition_predictions = vec @ vec.T\n",
    "    transition_predictions = np.clip(transition_predictions, .0001, .999)\n",
    "    return transition_predictions"
   ]
  },
  {
   "cell_type": "code",
   "execution_count": 23,
   "metadata": {},
   "outputs": [
    {
     "data": {
      "text/plain": [
       "array([[0.],\n",
       "       [0.],\n",
       "       [0.]])"
      ]
     },
     "execution_count": 23,
     "metadata": {},
     "output_type": "execute_result"
    }
   ],
   "source": [
    "np.zeros(len(labels)).reshape(-1, 1)"
   ]
  },
  {
   "cell_type": "code",
   "execution_count": 24,
   "metadata": {},
   "outputs": [],
   "source": [
    "labels = np.array(labels).reshape(-1,1)"
   ]
  },
  {
   "cell_type": "code",
   "execution_count": 25,
   "metadata": {},
   "outputs": [
    {
     "data": {
      "text/plain": [
       "array([[1.],\n",
       "       [1.],\n",
       "       [1.]])"
      ]
     },
     "execution_count": 25,
     "metadata": {},
     "output_type": "execute_result"
    }
   ],
   "source": [
    "labels**0"
   ]
  },
  {
   "cell_type": "code",
   "execution_count": 26,
   "metadata": {},
   "outputs": [
    {
     "data": {
      "text/plain": [
       "array([[0.18],\n",
       "       [0.26],\n",
       "       [0.28]])"
      ]
     },
     "execution_count": 26,
     "metadata": {},
     "output_type": "execute_result"
    }
   ],
   "source": [
    "params = [.1,.2]\n",
    "vec = np.zeros(len(labels)).reshape(-1, 1)\n",
    "labels = np.array(labels).reshape(-1,1)\n",
    "for i in range(len(params)):\n",
    "    vec += labels**i*params[i]\n",
    "vec"
   ]
  },
  {
   "cell_type": "code",
   "execution_count": 27,
   "metadata": {},
   "outputs": [
    {
     "data": {
      "text/plain": [
       "array([[0.0324, 0.0468, 0.0504],\n",
       "       [0.0468, 0.0676, 0.0728],\n",
       "       [0.0504, 0.0728, 0.0784]])"
      ]
     },
     "execution_count": 27,
     "metadata": {},
     "output_type": "execute_result"
    }
   ],
   "source": [
    "transition_predictions = vec @ vec.T\n",
    "transition_predictions = np.clip(transition_predictions, .0001, .999)\n",
    "transition_predictions"
   ]
  },
  {
   "cell_type": "code",
   "execution_count": 28,
   "metadata": {},
   "outputs": [],
   "source": [
    "G = create_graph(3, np.random.randint(2,size=3), basic_func)"
   ]
  },
  {
   "cell_type": "code",
   "execution_count": 29,
   "metadata": {},
   "outputs": [],
   "source": [
    "prod = transition_predictions*nx.to_numpy_array(G) + (1-transition_predictions)*nx.to_numpy_array(nx.complement(G))"
   ]
  },
  {
   "cell_type": "code",
   "execution_count": 30,
   "metadata": {},
   "outputs": [
    {
     "data": {
      "text/plain": [
       "array([[ 0.        , -0.04793053, -2.9877641 ],\n",
       "       [-0.04793053,  0.        , -2.62003932],\n",
       "       [-2.9877641 , -2.62003932,  0.        ]])"
      ]
     },
     "execution_count": 30,
     "metadata": {},
     "output_type": "execute_result"
    }
   ],
   "source": [
    "np.log(prod + np.identity(3))"
   ]
  },
  {
   "cell_type": "code",
   "execution_count": 31,
   "metadata": {},
   "outputs": [
    {
     "data": {
      "text/plain": [
       "array([[0., 0., 1.],\n",
       "       [0., 0., 1.],\n",
       "       [1., 1., 0.]])"
      ]
     },
     "execution_count": 31,
     "metadata": {},
     "output_type": "execute_result"
    }
   ],
   "source": [
    "nx.to_numpy_array(G)"
   ]
  },
  {
   "cell_type": "code",
   "execution_count": 32,
   "metadata": {},
   "outputs": [
    {
     "data": {
      "text/plain": [
       "-1.8852446538139536"
      ]
     },
     "execution_count": 32,
     "metadata": {},
     "output_type": "execute_result"
    }
   ],
   "source": [
    "log_likelihood(G, labels, params)"
   ]
  },
  {
   "cell_type": "code",
   "execution_count": 33,
   "metadata": {},
   "outputs": [
    {
     "data": {
      "text/plain": [
       "3"
      ]
     },
     "execution_count": 33,
     "metadata": {},
     "output_type": "execute_result"
    }
   ],
   "source": [
    "len(G.nodes)"
   ]
  },
  {
   "cell_type": "code",
   "execution_count": 34,
   "metadata": {},
   "outputs": [
    {
     "data": {
      "text/plain": [
       "-0.4768542816557652"
      ]
     },
     "execution_count": 34,
     "metadata": {},
     "output_type": "execute_result"
    }
   ],
   "source": [
    "log_likelihood(G, labels, [.3,.9])"
   ]
  },
  {
   "cell_type": "code",
   "execution_count": 35,
   "metadata": {},
   "outputs": [],
   "source": [
    "def find_opt_params(g, num_params = 2):\n",
    "    labels = len(g.nodes)\n",
    "    func = lambda x: -log_likelihood(g, x[:-num_params], x[-num_params:])\n",
    "    bounds = [(0,1) for i in range(labels)] + [(None, None) for i in range(num_params)]\n",
    "    res = minimize(func, list(np.random.rand(labels + num_params)),\n",
    "                   bounds=bounds, method='SLSQP', options={'maxiter': 30})\n",
    "    return res.x"
   ]
  },
  {
   "cell_type": "code",
   "execution_count": 39,
   "metadata": {},
   "outputs": [
    {
     "data": {
      "text/plain": [
       "-1.4601240716064179"
      ]
     },
     "execution_count": 39,
     "metadata": {},
     "output_type": "execute_result"
    }
   ],
   "source": [
    "log_likelihood(G, np.random.rand(3), [.3,.2])"
   ]
  },
  {
   "cell_type": "code",
   "execution_count": 40,
   "metadata": {},
   "outputs": [],
   "source": [
    "l = find_opt_params(G)"
   ]
  },
  {
   "cell_type": "code",
   "execution_count": 41,
   "metadata": {},
   "outputs": [
    {
     "data": {
      "text/plain": [
       "array([[0., 0., 1.],\n",
       "       [0., 0., 1.],\n",
       "       [1., 1., 1.]])"
      ]
     },
     "execution_count": 41,
     "metadata": {},
     "output_type": "execute_result"
    }
   ],
   "source": [
    "np.round(probability_matrix(l[:-2], l[-2:]))"
   ]
  },
  {
   "cell_type": "code",
   "execution_count": 42,
   "metadata": {},
   "outputs": [],
   "source": [
    "G = create_graph(100, np.random.randint(2,size=100), basic_func)"
   ]
  },
  {
   "cell_type": "code",
   "execution_count": 43,
   "metadata": {},
   "outputs": [
    {
     "data": {
      "text/plain": [
       "array([[0., 0., 0., ..., 0., 0., 0.],\n",
       "       [0., 0., 0., ..., 0., 0., 0.],\n",
       "       [0., 0., 0., ..., 0., 0., 0.],\n",
       "       ...,\n",
       "       [0., 0., 0., ..., 0., 0., 0.],\n",
       "       [0., 0., 0., ..., 0., 0., 0.],\n",
       "       [0., 0., 0., ..., 0., 0., 0.]])"
      ]
     },
     "execution_count": 43,
     "metadata": {},
     "output_type": "execute_result"
    }
   ],
   "source": [
    "l = find_opt_params(G)\n",
    "np.round(probability_matrix(l[:-2], l[-2:]))"
   ]
  },
  {
   "cell_type": "code",
   "execution_count": 44,
   "metadata": {},
   "outputs": [
    {
     "data": {
      "text/plain": [
       "array([[0., 0., 0., ..., 0., 0., 0.],\n",
       "       [0., 0., 0., ..., 0., 0., 0.],\n",
       "       [0., 0., 0., ..., 0., 0., 0.],\n",
       "       ...,\n",
       "       [0., 0., 0., ..., 0., 0., 0.],\n",
       "       [0., 0., 0., ..., 0., 0., 0.],\n",
       "       [0., 0., 0., ..., 0., 0., 0.]])"
      ]
     },
     "execution_count": 44,
     "metadata": {},
     "output_type": "execute_result"
    }
   ],
   "source": [
    "np.round(probability_matrix(l[:-2], l[-2:]))"
   ]
  },
  {
   "cell_type": "code",
   "execution_count": 45,
   "metadata": {},
   "outputs": [
    {
     "data": {
      "text/plain": [
       "array([ 0.88262786,  0.52997277,  0.95167651,  0.89550474,  0.57001142,\n",
       "        0.10928946,  0.10899345,  0.72639   ,  0.52222869,  0.65017704,\n",
       "        0.4231421 ,  0.26459928,  0.12920215,  0.31417804,  0.88250929,\n",
       "        0.28343702,  0.11441269,  0.46985944,  0.16686498,  0.91727621,\n",
       "        0.78205724,  0.72019675,  0.2776473 ,  0.56154448,  0.84383129,\n",
       "        0.34319528,  0.93661131,  0.75887327,  0.27083034,  0.87982006,\n",
       "        0.17998528,  0.30272024,  0.37183007,  0.1657936 ,  0.59538717,\n",
       "        0.69161439,  0.10758585,  0.92351118,  0.77153983,  0.92441106,\n",
       "        0.25263782,  0.3947624 ,  0.37746994,  0.84945348,  0.41251209,\n",
       "        0.0650895 ,  0.10875172,  0.93414418,  0.75607761,  0.39104827,\n",
       "        0.47257315,  0.04632102,  0.68601525,  0.65564285,  0.4726159 ,\n",
       "        0.61801266,  0.49842439,  0.84217943,  0.32979453,  0.10055305,\n",
       "        0.74978293,  0.97947285,  0.07682764,  0.2638857 ,  0.71883298,\n",
       "        0.30104385,  0.97078278,  0.07905982,  0.88426992,  0.49934539,\n",
       "        0.60078971,  0.68689498,  0.34574089,  0.09352789,  0.7311782 ,\n",
       "        0.37392966,  0.0823415 ,  0.30664231,  0.78808339,  0.24163685,\n",
       "        0.3034213 ,  0.17348912,  0.07230268,  0.53185571,  0.95371978,\n",
       "        0.77831842,  0.11583728,  0.62758192,  0.49329182,  0.16304482,\n",
       "        0.37876074,  0.56889849,  0.92878037,  0.37953436,  0.78232864,\n",
       "        0.33009191,  0.15662136,  0.8135959 ,  0.23340703,  0.19101313,\n",
       "        0.70668598, -0.00725458])"
      ]
     },
     "execution_count": 45,
     "metadata": {},
     "output_type": "execute_result"
    }
   ],
   "source": [
    "l"
   ]
  },
  {
   "cell_type": "markdown",
   "metadata": {},
   "source": [
    "# looking at my results compared to true graph values"
   ]
  },
  {
   "cell_type": "code",
   "execution_count": 48,
   "metadata": {},
   "outputs": [],
   "source": [
    "true_labels = np.random.randint(2,size=200)\n",
    "\n",
    "n = 200\n",
    "G = create_graph(n, true_labels, basic_func)\n",
    "#nx.draw(G, with_labels=True, font_weight='bold')"
   ]
  },
  {
   "cell_type": "code",
   "execution_count": 49,
   "metadata": {},
   "outputs": [
    {
     "data": {
      "text/plain": [
       "array([[0.   , 0.212, 0.213, ..., 0.789, 0.802, 0.197],\n",
       "       [0.212, 0.   , 0.805, ..., 0.203, 0.192, 0.816],\n",
       "       [0.213, 0.805, 0.   , ..., 0.205, 0.238, 0.82 ],\n",
       "       ...,\n",
       "       [0.789, 0.203, 0.205, ..., 0.   , 0.79 , 0.186],\n",
       "       [0.802, 0.192, 0.238, ..., 0.79 , 0.   , 0.193],\n",
       "       [0.197, 0.816, 0.82 , ..., 0.186, 0.193, 0.   ]])"
      ]
     },
     "execution_count": 49,
     "metadata": {},
     "output_type": "execute_result"
    }
   ],
   "source": [
    "G_mat = nx.to_numpy_array(create_graph(n, true_labels, basic_func))/1000\n",
    "\n",
    "for i in range(999):\n",
    "    #print(i)\n",
    "    G_mat += nx.to_numpy_array(create_graph(n, true_labels, basic_func))/1000\n",
    "\n",
    "G_mat"
   ]
  },
  {
   "cell_type": "code",
   "execution_count": 50,
   "metadata": {},
   "outputs": [],
   "source": [
    "def log_likelihood_optimized(G, G_c, labels, params):\n",
    "    n = len(labels)\n",
    "    vec = np.zeros(n).reshape(-1, 1)\n",
    "    labels = np.array(labels).reshape(-1,1)\n",
    "    for i in range(len(params)):\n",
    "        vec += labels**i*params[i]\n",
    "    transition_predictions = vec @ vec.T\n",
    "    transition_predictions = np.clip(transition_predictions, .0001, .999)\n",
    "    prod = transition_predictions*G + (1-transition_predictions)*G_c\n",
    "    log_matrix = np.log(prod + np.identity(n))\n",
    "    return np.sum(log_matrix)/(n*(n-1))"
   ]
  },
  {
   "cell_type": "code",
   "execution_count": 51,
   "metadata": {},
   "outputs": [],
   "source": [
    "def find_opt_params_optimized(g, num_params = 2):\n",
    "    labels = len(g.nodes)\n",
    "    G_c = nx.to_numpy_array(nx.complement(g))\n",
    "    G = nx.to_numpy_array(g)\n",
    "    func = lambda x: -log_likelihood_optimized(G,G_c, x[:-num_params], x[-num_params:])\n",
    "    bounds = [(0,1) for i in range(labels)] + [(None, None) for i in range(num_params)]\n",
    "    res = minimize(func, list(np.random.rand(labels + num_params)),\n",
    "                   bounds=bounds, method='SLSQP', options={'maxiter': 100, 'disp': True})\n",
    "    return res.x\n",
    "def find_opt_params_optimized(g, num_params = 2):\n",
    "    labels = len(g.nodes)\n",
    "    G_c = nx.to_numpy_array(nx.complement(g))\n",
    "    G = nx.to_numpy_array(g)\n",
    "    func = lambda x: -log_likelihood_optimized(G,G_c, x[:-num_params], x[-num_params:])\n",
    "    bounds = [(0,1) for i in range(labels)] + [(None, None) for i in range(num_params)]\n",
    "    res = minimize(func, list(np.random.rand(labels + num_params)),\n",
    "                    method='BFGS', options={'maxiter': 100, 'disp': True})\n",
    "    return res.x"
   ]
  },
  {
   "cell_type": "code",
   "execution_count": 57,
   "metadata": {},
   "outputs": [
    {
     "name": "stdout",
     "output_type": "stream",
     "text": [
      "Warning: Maximum number of iterations has been exceeded.\n",
      "         Current function value: 0.686925\n",
      "         Iterations: 100\n",
      "         Function evaluations: 24360\n",
      "         Gradient evaluations: 120\n"
     ]
    },
    {
     "data": {
      "text/plain": [
       "array([[0., 0., 0., ..., 0., 0., 0.],\n",
       "       [0., 1., 1., ..., 1., 1., 1.],\n",
       "       [0., 1., 1., ..., 1., 1., 1.],\n",
       "       ...,\n",
       "       [0., 1., 1., ..., 1., 1., 1.],\n",
       "       [0., 1., 1., ..., 1., 0., 1.],\n",
       "       [0., 1., 1., ..., 1., 1., 1.]])"
      ]
     },
     "execution_count": 57,
     "metadata": {},
     "output_type": "execute_result"
    }
   ],
   "source": [
    "l = find_opt_params_optimized(G, num_params=2)\n",
    "np.round(probability_matrix(l[:-2], l[-2:]))"
   ]
  },
  {
   "cell_type": "code",
   "execution_count": 58,
   "metadata": {},
   "outputs": [
    {
     "data": {
      "text/plain": [
       "array([[0.40235326, 0.48877462, 0.45250533, ..., 0.48170793, 0.44477899,\n",
       "        0.49096937],\n",
       "       [0.48877462, 0.59375841, 0.54969884, ..., 0.58517386, 0.54031297,\n",
       "        0.59642456],\n",
       "       [0.45250533, 0.54969884, 0.5089087 , ..., 0.54175131, 0.5002193 ,\n",
       "        0.55216716],\n",
       "       ...,\n",
       "       [0.48170793, 0.58517386, 0.54175131, ..., 0.57671343, 0.53250114,\n",
       "        0.58780147],\n",
       "       [0.44477899, 0.54031297, 0.5002193 , ..., 0.53250114, 0.49167827,\n",
       "        0.54273914],\n",
       "       [0.49096937, 0.59642456, 0.55216716, ..., 0.58780147, 0.54273914,\n",
       "        0.59910269]])"
      ]
     },
     "execution_count": 58,
     "metadata": {},
     "output_type": "execute_result"
    }
   ],
   "source": [
    "probability_matrix(l[:-2], l[-2:])"
   ]
  },
  {
   "cell_type": "code",
   "execution_count": 59,
   "metadata": {},
   "outputs": [
    {
     "data": {
      "text/plain": [
       "array([[0., 0., 0., ..., 1., 1., 0.],\n",
       "       [0., 0., 1., ..., 0., 0., 1.],\n",
       "       [0., 1., 0., ..., 0., 0., 1.],\n",
       "       ...,\n",
       "       [1., 0., 0., ..., 0., 1., 1.],\n",
       "       [1., 0., 0., ..., 1., 0., 1.],\n",
       "       [0., 1., 1., ..., 1., 1., 0.]])"
      ]
     },
     "execution_count": 59,
     "metadata": {},
     "output_type": "execute_result"
    }
   ],
   "source": [
    "nx.to_numpy_array(G)"
   ]
  },
  {
   "cell_type": "code",
   "execution_count": 60,
   "metadata": {},
   "outputs": [
    {
     "data": {
      "text/plain": [
       "-3.0520899540881183"
      ]
     },
     "execution_count": 60,
     "metadata": {},
     "output_type": "execute_result"
    }
   ],
   "source": [
    "log_likelihood_optimized(nx.to_numpy_array(G), nx.to_numpy_array(nx.complement(G)), l[:-2], [.6,.3])"
   ]
  },
  {
   "cell_type": "code",
   "execution_count": 61,
   "metadata": {},
   "outputs": [
    {
     "data": {
      "text/plain": [
       "-0.6869250941354839"
      ]
     },
     "execution_count": 61,
     "metadata": {},
     "output_type": "execute_result"
    }
   ],
   "source": [
    "log_likelihood_optimized(nx.to_numpy_array(G), nx.to_numpy_array(nx.complement(G)), l[:-2], l[-2:])"
   ]
  },
  {
   "cell_type": "code",
   "execution_count": 62,
   "metadata": {},
   "outputs": [
    {
     "data": {
      "text/plain": [
       "array([[0.4],\n",
       "       [0.8],\n",
       "       [0.9]])"
      ]
     },
     "execution_count": 62,
     "metadata": {},
     "output_type": "execute_result"
    }
   ],
   "source": [
    "labels"
   ]
  },
  {
   "cell_type": "code",
   "execution_count": 63,
   "metadata": {},
   "outputs": [],
   "source": [
    "def log_matrix(g, predic_matrix):\n",
    "    G_c = nx.to_numpy_array(nx.complement(g))\n",
    "    G = nx.to_numpy_array(g)\n",
    "    prod = predic_matrix*G + (1-predic_matrix)*G_c\n",
    "    log= np.log(prod + np.identity(n))\n",
    "    return np.sum(log)/(n*(n-1))"
   ]
  },
  {
   "cell_type": "code",
   "execution_count": 64,
   "metadata": {},
   "outputs": [
    {
     "data": {
      "text/plain": [
       "-0.49641146354748106"
      ]
     },
     "execution_count": 64,
     "metadata": {},
     "output_type": "execute_result"
    }
   ],
   "source": [
    "log_matrix(G, G_mat)"
   ]
  },
  {
   "cell_type": "code",
   "execution_count": 65,
   "metadata": {},
   "outputs": [
    {
     "data": {
      "text/plain": [
       "array([[0.   , 0.212, 0.213, ..., 0.789, 0.802, 0.197],\n",
       "       [0.212, 0.   , 0.805, ..., 0.203, 0.192, 0.816],\n",
       "       [0.213, 0.805, 0.   , ..., 0.205, 0.238, 0.82 ],\n",
       "       ...,\n",
       "       [0.789, 0.203, 0.205, ..., 0.   , 0.79 , 0.186],\n",
       "       [0.802, 0.192, 0.238, ..., 0.79 , 0.   , 0.193],\n",
       "       [0.197, 0.816, 0.82 , ..., 0.186, 0.193, 0.   ]])"
      ]
     },
     "execution_count": 65,
     "metadata": {},
     "output_type": "execute_result"
    }
   ],
   "source": [
    "G_mat"
   ]
  },
  {
   "cell_type": "code",
   "execution_count": 66,
   "metadata": {},
   "outputs": [
    {
     "data": {
      "text/plain": [
       "array([[0., 0., 0., ..., 1., 1., 0.],\n",
       "       [0., 0., 1., ..., 0., 0., 1.],\n",
       "       [0., 1., 0., ..., 0., 0., 1.],\n",
       "       ...,\n",
       "       [1., 0., 0., ..., 0., 1., 1.],\n",
       "       [1., 0., 0., ..., 1., 0., 1.],\n",
       "       [0., 1., 1., ..., 1., 1., 0.]])"
      ]
     },
     "execution_count": 66,
     "metadata": {},
     "output_type": "execute_result"
    }
   ],
   "source": [
    "nx.to_numpy_array(G)"
   ]
  },
  {
   "cell_type": "code",
   "execution_count": 67,
   "metadata": {},
   "outputs": [
    {
     "data": {
      "text/plain": [
       "array([[0.40235326, 0.48877462, 0.45250533, ..., 0.48170793, 0.44477899,\n",
       "        0.49096937],\n",
       "       [0.48877462, 0.59375841, 0.54969884, ..., 0.58517386, 0.54031297,\n",
       "        0.59642456],\n",
       "       [0.45250533, 0.54969884, 0.5089087 , ..., 0.54175131, 0.5002193 ,\n",
       "        0.55216716],\n",
       "       ...,\n",
       "       [0.48170793, 0.58517386, 0.54175131, ..., 0.57671343, 0.53250114,\n",
       "        0.58780147],\n",
       "       [0.44477899, 0.54031297, 0.5002193 , ..., 0.53250114, 0.49167827,\n",
       "        0.54273914],\n",
       "       [0.49096937, 0.59642456, 0.55216716, ..., 0.58780147, 0.54273914,\n",
       "        0.59910269]])"
      ]
     },
     "execution_count": 67,
     "metadata": {},
     "output_type": "execute_result"
    }
   ],
   "source": [
    "probability_matrix(l[:-2], l[-2:])"
   ]
  },
  {
   "cell_type": "code",
   "execution_count": 68,
   "metadata": {},
   "outputs": [
    {
     "data": {
      "text/plain": [
       "-0.6869250941354839"
      ]
     },
     "execution_count": 68,
     "metadata": {},
     "output_type": "execute_result"
    }
   ],
   "source": [
    "log_matrix(G, probability_matrix(l[:-2], l[-2:]))"
   ]
  },
  {
   "cell_type": "markdown",
   "metadata": {},
   "source": [
    "# Log Likelihood function changed"
   ]
  },
  {
   "cell_type": "code",
   "execution_count": 269,
   "metadata": {},
   "outputs": [],
   "source": [
    "#labels is a column numpy array\n",
    "def t_matrix_func1(labels, params=params):\n",
    "    return labels @ labels.T + params[0]\n",
    "def t_matrix_func2(labels, params=params):\n",
    "    return labels @ labels.T + params[0] + labels @ labels.T**2 * params[1]"
   ]
  },
  {
   "cell_type": "code",
   "execution_count": 213,
   "metadata": {},
   "outputs": [],
   "source": [
    "def log_likelihood_f2(G, G_c, labels, params, transition_func):\n",
    "    n = len(labels)\n",
    "    vec = np.zeros(n).reshape(-1, 1)\n",
    "    labels = np.array(labels).reshape(-1,1)\n",
    "    #for i in range(len(params)):\n",
    "    #    vec += labels**i*params[i]\n",
    "    transition_predictions = transition_func(labels, params)\n",
    "    transition_predictions = np.clip(transition_predictions, .0001, .999)\n",
    "    prod = transition_predictions*G + (1-transition_predictions)*G_c\n",
    "    log_matrix = np.log(prod + np.identity(n))\n",
    "    return np.sum(log_matrix)/(n*(n-1))\n",
    "\n",
    "def find_opt_params_f2(g, transition_func):\n",
    "    labels = len(g.nodes)\n",
    "    G_c = nx.to_numpy_array(nx.complement(g))\n",
    "    G = nx.to_numpy_array(g)\n",
    "    func = lambda x: -log_likelihood_f2(G,G_c, x[:-1], x[-1:], transition_func)\n",
    "    bounds = [(0,1) for i in range(labels)] + [(None, None) for i in range(1)]\n",
    "    res = minimize(func, list(np.random.rand(labels + 1)),\n",
    "                    method='BFGS', options={'maxiter': 100, 'disp': True})\n",
    "    return res.x"
   ]
  },
  {
   "cell_type": "code",
   "execution_count": 214,
   "metadata": {},
   "outputs": [],
   "source": [
    "def prob_matrix_f2(labels, params, transition_func):\n",
    "    n = len(labels)\n",
    "    vec = np.zeros(n).reshape(-1, 1)\n",
    "    labels = np.array(labels).reshape(-1,1)\n",
    "    #for i in range(len(params)):\n",
    "    #    vec += labels**i*params[i]\n",
    "    transition_predictions = transition_func(labels,params)\n",
    "    transition_predictions = np.clip(transition_predictions, .0001, .999)\n",
    "    return transition_predictions"
   ]
  },
  {
   "cell_type": "code",
   "execution_count": 215,
   "metadata": {},
   "outputs": [],
   "source": [
    "true_labels = np.random.randint(2,size=200)\n",
    "\n",
    "n = 200\n",
    "G = create_graph(n, true_labels, basic_func)"
   ]
  },
  {
   "cell_type": "code",
   "execution_count": 220,
   "metadata": {},
   "outputs": [
    {
     "name": "stdout",
     "output_type": "stream",
     "text": [
      "Warning: Maximum number of iterations has been exceeded.\n",
      "         Current function value: 0.493951\n",
      "         Iterations: 100\n",
      "         Function evaluations: 21008\n",
      "         Gradient evaluations: 104\n",
      "Warning: Maximum number of iterations has been exceeded.\n",
      "         Current function value: 0.493957\n",
      "         Iterations: 100\n",
      "         Function evaluations: 21412\n",
      "         Gradient evaluations: 106\n"
     ]
    }
   ],
   "source": [
    "l1 = find_opt_params_f2(G, t_matrix_func1)\n",
    "l2 = find_opt_params_f2(G, t_matrix_func1)"
   ]
  },
  {
   "cell_type": "code",
   "execution_count": 227,
   "metadata": {},
   "outputs": [
    {
     "name": "stdout",
     "output_type": "stream",
     "text": [
      "Warning: Maximum number of iterations has been exceeded.\n",
      "         Current function value: 0.534429\n",
      "         Iterations: 100\n",
      "         Function evaluations: 21614\n",
      "         Gradient evaluations: 107\n",
      "Warning: Maximum number of iterations has been exceeded.\n",
      "         Current function value: 0.534429\n",
      "         Iterations: 100\n",
      "         Function evaluations: 21614\n",
      "         Gradient evaluations: 107\n"
     ]
    }
   ],
   "source": [
    "l1 = find_opt_params_f2(G, t_matrix_func2)\n",
    "l2 = find_opt_params_f2(G, t_matrix_func2)"
   ]
  },
  {
   "cell_type": "code",
   "execution_count": 228,
   "metadata": {},
   "outputs": [
    {
     "data": {
      "text/plain": [
       "array([[0.76181302, 0.73314274, 0.727515  , ..., 0.74827419, 0.7247863 ,\n",
       "        0.73196443],\n",
       "       [0.73314274, 0.70774283, 0.70275703, ..., 0.72114826, 0.7003396 ,\n",
       "        0.70669893],\n",
       "       [0.727515  , 0.70275703, 0.69789725, ..., 0.71582366, 0.69554091,\n",
       "        0.70173952],\n",
       "       ...,\n",
       "       [0.74827419, 0.72114826, 0.71582366, ..., 0.73546465, 0.71324195,\n",
       "        0.72003343],\n",
       "       [0.7247863 , 0.7003396 , 0.69554091, ..., 0.71324195, 0.69321419,\n",
       "        0.69933488],\n",
       "       [0.73196443, 0.70669893, 0.70173952, ..., 0.72003343, 0.69933488,\n",
       "        0.70566056]])"
      ]
     },
     "execution_count": 228,
     "metadata": {},
     "output_type": "execute_result"
    }
   ],
   "source": [
    "prob_matrix_f2(l1[:-1], l1[-1:], t_matrix_func1)"
   ]
  },
  {
   "cell_type": "code",
   "execution_count": 222,
   "metadata": {},
   "outputs": [
    {
     "data": {
      "text/plain": [
       "array([-1.81632165e-03, -3.21900679e-03,  2.58970850e-04, -8.15282114e-05,\n",
       "        1.62713343e-03, -4.19623479e-03,  1.31586162e-03,  6.44906075e-03,\n",
       "       -1.27085431e-03,  2.55687056e-03,  3.99186643e-03,  9.63837659e-04,\n",
       "       -8.65121042e-04,  3.05845191e-03, -6.81797957e-04, -1.64792567e-03,\n",
       "       -3.06992111e-04, -2.06710445e-03,  8.37018448e-05,  1.00697203e-03,\n",
       "        1.32726827e-03, -8.38007150e-05,  1.57513422e-03,  9.36045258e-04,\n",
       "       -2.19826175e-03,  9.39672235e-04, -2.64419710e-04,  1.46661724e-03,\n",
       "       -1.76765662e-03,  1.16040570e-03,  5.37330464e-03,  4.30978762e-03,\n",
       "       -1.34502316e-04, -7.57933729e-04, -6.71175501e-04,  5.58701315e-04,\n",
       "       -1.56751673e-03, -8.87765239e-04, -6.62466560e-04, -2.46284742e-04,\n",
       "       -1.03847414e-03, -9.67380498e-04,  5.02176938e-04, -4.14996186e-03,\n",
       "        3.80925485e-03,  1.42626240e-04, -1.10704067e-03,  1.97124457e-03,\n",
       "       -5.10249478e-05, -2.21429880e-05, -1.11492983e-03, -1.49284913e-04,\n",
       "        6.45874519e-04, -5.07960936e-04, -1.97910149e-04,  3.07411371e-04,\n",
       "        2.26107025e-03,  6.88438829e-04, -1.41013583e-03,  4.82253720e-04,\n",
       "        6.93066655e-04,  4.99670202e-04, -1.30858649e-03,  2.13631380e-03,\n",
       "        3.74830821e-04,  1.39380612e-03, -1.11950947e-03, -4.03947466e-03,\n",
       "       -2.68710461e-04,  1.60814627e-03, -1.92297406e-04, -2.13319535e-04,\n",
       "        1.87207202e-03, -1.20656848e-03, -1.56104273e-04, -3.87499021e-04,\n",
       "       -6.97086024e-05, -9.64903995e-04, -3.95654266e-03,  1.43876683e-03,\n",
       "       -1.74581797e-04, -1.73404806e-03, -8.57439787e-04, -1.83022814e-03,\n",
       "       -1.19647928e-03, -1.79999482e-03, -1.41788713e-05, -1.22706877e-04,\n",
       "       -5.33649015e-04, -8.38676880e-04, -1.86886047e-04,  5.69428321e-04,\n",
       "        1.27336051e-03, -1.53862636e-03, -2.32895991e-04, -9.80569747e-04,\n",
       "        1.12758707e-03,  8.13089209e-04,  8.24910435e-04, -2.47199768e-04,\n",
       "       -4.99855938e-03, -3.19844268e-05, -2.88328493e-03, -1.33647582e-03,\n",
       "        5.14379879e-04, -4.15524765e-03,  1.58293301e-03,  1.97574149e-04,\n",
       "        2.79395342e-03,  9.62957163e-04,  3.52827587e-05,  3.60300310e-03,\n",
       "        1.64904802e-03,  4.96516663e-04, -2.91987177e-04,  3.80773955e-04,\n",
       "        2.28364955e-03,  7.10924031e-04, -1.27119800e-03, -1.13489866e-03,\n",
       "        1.55534521e-03, -2.46694307e-04, -2.82124443e-03,  3.98669430e-03,\n",
       "       -3.91037835e-04, -1.46631746e-04,  7.18426300e-05, -6.20191213e-05,\n",
       "       -9.56233594e-04,  1.67638488e-03,  3.50247723e-04, -2.31591139e-03,\n",
       "       -2.60469896e-03,  1.74893944e-03, -1.32534667e-03, -1.51973433e-03,\n",
       "       -1.19861611e-03, -5.69851561e-04, -1.48061111e-03, -9.44391436e-04,\n",
       "       -7.42752665e-04, -1.95282804e-03, -1.90389554e-03,  2.28009024e-03,\n",
       "        1.37013854e-03,  8.96744536e-04,  7.06648990e-04, -7.87742497e-04,\n",
       "       -7.55068653e-04, -4.81688573e-04,  1.42325830e-03,  1.88353146e-03,\n",
       "        7.89271226e-04, -7.28868720e-04, -4.45552817e-05, -4.02736637e-04,\n",
       "       -4.17693589e-04, -3.10063693e-04,  1.02637115e-03,  2.74287481e-04,\n",
       "       -2.61633027e-03,  1.37836209e-03, -3.86570007e-03, -2.35138969e-04,\n",
       "       -4.87594329e-03,  1.16919811e-04, -4.73921319e-04,  1.26544237e-03,\n",
       "        2.04413512e-03, -4.30512132e-03, -1.96833616e-03, -9.38906365e-04,\n",
       "        2.75071764e-04,  3.69943986e-04, -3.04262457e-04, -1.87378674e-03,\n",
       "       -2.40773666e-03,  7.37496973e-04,  7.46791260e-04,  2.92602638e-05,\n",
       "       -1.04543151e-04,  1.20996221e-03, -1.78885159e-03, -2.54044283e-03,\n",
       "        2.66871635e-03, -2.21180887e-03, -1.62687057e-03,  8.27626905e-04,\n",
       "       -1.15108960e-03,  1.64258279e-03,  1.73421590e-03, -2.01264683e-03,\n",
       "       -1.63408079e-04,  1.53186292e-03,  5.17782452e-04, -9.68944824e-04,\n",
       "        4.08593031e-03,  4.23610979e-04, -2.70982716e-03, -1.33673428e-03,\n",
       "       -8.62213222e-05])"
      ]
     },
     "execution_count": 222,
     "metadata": {},
     "output_type": "execute_result"
    }
   ],
   "source": [
    "l1-l2"
   ]
  },
  {
   "cell_type": "code",
   "execution_count": 178,
   "metadata": {},
   "outputs": [
    {
     "data": {
      "text/plain": [
       "array([-0.53924277,  0.54301213, -0.52517736, -0.5786715 ,  0.58469989,\n",
       "        0.47122951, -0.53139459, -0.47683053, -0.44846197,  0.43002378,\n",
       "       -0.6074221 , -0.62037513,  0.50018985, -0.46655866, -0.57368568,\n",
       "        0.51364377,  0.59169131, -0.60926418, -0.47148166,  0.54826363,\n",
       "       -0.56983703, -0.64807693,  0.61076271, -0.62149952,  0.58310942,\n",
       "       -0.49668178,  0.50878553, -0.55094905,  0.55120439,  0.47198707,\n",
       "        0.5747353 , -0.55888307,  0.63200498,  0.53389364,  0.69598951,\n",
       "        0.54792916,  0.57325151,  0.57582554,  0.46816016, -0.49677684,\n",
       "       -0.54777753, -0.50637823,  0.50311116, -0.58342825,  0.51367359,\n",
       "       -0.61239898,  0.53811064,  0.55356803, -0.49883089,  0.62087735,\n",
       "       -0.52439119, -0.49684439,  0.46949263,  0.52326775,  0.51760842,\n",
       "        0.65366238, -0.56400626,  0.49200296,  0.60500841, -0.54557557,\n",
       "        0.544401  , -0.53782273, -0.56955454, -0.52473103, -0.45087154,\n",
       "        0.51131643,  0.55793766, -0.55174348, -0.63752053,  0.46138459,\n",
       "        0.51089684, -0.49178168,  0.62084508, -0.53072063, -0.51247082,\n",
       "       -0.62795193,  0.56164039,  0.46109305,  0.51930809, -0.47109803,\n",
       "        0.4731404 , -0.60151374, -0.59887489,  0.57417547, -0.65070521,\n",
       "       -0.54486573, -0.52995009, -0.60216373,  0.52045741,  0.48371359,\n",
       "        0.54420697,  0.52159747,  0.50636566,  0.70787409, -0.56790257,\n",
       "       -0.54204946,  0.51502754,  0.63994038, -0.44860811,  0.44839011,\n",
       "       -0.55821023,  0.56769086, -0.5674181 ,  0.62729086, -0.49928921,\n",
       "       -0.52207147,  0.59118652,  0.58999487, -0.63877107, -0.47090971,\n",
       "        0.53233122, -0.60824755, -0.58777803, -0.50649938,  0.42701575,\n",
       "       -0.48421659,  0.49606093, -0.48662169,  0.58513351,  0.68920066,\n",
       "        0.41423477, -0.65124425,  0.66308254,  0.40970432,  0.54189026,\n",
       "        0.62512763,  0.61929318,  0.65113625, -0.4620303 , -0.49237275,\n",
       "       -0.50250584,  0.63626236, -0.52324494, -0.52132446,  0.53886871,\n",
       "       -0.47133839, -0.58412041,  0.5925511 ,  0.63935448, -0.48965984,\n",
       "        0.69321444,  0.56235976,  0.45542906, -0.57806473, -0.65587352,\n",
       "        0.57761369, -0.60472038, -0.50807381, -0.54356181,  0.51668631,\n",
       "        0.6157559 , -0.46662108, -0.46405037, -0.53441313,  0.44801951,\n",
       "       -0.5507727 , -0.55324482, -0.60594742,  0.47261658, -0.51868212,\n",
       "       -0.52434945, -0.57371871,  0.47950629,  0.48124698, -0.60860496,\n",
       "        0.5578566 , -0.57381192, -0.62011995, -0.53235295,  0.53978476,\n",
       "        0.55750635,  0.53511179,  0.51601013,  0.60297203, -0.49050014,\n",
       "        0.62564595,  0.46578306,  0.56261698, -0.53550602,  0.50094516,\n",
       "        0.55164699,  0.56467457, -0.49104797,  0.51987729,  0.58461106,\n",
       "       -0.55334794, -0.52793717, -0.58873814,  0.56654038,  0.57371211,\n",
       "        0.54114404,  0.48405844,  0.41261162,  0.49225538, -0.55018783,\n",
       "       -0.53580609, -0.51126367,  0.56822174, -0.55634164,  0.5583036 ,\n",
       "        0.50221898])"
      ]
     },
     "execution_count": 178,
     "metadata": {},
     "output_type": "execute_result"
    }
   ],
   "source": [
    "l1"
   ]
  },
  {
   "cell_type": "code",
   "execution_count": 179,
   "metadata": {},
   "outputs": [
    {
     "data": {
      "text/plain": [
       "array([-0.53917383,  0.54296362, -0.52523768, -0.57878523,  0.5847418 ,\n",
       "        0.47120149, -0.53145195, -0.47672224, -0.44839938,  0.43004929,\n",
       "       -0.60768691, -0.6197728 ,  0.50030396, -0.46673142, -0.57365579,\n",
       "        0.51358902,  0.59163753, -0.60905205, -0.47147303,  0.54892363,\n",
       "       -0.56976894, -0.64812977,  0.61079944, -0.6211845 ,  0.58341713,\n",
       "       -0.49666249,  0.50874172, -0.55055141,  0.55134356,  0.47182354,\n",
       "        0.57487298, -0.55882447,  0.63208706,  0.53384863,  0.69598354,\n",
       "        0.54812789,  0.57331465,  0.57580516,  0.46822898, -0.49666785,\n",
       "       -0.54760358, -0.50647675,  0.50299795, -0.58343953,  0.51370685,\n",
       "       -0.61259699,  0.53769862,  0.55333067, -0.49885268,  0.6210077 ,\n",
       "       -0.52441488, -0.49706825,  0.46943575,  0.52349502,  0.5173935 ,\n",
       "        0.65385951, -0.56396046,  0.49189119,  0.60478721, -0.54556226,\n",
       "        0.54437701, -0.5378353 , -0.56977062, -0.5246812 , -0.45091389,\n",
       "        0.51085122,  0.55807393, -0.55206901, -0.6373976 ,  0.46123213,\n",
       "        0.51070534, -0.49189319,  0.62080366, -0.5304628 , -0.5125632 ,\n",
       "       -0.62795617,  0.561825  ,  0.46102792,  0.51936967, -0.47107843,\n",
       "        0.47301504, -0.60160256, -0.5989083 ,  0.57422624, -0.65037003,\n",
       "       -0.54490871, -0.52982828, -0.60250766,  0.52057702,  0.48381559,\n",
       "        0.54424217,  0.52174087,  0.50628706,  0.70797434, -0.56757385,\n",
       "       -0.5421249 ,  0.51511231,  0.64011046, -0.44854619,  0.44842166,\n",
       "       -0.55808162,  0.56776497, -0.56752117,  0.62717286, -0.49945261,\n",
       "       -0.52196811,  0.59083644,  0.58988631, -0.63860963, -0.47095878,\n",
       "        0.53217466, -0.60826453, -0.58770376, -0.50693594,  0.4260423 ,\n",
       "       -0.48428132,  0.49604219, -0.48659495,  0.58532344,  0.68915818,\n",
       "        0.41420104, -0.65114207,  0.66296426,  0.40959291,  0.54193391,\n",
       "        0.62498899,  0.6193051 ,  0.65115449, -0.46197845, -0.49240749,\n",
       "       -0.50262367,  0.63668604, -0.52339962, -0.52127367,  0.53898558,\n",
       "       -0.47131351, -0.58428986,  0.59264302,  0.63914642, -0.48957282,\n",
       "        0.69324743,  0.56236057,  0.45541078, -0.57828598, -0.65585495,\n",
       "        0.57741916, -0.60472403, -0.5080928 , -0.54381266,  0.51667271,\n",
       "        0.61560252, -0.46672157, -0.464049  , -0.53449042,  0.44826452,\n",
       "       -0.55063493, -0.55321831, -0.60566637,  0.47273172, -0.51866576,\n",
       "       -0.52419526, -0.57385323,  0.47945665,  0.48131106, -0.60881411,\n",
       "        0.55795872, -0.57388944, -0.62031804, -0.53249445,  0.53922685,\n",
       "        0.55765099,  0.53500103,  0.51607933,  0.60305952, -0.4904869 ,\n",
       "        0.62575418,  0.4657633 ,  0.56227841, -0.53534025,  0.50095429,\n",
       "        0.55155694,  0.56434733, -0.49096732,  0.51993884,  0.58478208,\n",
       "       -0.55324273, -0.52795224, -0.58893239,  0.56634379,  0.57354051,\n",
       "        0.54119913,  0.48398907,  0.41299224,  0.4921446 , -0.55014519,\n",
       "       -0.53580729, -0.5118608 ,  0.56816065, -0.55641811,  0.55851393,\n",
       "        0.50221291])"
      ]
     },
     "execution_count": 179,
     "metadata": {},
     "output_type": "execute_result"
    }
   ],
   "source": [
    "l2"
   ]
  },
  {
   "cell_type": "code",
   "execution_count": 256,
   "metadata": {},
   "outputs": [],
   "source": [
    "#given \"points\" with labels a and b we can assign probability of an edge between them\n",
    "def basic_func2(a,b):\n",
    "    if a == 1 and b == 1:\n",
    "        return .8\n",
    "    if a == 0 and b == 0:\n",
    "        return .6\n",
    "    else:\n",
    "        return .2\n",
    "def basic_func3(a,b):\n",
    "    if a == 1 and b == 1:\n",
    "        return .8\n",
    "    if a == 2 and b == 2:\n",
    "        return .9\n",
    "    if a == 0 and b == 0:\n",
    "        return .7\n",
    "    else:\n",
    "        return .3"
   ]
  },
  {
   "cell_type": "code",
   "execution_count": 196,
   "metadata": {},
   "outputs": [],
   "source": [
    "def create_transition_matrix(labels, func):\n",
    "    matrix = []\n",
    "    for i in range(len(labels)):\n",
    "        arr = []\n",
    "        for j in range(len(labels)):\n",
    "            if func(labels[i], labels[j]) != func(labels[j],labels[i]):\n",
    "                print(\"WARNING, asymetric function\")\n",
    "            arr.append(func(labels[i], labels[j]))\n",
    "        matrix.append(arr)\n",
    "    return np.array(matrix)"
   ]
  },
  {
   "cell_type": "code",
   "execution_count": 195,
   "metadata": {},
   "outputs": [
    {
     "data": {
      "text/plain": [
       "array([0, 0, 1, 0, 0, 1, 1, 0, 0, 0, 1, 1, 1, 0, 1, 0, 0, 1, 0, 1, 0, 1,\n",
       "       1, 0, 1, 0, 0, 0, 1, 1, 1, 1, 1, 1, 1, 1, 0, 0, 0, 0, 0, 1, 0, 1,\n",
       "       0, 1, 1, 0, 0, 1, 0, 1, 1, 0, 0, 0, 0, 1, 1, 1, 0, 1, 1, 1, 0, 1,\n",
       "       0, 1, 1, 0, 1, 0, 1, 1, 0, 1, 1, 0, 0, 1, 1, 1, 0, 1, 1, 1, 1, 0,\n",
       "       0, 1, 0, 0, 1, 1, 1, 1, 0, 0, 1, 0, 0, 1, 0, 0, 0, 0, 0, 1, 0, 0,\n",
       "       1, 0, 0, 0, 1, 1, 1, 1, 0, 0, 0, 0, 1, 1, 1, 0, 0, 1, 1, 1, 0, 0,\n",
       "       1, 0, 0, 0, 1, 1, 0, 0, 0, 0, 1, 0, 1, 1, 0, 1, 0, 1, 0, 1, 0, 1,\n",
       "       1, 1, 0, 1, 1, 1, 0, 0, 1, 0, 0, 0, 1, 0, 0, 0, 0, 1, 1, 0, 0, 0,\n",
       "       1, 0, 1, 0, 0, 0, 0, 1, 1, 1, 0, 0, 0, 0, 0, 1, 0, 1, 0, 0, 0, 0,\n",
       "       0, 0])"
      ]
     },
     "execution_count": 195,
     "metadata": {},
     "output_type": "execute_result"
    }
   ],
   "source": [
    "true_labels"
   ]
  },
  {
   "cell_type": "code",
   "execution_count": 235,
   "metadata": {},
   "outputs": [],
   "source": [
    "true_labels = np.random.randint(2,size=300)\n",
    "\n",
    "n = 300\n",
    "G = create_graph(n, true_labels, basic_func2)"
   ]
  },
  {
   "cell_type": "code",
   "execution_count": 241,
   "metadata": {},
   "outputs": [],
   "source": [
    "T = create_transition_matrix(true_labels, basic_func2)"
   ]
  },
  {
   "cell_type": "code",
   "execution_count": 236,
   "metadata": {},
   "outputs": [
    {
     "name": "stdout",
     "output_type": "stream",
     "text": [
      "Warning: Maximum number of iterations has been exceeded.\n",
      "         Current function value: 0.542988\n",
      "         Iterations: 100\n",
      "         Function evaluations: 33220\n",
      "         Gradient evaluations: 110\n",
      "Warning: Maximum number of iterations has been exceeded.\n",
      "         Current function value: 0.556619\n",
      "         Iterations: 100\n",
      "         Function evaluations: 32012\n",
      "         Gradient evaluations: 106\n"
     ]
    }
   ],
   "source": [
    "l1 = find_opt_params_f2(G, t_matrix_func1)\n",
    "l2 = find_opt_params_f2(G, t_matrix_func2)"
   ]
  },
  {
   "cell_type": "code",
   "execution_count": 237,
   "metadata": {},
   "outputs": [
    {
     "data": {
      "text/plain": [
       "array([[0.5895816 , 0.21914837, 0.22596448, ..., 0.62495673, 0.61781817,\n",
       "        0.59060065],\n",
       "       [0.21914837, 0.77245948, 0.76227834, ..., 0.16630901, 0.17697177,\n",
       "        0.21762623],\n",
       "       [0.22596448, 0.76227834, 0.75240995, ..., 0.17474831, 0.18508352,\n",
       "        0.2244891 ],\n",
       "       ...,\n",
       "       [0.62495673, 0.16630901, 0.17474831, ..., 0.66875604, 0.65991752,\n",
       "        0.62621845],\n",
       "       [0.61781817, 0.17697177, 0.18508352, ..., 0.65991752, 0.65142205,\n",
       "        0.61903093],\n",
       "       [0.59060065, 0.21762623, 0.2244891 , ..., 0.62621845, 0.61903093,\n",
       "        0.59162669]])"
      ]
     },
     "execution_count": 237,
     "metadata": {},
     "output_type": "execute_result"
    }
   ],
   "source": [
    "prob_matrix_f2(l1[:-1], l1[-1:], t_matrix_func1)"
   ]
  },
  {
   "cell_type": "code",
   "execution_count": 238,
   "metadata": {},
   "outputs": [
    {
     "data": {
      "text/plain": [
       "array([[0.51434594, 0.19860451, 0.20675562, ..., 0.5213623 , 0.51997809,\n",
       "        0.51587465],\n",
       "       [0.33102032, 0.77339297, 0.76197277, ..., 0.32118998, 0.32312934,\n",
       "        0.32887851],\n",
       "       [0.33379146, 0.76470448, 0.75358012, ..., 0.32421578, 0.3261049 ,\n",
       "        0.33170514],\n",
       "       ...,\n",
       "       [0.53447684, 0.13548726, 0.14578749, ..., 0.54334313, 0.54159396,\n",
       "        0.5364086 ],\n",
       "       [0.52893994, 0.15284735, 0.16255648, ..., 0.53729741, 0.53564862,\n",
       "        0.53076084],\n",
       "       [0.51765391, 0.18823289, 0.19673715, ..., 0.52497426, 0.52353008,\n",
       "        0.51924885]])"
      ]
     },
     "execution_count": 238,
     "metadata": {},
     "output_type": "execute_result"
    }
   ],
   "source": [
    "prob_matrix_f2(l2[:-1], l2[-1:], t_matrix_func2)"
   ]
  },
  {
   "cell_type": "code",
   "execution_count": 199,
   "metadata": {},
   "outputs": [
    {
     "data": {
      "text/plain": [
       "array([[ 0.06742005,  0.05929498,  0.02750137, ...,  0.09036562,\n",
       "         0.04928104,  0.07358973],\n",
       "       [ 0.05929498,  0.05156954,  0.04101274, ...,  0.08111203,\n",
       "         0.04204811,  0.06516123],\n",
       "       [ 0.02750137,  0.04101274,  0.15905318, ..., -0.01065541,\n",
       "         0.05766517,  0.01724165],\n",
       "       ...,\n",
       "       [ 0.09036562,  0.08111203, -0.01065541, ...,  0.11649821,\n",
       "         0.06970721,  0.09739224],\n",
       "       [ 0.04928104,  0.04204811,  0.05766517, ...,  0.06970721,\n",
       "         0.03313369,  0.0547733 ],\n",
       "       [ 0.07358973,  0.06516123,  0.01724165, ...,  0.09739224,\n",
       "         0.0547733 ,  0.07998983]])"
      ]
     },
     "execution_count": 199,
     "metadata": {},
     "output_type": "execute_result"
    }
   ],
   "source": [
    "prob_matrix_f2(l2[:-1], l[-1:])-T"
   ]
  },
  {
   "cell_type": "code",
   "execution_count": 210,
   "metadata": {},
   "outputs": [
    {
     "data": {
      "text/plain": [
       "array([[1, 1, 1],\n",
       "       [2, 2, 2],\n",
       "       [3, 3, 3]])"
      ]
     },
     "execution_count": 210,
     "metadata": {},
     "output_type": "execute_result"
    }
   ],
   "source": [
    "np.array([[1],[2],[3]]) @ np.array([[1,1,1]])"
   ]
  },
  {
   "cell_type": "code",
   "execution_count": 240,
   "metadata": {},
   "outputs": [
    {
     "data": {
      "text/plain": [
       "array([-0.34016795,  0.47659566,  0.46424947,  0.50212127,  0.49817808,\n",
       "        0.48662413,  0.54430639,  0.47729222, -0.35487311,  0.48336972,\n",
       "        0.51491393, -0.35735829,  0.54493694, -0.43920012,  0.52595503,\n",
       "       -0.38627589,  0.44250384,  0.47089595, -0.40694045,  0.47089868,\n",
       "       -0.3341758 , -0.42409856, -0.35467392, -0.40856153,  0.52186061,\n",
       "       -0.41279689,  0.54194106, -0.32217083,  0.48940571,  0.52905592,\n",
       "        0.50838761,  0.49661005,  0.46777956,  0.53234247, -0.38818542,\n",
       "       -0.30447896, -0.39501891, -0.33147959, -0.35602579, -0.34325766,\n",
       "       -0.42352287, -0.38621422,  0.52035298,  0.42013058, -0.35204265,\n",
       "        0.51579196, -0.36877278,  0.5255488 , -0.388146  , -0.3709175 ,\n",
       "       -0.30967394,  0.53004944, -0.39949092, -0.35028906,  0.46931485,\n",
       "       -0.34289336,  0.53699381,  0.48803308,  0.4977983 ,  0.47335916,\n",
       "       -0.33991429, -0.3944201 , -0.39406627, -0.32499762,  0.50609433,\n",
       "       -0.38356298,  0.46063366, -0.31259549, -0.39419485,  0.4499973 ,\n",
       "        0.529349  ,  0.46072397,  0.4803614 , -0.33697445,  0.54208089,\n",
       "       -0.37484985,  0.48899499,  0.43882833,  0.51386854,  0.43458275,\n",
       "       -0.42504137, -0.35274649,  0.46972167, -0.35299496, -0.34303874,\n",
       "        0.47551455, -0.3410424 ,  0.46891107,  0.53593402, -0.28495037,\n",
       "        0.45720459, -0.32818768, -0.35809943, -0.33139302,  0.48666719,\n",
       "       -0.40652346, -0.36223998, -0.37071978, -0.34642836,  0.52483863,\n",
       "       -0.39157161,  0.51163344,  0.44166445, -0.34495677,  0.47597011,\n",
       "        0.44727791, -0.3992535 , -0.33287044, -0.36841042, -0.3819316 ,\n",
       "        0.50472857,  0.50924402,  0.52046813,  0.40695773,  0.53762445,\n",
       "       -0.29779595,  0.470804  ,  0.52659945, -0.30819277,  0.49854538,\n",
       "       -0.38520073, -0.42994128,  0.54626244,  0.44066858, -0.34253664,\n",
       "        0.51957103,  0.50340777,  0.53368525, -0.36464572,  0.48171374,\n",
       "       -0.29974336, -0.35507176, -0.37577659,  0.47720972,  0.51911869,\n",
       "        0.47521515, -0.32436508, -0.33692085, -0.37993452, -0.35450484,\n",
       "        0.52273675, -0.3898691 , -0.32454563, -0.35640979,  0.4945442 ,\n",
       "       -0.28164739, -0.37879539, -0.28061791, -0.3723171 , -0.31125984,\n",
       "       -0.38517349, -0.37241971, -0.3761037 ,  0.51404616, -0.40428064,\n",
       "        0.49142946,  0.49970543, -0.41313268,  0.48654484,  0.52670618,\n",
       "       -0.34556627,  0.47134873, -0.3355991 , -0.31649039,  0.47292169,\n",
       "        0.49650181,  0.45396978, -0.38841184,  0.47990431,  0.49068051,\n",
       "       -0.33319547, -0.40054874,  0.50033202, -0.3878038 , -0.38004366,\n",
       "       -0.40572628, -0.34633251,  0.51911866, -0.36235665,  0.48577357,\n",
       "        0.54335125, -0.38571172,  0.50431993,  0.52358985, -0.35742973,\n",
       "        0.45103805,  0.4896707 , -0.36844903, -0.3587573 ,  0.56411462,\n",
       "       -0.34528512, -0.37715622, -0.4059008 , -0.36725857,  0.47720267,\n",
       "       -0.3794749 , -0.32007799, -0.37040343,  0.50126384,  0.42034289,\n",
       "       -0.35775008,  0.49445984,  0.5087079 , -0.35221606,  0.45788823,\n",
       "        0.45342408, -0.38113613, -0.31379912,  0.46573813, -0.41844937,\n",
       "        0.46381027, -0.37510711,  0.52851734, -0.4140475 , -0.30887792,\n",
       "        0.45914862, -0.43448606, -0.35626286,  0.43558171, -0.32169623,\n",
       "       -0.33702319,  0.48912312,  0.46583046, -0.36851867, -0.33467511,\n",
       "       -0.29615327,  0.46586932,  0.53956257,  0.49129594,  0.46857201,\n",
       "       -0.40299124,  0.5214927 ,  0.50358769, -0.37906896, -0.40549454,\n",
       "        0.4511272 ,  0.46278844,  0.49997135,  0.53247387,  0.49159884,\n",
       "       -0.39427038,  0.48766209, -0.34573467, -0.38361556,  0.49533419,\n",
       "        0.50340199,  0.49389359,  0.5314922 , -0.3668754 , -0.33601737,\n",
       "        0.45395685,  0.51620241, -0.3701207 ,  0.46712509, -0.33021822,\n",
       "       -0.3701206 ,  0.53013799,  0.47898298,  0.50666994,  0.44939954,\n",
       "       -0.38041885, -0.36722213, -0.36423359,  0.51656777, -0.32275696,\n",
       "       -0.38988038,  0.4856657 ,  0.50798646, -0.37239627,  0.529154  ,\n",
       "        0.52922592, -0.34826182,  0.47849064,  0.45599432,  0.45742542,\n",
       "       -0.35484236, -0.3841831 ,  0.49953234, -0.31314099,  0.47981774,\n",
       "        0.48948415, -0.31859296,  0.50687595,  0.48735493,  0.46092141,\n",
       "       -0.27730612, -0.40391538, -0.33684437,  0.45292406, -0.37394921,\n",
       "        0.49733243, -0.40418523,  0.44808858,  0.48572331,  0.41860168,\n",
       "       -0.28294327,  0.49865594, -0.42985638, -0.405188  , -0.35490582,\n",
       "        0.43799398])"
      ]
     },
     "execution_count": 240,
     "metadata": {},
     "output_type": "execute_result"
    }
   ],
   "source": [
    "l2"
   ]
  },
  {
   "cell_type": "code",
   "execution_count": 252,
   "metadata": {},
   "outputs": [
    {
     "data": {
      "text/plain": [
       "(array([1.000e+00, 0.000e+00, 4.000e+00, 0.000e+00, 2.000e+00, 3.000e+00,\n",
       "        5.000e+00, 1.000e+01, 7.000e+00, 1.400e+01, 2.400e+01, 2.400e+01,\n",
       "        4.400e+01, 4.100e+01, 5.800e+01, 7.700e+01, 1.090e+02, 1.360e+02,\n",
       "        1.420e+02, 2.110e+02, 2.410e+02, 3.090e+02, 4.260e+02, 4.650e+02,\n",
       "        5.440e+02, 6.040e+02, 7.860e+02, 9.210e+02, 1.055e+03, 1.179e+03,\n",
       "        1.346e+03, 1.560e+03, 1.661e+03, 1.835e+03, 1.994e+03, 2.103e+03,\n",
       "        2.456e+03, 2.552e+03, 2.563e+03, 2.774e+03, 2.940e+03, 2.947e+03,\n",
       "        3.107e+03, 3.036e+03, 3.138e+03, 3.199e+03, 3.201e+03, 3.127e+03,\n",
       "        3.050e+03, 2.888e+03, 2.747e+03, 2.647e+03, 2.562e+03, 2.451e+03,\n",
       "        2.160e+03, 2.128e+03, 1.912e+03, 1.788e+03, 1.696e+03, 1.429e+03,\n",
       "        1.370e+03, 1.155e+03, 1.023e+03, 9.200e+02, 7.820e+02, 7.240e+02,\n",
       "        5.780e+02, 5.590e+02, 4.530e+02, 3.960e+02, 3.250e+02, 2.650e+02,\n",
       "        2.350e+02, 1.700e+02, 1.330e+02, 1.080e+02, 9.200e+01, 6.700e+01,\n",
       "        2.900e+01, 4.800e+01, 1.900e+01, 3.500e+01, 1.000e+01, 2.000e+01,\n",
       "        1.100e+01, 7.000e+00, 6.000e+00, 2.000e+00, 4.000e+00, 4.000e+00,\n",
       "        6.000e+00, 0.000e+00, 4.000e+00, 0.000e+00, 0.000e+00, 0.000e+00,\n",
       "        0.000e+00, 0.000e+00, 0.000e+00, 1.000e+00]),\n",
       " array([-0.13264708, -0.12970671, -0.12676633, -0.12382596, -0.12088558,\n",
       "        -0.11794521, -0.11500483, -0.11206446, -0.10912408, -0.1061837 ,\n",
       "        -0.10324333, -0.10030295, -0.09736258, -0.0944222 , -0.09148183,\n",
       "        -0.08854145, -0.08560108, -0.0826607 , -0.07972032, -0.07677995,\n",
       "        -0.07383957, -0.0708992 , -0.06795882, -0.06501845, -0.06207807,\n",
       "        -0.0591377 , -0.05619732, -0.05325694, -0.05031657, -0.04737619,\n",
       "        -0.04443582, -0.04149544, -0.03855507, -0.03561469, -0.03267432,\n",
       "        -0.02973394, -0.02679356, -0.02385319, -0.02091281, -0.01797244,\n",
       "        -0.01503206, -0.01209169, -0.00915131, -0.00621093, -0.00327056,\n",
       "        -0.00033018,  0.00261019,  0.00555057,  0.00849094,  0.01143132,\n",
       "         0.01437169,  0.01731207,  0.02025245,  0.02319282,  0.0261332 ,\n",
       "         0.02907357,  0.03201395,  0.03495432,  0.0378947 ,  0.04083507,\n",
       "         0.04377545,  0.04671583,  0.0496562 ,  0.05259658,  0.05553695,\n",
       "         0.05847733,  0.0614177 ,  0.06435808,  0.06729845,  0.07023883,\n",
       "         0.07317921,  0.07611958,  0.07905996,  0.08200033,  0.08494071,\n",
       "         0.08788108,  0.09082146,  0.09376184,  0.09670221,  0.09964259,\n",
       "         0.10258296,  0.10552334,  0.10846371,  0.11140409,  0.11434446,\n",
       "         0.11728484,  0.12022522,  0.12316559,  0.12610597,  0.12904634,\n",
       "         0.13198672,  0.13492709,  0.13786747,  0.14080784,  0.14374822,\n",
       "         0.1466886 ,  0.14962897,  0.15256935,  0.15550972,  0.1584501 ,\n",
       "         0.16139047]),\n",
       " <BarContainer object of 100 artists>)"
      ]
     },
     "execution_count": 252,
     "metadata": {},
     "output_type": "execute_result"
    },
    {
     "data": {
      "image/png": "[encoded data removed]",
      "text/plain": [
       "<Figure size 432x288 with 1 Axes>"
      ]
     },
     "metadata": {
      "needs_background": "light"
     },
     "output_type": "display_data"
    }
   ],
   "source": [
    "plt.hist((prob_matrix_f2(l1[:-1], l1[-1:], t_matrix_func1)-T).flatten(), bins=100)\n",
    "plt.show()"
   ]
  },
  {
   "cell_type": "code",
   "execution_count": 255,
   "metadata": {},
   "outputs": [
    {
     "data": {
      "text/plain": [
       "0.022635077379967006"
      ]
     },
     "execution_count": 255,
     "metadata": {},
     "output_type": "execute_result"
    }
   ],
   "source": [
    "np.median(np.abs(prob_matrix_f2(l1[:-1], l1[-1:], t_matrix_func1)-T))"
   ]
  },
  {
   "cell_type": "code",
   "execution_count": 251,
   "metadata": {},
   "outputs": [
    {
     "data": {
      "text/plain": [
       "array([[-0.0104184 ,  0.01914837,  0.02596448, ...,  0.02495673,\n",
       "         0.01781817, -0.00939935],\n",
       "       [ 0.01914837, -0.02754052, -0.03772166, ..., -0.03369099,\n",
       "        -0.02302823,  0.01762623],\n",
       "       [ 0.02596448, -0.03772166, -0.04759005, ..., -0.02525169,\n",
       "        -0.01491648,  0.0244891 ],\n",
       "       ...,\n",
       "       [ 0.02495673, -0.03369099, -0.02525169, ...,  0.06875604,\n",
       "         0.05991752,  0.02621845],\n",
       "       [ 0.01781817, -0.02302823, -0.01491648, ...,  0.05991752,\n",
       "         0.05142205,  0.01903093],\n",
       "       [-0.00939935,  0.01762623,  0.0244891 , ...,  0.02621845,\n",
       "         0.01903093, -0.00837331]])"
      ]
     },
     "execution_count": 251,
     "metadata": {},
     "output_type": "execute_result"
    }
   ],
   "source": [
    "prob_matrix_f2(l1[:-1], l1[-1:], t_matrix_func1)-T"
   ]
  },
  {
   "cell_type": "code",
   "execution_count": 245,
   "metadata": {},
   "outputs": [
    {
     "data": {
      "text/plain": [
       "array([[0.6, 0.2, 0.2, ..., 0.6, 0.6, 0.6],\n",
       "       [0.2, 0.8, 0.8, ..., 0.2, 0.2, 0.2],\n",
       "       [0.2, 0.8, 0.8, ..., 0.2, 0.2, 0.2],\n",
       "       ...,\n",
       "       [0.6, 0.2, 0.2, ..., 0.6, 0.6, 0.6],\n",
       "       [0.6, 0.2, 0.2, ..., 0.6, 0.6, 0.6],\n",
       "       [0.6, 0.2, 0.2, ..., 0.6, 0.6, 0.6]])"
      ]
     },
     "execution_count": 245,
     "metadata": {},
     "output_type": "execute_result"
    }
   ],
   "source": [
    "T"
   ]
  },
  {
   "cell_type": "code",
   "execution_count": 262,
   "metadata": {},
   "outputs": [],
   "source": [
    "true_labels = np.random.randint(3,size=300)\n",
    "\n",
    "n = 300\n",
    "G = create_graph(n, true_labels, basic_func3)\n",
    "T = create_transition_matrix(true_labels, basic_func3)"
   ]
  },
  {
   "cell_type": "code",
   "execution_count": 268,
   "metadata": {},
   "outputs": [
    {
     "data": {
      "text/plain": [
       "array([[0.8, 0.3, 0.8, ..., 0.8, 0.3, 0.3],\n",
       "       [0.3, 0.9, 0.3, ..., 0.3, 0.3, 0.9],\n",
       "       [0.8, 0.3, 0.8, ..., 0.8, 0.3, 0.3],\n",
       "       ...,\n",
       "       [0.8, 0.3, 0.8, ..., 0.8, 0.3, 0.3],\n",
       "       [0.3, 0.3, 0.3, ..., 0.3, 0.7, 0.3],\n",
       "       [0.3, 0.9, 0.3, ..., 0.3, 0.3, 0.9]])"
      ]
     },
     "execution_count": 268,
     "metadata": {},
     "output_type": "execute_result"
    }
   ],
   "source": [
    "T"
   ]
  },
  {
   "cell_type": "code",
   "execution_count": 270,
   "metadata": {},
   "outputs": [
    {
     "name": "stdout",
     "output_type": "stream",
     "text": [
      "Warning: Maximum number of iterations has been exceeded.\n",
      "         Current function value: 0.614445\n",
      "         Iterations: 100\n",
      "         Function evaluations: 31408\n",
      "         Gradient evaluations: 104\n"
     ]
    }
   ],
   "source": [
    "l1 = find_opt_params_f2(G, t_matrix_func1)"
   ]
  },
  {
   "cell_type": "code",
   "execution_count": 271,
   "metadata": {},
   "outputs": [
    {
     "data": {
      "text/plain": [
       "array([[0.6188917 , 0.21810504, 0.61878393, ..., 0.57622685, 0.54391315,\n",
       "        0.21651536],\n",
       "       [0.21810504, 0.93931644, 0.21829898, ..., 0.29487998, 0.35302815,\n",
       "        0.94217705],\n",
       "       [0.61878393, 0.21829898, 0.61867624, ..., 0.5761512 , 0.54386182,\n",
       "        0.21671049],\n",
       "       ...,\n",
       "       [0.57622685, 0.29487998, 0.5761512 , ..., 0.5462767 , 0.52359292,\n",
       "        0.29376405],\n",
       "       [0.54391315, 0.35302815, 0.54386182, ..., 0.52359292, 0.50820268,\n",
       "        0.35227103],\n",
       "       [0.21651536, 0.94217705, 0.21671049, ..., 0.29376405, 0.35227103,\n",
       "        0.94505532]])"
      ]
     },
     "execution_count": 271,
     "metadata": {},
     "output_type": "execute_result"
    }
   ],
   "source": [
    "prob_matrix_f2(l1[:-1], l1[-1:], t_matrix_func1)"
   ]
  },
  {
   "cell_type": "code",
   "execution_count": 272,
   "metadata": {},
   "outputs": [
    {
     "data": {
      "image/png": "[encoded data removed]",
      "text/plain": [
       "<Figure size 432x288 with 1 Axes>"
      ]
     },
     "metadata": {
      "needs_background": "light"
     },
     "output_type": "display_data"
    }
   ],
   "source": [
    "plt.hist((prob_matrix_f2(l1[:-1], l1[-1:], t_matrix_func1)-T).flatten(), bins=100)\n",
    "plt.show()"
   ]
  },
  {
   "cell_type": "code",
   "execution_count": 276,
   "metadata": {},
   "outputs": [],
   "source": [
    "def log_likelihood_f2(G, G_c, labels, params, transition_func):\n",
    "    n = len(labels)\n",
    "    vec = np.zeros(n).reshape(-1, 1)\n",
    "    labels = np.array(labels).reshape(-1,1)\n",
    "    transition_predictions = transition_func(labels, params)\n",
    "    transition_predictions = np.clip(transition_predictions, .0001, .999)\n",
    "    prod = transition_predictions*G + (1-transition_predictions)*G_c\n",
    "    log_matrix = np.log(prod + np.identity(n))\n",
    "    return np.sum(log_matrix)/(n*(n-1))\n",
    "\n",
    "def find_opt_params_f2(g, transition_func, num_params=1):\n",
    "    labels = len(g.nodes)\n",
    "    G_c = nx.to_numpy_array(nx.complement(g))\n",
    "    G = nx.to_numpy_array(g)\n",
    "    func = lambda x: -log_likelihood_f2(G,G_c, x[:-num_params], x[-num_params:], transition_func)\n",
    "    bounds = [(0,1) for i in range(labels)] + [(None, None) for i in range(num_params)]\n",
    "    res = minimize(func, list(np.random.rand(labels + num_params)),\n",
    "                    method='BFGS', options={'maxiter': 100, 'disp': True})\n",
    "    return res.x"
   ]
  },
  {
   "cell_type": "code",
   "execution_count": 277,
   "metadata": {},
   "outputs": [],
   "source": [
    "def t_matrix_func3(labels, params=params):\n",
    "    return params[0] + params[1]*labels @ labels.T + params[2] * labels @ labels.T**2 + params[3] * labels @ labels.T**3"
   ]
  },
  {
   "cell_type": "code",
   "execution_count": 279,
   "metadata": {},
   "outputs": [
    {
     "name": "stdout",
     "output_type": "stream",
     "text": [
      "Warning: Maximum number of iterations has been exceeded.\n",
      "         Current function value: 0.645901\n",
      "         Iterations: 100\n",
      "         Function evaluations: 37515\n",
      "         Gradient evaluations: 123\n"
     ]
    }
   ],
   "source": [
    "l1 = find_opt_params_f2(G, t_matrix_func3,num_params=4 )"
   ]
  },
  {
   "cell_type": "code",
   "execution_count": 280,
   "metadata": {},
   "outputs": [
    {
     "data": {
      "text/plain": [
       "array([[0.55097829, 0.60085258, 0.56982898, ..., 0.56350674, 0.39096713,\n",
       "        0.54491096],\n",
       "       [0.60893504, 0.69026318, 0.63967416, ..., 0.62936471, 0.34801083,\n",
       "        0.59904127],\n",
       "       [0.57157945, 0.63263425, 0.59465597, ..., 0.58691645, 0.37569799,\n",
       "        0.56415198],\n",
       "       ...,\n",
       "       [0.56453968, 0.62177391, 0.58617216, ..., 0.57891695, 0.38091572,\n",
       "        0.55757699],\n",
       "       [0.38988032, 0.35232474, 0.37568566, ..., 0.38044634, 0.51036949,\n",
       "        0.39444905],\n",
       "       [0.54456646, 0.59096096, 0.56210192, ..., 0.55622078, 0.39571944,\n",
       "        0.53892245]])"
      ]
     },
     "execution_count": 280,
     "metadata": {},
     "output_type": "execute_result"
    }
   ],
   "source": [
    "prob_matrix_f2(l1[:-4], l1[-4:], t_matrix_func3)"
   ]
  },
  {
   "cell_type": "code",
   "execution_count": 281,
   "metadata": {},
   "outputs": [
    {
     "data": {
      "text/plain": [
       "array([-0.53922604,  0.54298433, -0.5252948 , -0.5786621 ,  0.58458775,\n",
       "        0.47113588, -0.53138559, -0.47689265, -0.44825243,  0.42988663,\n",
       "       -0.60748372, -0.62032639,  0.50017899, -0.46659141, -0.57357888,\n",
       "        0.51375566,  0.59178698, -0.60926466, -0.4714237 ,  0.54817128,\n",
       "       -0.57002499, -0.64811648,  0.6107947 , -0.62141727,  0.58332663,\n",
       "       -0.49678738,  0.50879864, -0.55096375,  0.55133579,  0.47190697,\n",
       "        0.57482278, -0.55880353,  0.63197573,  0.53394439,  0.69603632,\n",
       "        0.54799656,  0.57331302,  0.57569423,  0.46835461, -0.49692533,\n",
       "       -0.54775512, -0.50646981,  0.50311814, -0.58347946,  0.5137215 ,\n",
       "       -0.61254528,  0.53808472,  0.55373819, -0.49881766,  0.62095061,\n",
       "       -0.52453969, -0.49683074,  0.46954036,  0.52322201,  0.51756457,\n",
       "        0.65377129, -0.56415552,  0.49198637,  0.60501429, -0.54540418,\n",
       "        0.54446403, -0.53789605, -0.56941813, -0.52482557, -0.45088054,\n",
       "        0.51112791,  0.55808213, -0.55190671, -0.63760224,  0.46129396,\n",
       "        0.51090683, -0.4916866 ,  0.62091964, -0.53059196, -0.51255434,\n",
       "       -0.62783533,  0.56172309,  0.46108879,  0.51924048, -0.47112596,\n",
       "        0.47306542, -0.60143707, -0.5989642 ,  0.57420271, -0.65069118,\n",
       "       -0.54485979, -0.52992872, -0.60208183,  0.52045356,  0.48369208,\n",
       "        0.54408122,  0.521627  ,  0.50639603,  0.70779193, -0.56791032,\n",
       "       -0.54213852,  0.51518701,  0.63997037, -0.44841612,  0.44838393,\n",
       "       -0.55820638,  0.56792776, -0.56730736,  0.62719836, -0.49936677,\n",
       "       -0.52196197,  0.59140291,  0.59002975, -0.63879701, -0.4709222 ,\n",
       "        0.5325016 , -0.6082853 , -0.58787955, -0.50656792,  0.42688134,\n",
       "       -0.48430467,  0.49583489, -0.48660587,  0.58509639,  0.68908662,\n",
       "        0.41422121, -0.65126734,  0.66297038,  0.40978473,  0.54188876,\n",
       "        0.62508486,  0.61929061,  0.65104382, -0.46214354, -0.49228739,\n",
       "       -0.50259011,  0.6363446 , -0.52312474, -0.52147861,  0.53892941,\n",
       "       -0.47128249, -0.58409811,  0.59238223,  0.63925778, -0.48961398,\n",
       "        0.69317713,  0.56246659,  0.45527806, -0.57817364, -0.655746  ,\n",
       "        0.57769795, -0.60465769, -0.50802568, -0.54374378,  0.51667478,\n",
       "        0.61578272, -0.46679843, -0.46402032, -0.5343326 ,  0.44807813,\n",
       "       -0.55067619, -0.55325423, -0.60585079,  0.47264622, -0.51865959,\n",
       "       -0.52431787, -0.57371593,  0.47953058,  0.48112181, -0.60855872,\n",
       "        0.5577724 , -0.57392776, -0.62014656, -0.53235016,  0.53966747,\n",
       "        0.55744378,  0.53493792,  0.51611119,  0.60317107, -0.49053443,\n",
       "        0.62554725,  0.46562156,  0.56247034, -0.53550296,  0.50076846,\n",
       "        0.55168012,  0.56470171, -0.4908602 ,  0.51993785,  0.58455776,\n",
       "       -0.55354373, -0.5278808 , -0.58873715,  0.56632304,  0.57373751,\n",
       "        0.5413916 ,  0.48404911,  0.41257679,  0.49221458, -0.55025552,\n",
       "       -0.53578598, -0.51125251,  0.56825828, -0.5565213 ,  0.55835061,\n",
       "        0.50221875])"
      ]
     },
     "execution_count": 281,
     "metadata": {},
     "output_type": "execute_result"
    }
   ],
   "source": [
    "l"
   ]
  },
  {
   "cell_type": "code",
   "execution_count": 283,
   "metadata": {},
   "outputs": [
    {
     "data": {
      "image/png": "[encoded data removed]",
      "text/plain": [
       "<Figure size 432x288 with 1 Axes>"
      ]
     },
     "metadata": {
      "needs_background": "light"
     },
     "output_type": "display_data"
    }
   ],
   "source": [
    "plt.hist((prob_matrix_f2(l1[:-4], l1[-4:], t_matrix_func3)-T).flatten(), bins=100)\n",
    "plt.show()"
   ]
  },
  {
   "cell_type": "code",
   "execution_count": null,
   "metadata": {},
   "outputs": [],
   "source": []
  }
 ],
 "metadata": {
  "kernelspec": {
   "display_name": "Python 3",
   "language": "python",
   "name": "python3"
  },
  "language_info": {
   "codemirror_mode": {
    "name": "ipython",
    "version": 3
   },
   "file_extension": ".py",
   "mimetype": "text/x-python",
   "name": "python",
   "nbconvert_exporter": "python",
   "pygments_lexer": "ipython3",
   "version": "3.8.5"
  }
 },
 "nbformat": 4,
 "nbformat_minor": 4
}
